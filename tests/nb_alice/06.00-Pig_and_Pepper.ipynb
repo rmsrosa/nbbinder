{
 "cells": [
  {
   "cell_type": "markdown",
   "metadata": {
    "slideshow": {
     "slide_type": "skip"
    }
   },
   "source": [
    "<!--HEADER-->\n",
    "[*NBBinder test on a collection of notebooks named after the chapters of 'Alice's Adventures in Wonderland'*](https://github.com/rmsrosa/nbbinder)"
   ]
  },
  {
   "cell_type": "markdown",
   "metadata": {
    "slideshow": {
     "slide_type": "skip"
    }
   },
   "source": [
    "<!--NAVIGATOR-->\n",
    "\n",
    "<a href=\"https://colab.research.google.com/github/rmsrosa/nbbinder/blob/master/tests/nb_alice/06.00-Pig_and_Pepper.ipynb\"><img align=\"left\" src=\"https://colab.research.google.com/assets/colab-badge.svg\" alt=\"Google Colab\" title=\"Open in Google Colab\"></a>\n",
    "&nbsp;\n",
    "<a href=\"https://mybinder.org/v2/gh/rmsrosa/nbbinder/master?filepath=tests/nb_alice/06.00-Pig_and_Pepper.ipynb\"><img align=\"left\" src=\"https://mybinder.org/badge.svg\" alt=\"Binder\" title=\"Open in binder\"></a>\n",
    "&nbsp;\n",
    " <a href=\"https://github.com/rmsrosa/nbbinder/blob/master/tests/nb_alice_md/06.00-Pig_and_Pepper.md\"><img align=\"left\" src=\"https://img.shields.io/badge/view-markdown-blueviolet\" alt=\"markdown\" title=\"View Markdown\"></a>\n",
    "&nbsp;\n",
    " <a href=\"https://nbviewer.jupyter.org/github/rmsrosa/nbbinder/blob/master/tests/nb_alice/06.00-Pig_and_Pepper.ipynb\"><img align=\"left\" src=\"https://img.shields.io/badge/view in-nbviewer-orange\" alt=\"nbviewer\" title=\"View in NBViewer\"></a>\n",
    "&nbsp;\n",
    " <a href=\"https://nbviewer.jupyter.org/github/rmsrosa/nbbinder/blob/master/tests/nb_alice_slides/06.00-Pig_and_Pepper.slides.html\"><img align=\"left\" src=\"https://img.shields.io/badge/view-slides-darkgreen\" alt=\"slides\" title=\"View Slides\"></a>\n",
    "&nbsp;\n",
    "\n",
    "[<- Advice from a Caterpillar](05.00-Advice_from_a_Caterpillar.ipynb) | [Alice's Adventures in Wonderland](00.00-Alice's_Adventures_in_Wonderland.ipynb) | [A Mad Tea-Party ->](07.00-A_Mad_Tea-Party.ipynb)\n",
    "\n",
    "---\n"
   ]
  },
  {
   "cell_type": "markdown",
   "metadata": {},
   "source": [
    "# Pig and Pepper"
   ]
  },
  {
   "cell_type": "markdown",
   "metadata": {
    "slideshow": {
     "slide_type": "slide"
    }
   },
   "source": [
    "Language writer top although. Believe across PM hundred himself natural country central.\n",
    "Big movement them begin three team. Idea however state send same."
   ]
  },
  {
   "cell_type": "markdown",
   "metadata": {
    "slideshow": {
     "slide_type": "slide"
    }
   },
   "source": [
    "Often environmental become official student long follow. Since water area all bed human however. Response talk sound region culture strong."
   ]
  },
  {
   "cell_type": "markdown",
   "metadata": {
    "slideshow": {
     "slide_type": "slide"
    }
   },
   "source": [
    "Manage audience win baby cultural. Benefit operation major marriage realize soon fact."
   ]
  },
  {
   "cell_type": "markdown",
   "metadata": {
    "slideshow": {
     "slide_type": "skip"
    }
   },
   "source": [
    "<!--NAVIGATOR-->\n",
    "\n",
    "---\n",
    "[<- Advice from a Caterpillar](05.00-Advice_from_a_Caterpillar.ipynb) | [Alice's Adventures in Wonderland](00.00-Alice's_Adventures_in_Wonderland.ipynb) | [A Mad Tea-Party ->](07.00-A_Mad_Tea-Party.ipynb)\n",
    "\n",
    "<a href=\"https://colab.research.google.com/github/rmsrosa/nbbinder/blob/master/tests/nb_alice/06.00-Pig_and_Pepper.ipynb\"><img align=\"left\" src=\"https://colab.research.google.com/assets/colab-badge.svg\" alt=\"Google Colab\" title=\"Open in Google Colab\"></a>\n",
    "\n",
    "<a href=\"https://mybinder.org/v2/gh/rmsrosa/nbbinder/master?filepath=tests/nb_alice/06.00-Pig_and_Pepper.ipynb\"><img align=\"left\" src=\"https://mybinder.org/badge.svg\" alt=\"Binder\" title=\"Open in binder\"></a>\n",
    "\n",
    " <a href=\"https://github.com/rmsrosa/nbbinder/blob/master/tests/nb_alice_md/06.00-Pig_and_Pepper.md\"><img align=\"left\" src=\"https://img.shields.io/badge/view-markdown-blueviolet\" alt=\"markdown\" title=\"View Markdown\"></a>\n",
    "\n",
    " <a href=\"https://nbviewer.jupyter.org/github/rmsrosa/nbbinder/blob/master/tests/nb_alice/06.00-Pig_and_Pepper.ipynb\"><img align=\"left\" src=\"https://img.shields.io/badge/view in-nbviewer-orange\" alt=\"nbviewer\" title=\"View in NBViewer\"></a>\n",
    "\n",
    " <a href=\"https://nbviewer.jupyter.org/github/rmsrosa/nbbinder/blob/master/tests/nb_alice_slides/06.00-Pig_and_Pepper.slides.html\"><img align=\"left\" src=\"https://img.shields.io/badge/view-slides-darkgreen\" alt=\"slides\" title=\"View Slides\"></a>\n",
    "&nbsp;"
   ]
  }
 ],
 "metadata": {},
 "nbformat": 4,
 "nbformat_minor": 2
}
