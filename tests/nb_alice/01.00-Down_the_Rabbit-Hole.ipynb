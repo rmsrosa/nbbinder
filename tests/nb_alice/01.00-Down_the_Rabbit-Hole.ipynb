{
 "cells": [
  {
   "cell_type": "markdown",
   "metadata": {},
   "source": [
    "<!--HEADER-->\n",
    "[*NBBinder test based on 'Alice's Adventures in Wonderland' chapter names*](https://github.com/rmsrosa/nbbinder)"
   ]
  },
  {
   "cell_type": "markdown",
   "metadata": {},
   "source": [
    "<!--NAVIGATOR-->\n",
    "\n",
    "<a href=\"https://colab.research.google.com/github/rmsrosa/nbbinder/blob/master/tests/nb_alice/01.00-Down_the_Rabbit-Hole.ipynb\"><img align=\"left\" src=\"https://colab.research.google.com/assets/colab-badge.svg\" alt=\"Open in Colab\" title=\"Open and Execute in Google Colaboratory\"></a>\n",
    "&nbsp;\n",
    "<a href=\"https://mybinder.org/v2/gh/rmsrosa/nbbinder/master?filepath=tests/nb_alice/01.00-Down_the_Rabbit-Hole.ipynb\"><img align=\"left\" src=\"https://mybinder.org/badge.svg\" alt=\"Open in binder\" title=\"Open and Execute in Binder\"></a>\n",
    "&nbsp;\n",
    "\n",
    "[<- Alice's Adventures in Wonderland](00.00-Alice's_Adventures_in_Wonderland.ipynb) | [Alice's Adventures in Wonderland](00.00-Alice's_Adventures_in_Wonderland.ipynb) | [The Pool of Tears ->](02.00-The_Pool_of_Tears.ipynb)\n",
    "\n",
    "---\n"
   ]
  },
  {
   "cell_type": "markdown",
   "metadata": {},
   "source": [
    "# Down the Rabbit-Hole"
   ]
  },
  {
   "cell_type": "markdown",
   "metadata": {},
   "source": [
    "That's all for this Section"
   ]
  },
  {
   "cell_type": "markdown",
   "metadata": {},
   "source": [
    "<!--NAVIGATOR-->\n",
    "\n",
    "---\n",
    "[<- Alice's Adventures in Wonderland](00.00-Alice's_Adventures_in_Wonderland.ipynb) | [Alice's Adventures in Wonderland](00.00-Alice's_Adventures_in_Wonderland.ipynb) | [The Pool of Tears ->](02.00-The_Pool_of_Tears.ipynb)\n",
    "\n",
    "<a href=\"https://colab.research.google.com/github/rmsrosa/nbbinder/blob/master/tests/nb_alice/01.00-Down_the_Rabbit-Hole.ipynb\"><img align=\"left\" src=\"https://colab.research.google.com/assets/colab-badge.svg\" alt=\"Open in Colab\" title=\"Open and Execute in Google Colaboratory\"></a>\n",
    "\n",
    "<a href=\"https://mybinder.org/v2/gh/rmsrosa/nbbinder/master?filepath=tests/nb_alice/01.00-Down_the_Rabbit-Hole.ipynb\"><img align=\"left\" src=\"https://mybinder.org/badge.svg\" alt=\"Open in binder\" title=\"Open and Execute in Binder\"></a>\n",
    "&nbsp;"
   ]
  }
 ],
 "metadata": {},
 "nbformat": 4,
 "nbformat_minor": 2
}
