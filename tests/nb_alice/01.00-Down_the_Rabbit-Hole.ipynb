{
 "cells": [
  {
   "cell_type": "markdown",
   "metadata": {},
   "source": [
    "<!--HEADER-->\n",
    "[*NBBinder test on a collection of notebooks named after the chapters of 'Alice's Adventures in Wonderland'*](https://github.com/rmsrosa/nbbinder)"
   ]
  },
  {
   "cell_type": "markdown",
   "metadata": {},
   "source": [
    "<!--NAVIGATOR-->\n",
    "\n",
    "<a href=\"https://colab.research.google.com/github/rmsrosa/nbbinder/blob/master/tests/nb_alice/01.00-Down_the_Rabbit-Hole.ipynb\"><img align=\"left\" src=\"https://colab.research.google.com/assets/colab-badge.svg\" alt=\"Google Colab\" title=\"Open in Google Colab\"></a>\n",
    "&nbsp;\n",
    "<a href=\"https://mybinder.org/v2/gh/rmsrosa/nbbinder/master?filepath=tests/nb_alice/01.00-Down_the_Rabbit-Hole.ipynb\"><img align=\"left\" src=\"https://mybinder.org/badge.svg\" alt=\"Binder\" title=\"Open in binder\"></a>\n",
    "&nbsp;\n",
    " <a href=\"https://github.com/rmsrosa/nbbinder/blob/master/tests/nb_alice_md/01.00-Down_the_Rabbit-Hole.md\"><img align=\"left\" src=\"https://img.shields.io/badge/view-markdown-darkgreen\" alt=\"markdown\" title=\"View Markdown\"></a>\n",
    "&nbsp;\n",
    " <a href=\"https://nbviewer.jupyter.org/github/rmsrosa/nbbinder/blob/master/tests/nb_alice/01.00-Down_the_Rabbit-Hole.ipynb\"><img align=\"left\" src=\"https://img.shields.io/badge/view in-nbviewer-orange\" alt=\"nbviewer\" title=\"View in NBViewer\"></a>\n",
    "&nbsp;\n",
    "\n",
    "[<- Alice's Adventures in Wonderland](00.00-Alice's_Adventures_in_Wonderland.ipynb) | [Alice's Adventures in Wonderland](00.00-Alice's_Adventures_in_Wonderland.ipynb) | [The Pool of Tears ->](02.00-The_Pool_of_Tears.ipynb)\n",
    "\n",
    "---\n"
   ]
  },
  {
   "cell_type": "markdown",
   "metadata": {},
   "source": [
    "# Down the Rabbit-Hole"
   ]
  },
  {
   "cell_type": "markdown",
   "metadata": {},
   "source": [
    "Always hot foot will push. Mr TV instead rate suggest.\n",
    "Share everyone hundred north. Box heart degree respond onto appear theory. Discussion make herself able lose fear."
   ]
  },
  {
   "cell_type": "markdown",
   "metadata": {},
   "source": [
    "Woman send yet fear rather form. None meeting see authority really. Fund free fly environment service. Old build early head that house professor analysis."
   ]
  },
  {
   "cell_type": "markdown",
   "metadata": {},
   "source": [
    "Girl bar treat adult one. Director long rate put yard there performance. Certainly we during clearly. Senior reality hotel stuff can yourself not."
   ]
  },
  {
   "cell_type": "markdown",
   "metadata": {},
   "source": [
    "<!--NAVIGATOR-->\n",
    "\n",
    "---\n",
    "[<- Alice's Adventures in Wonderland](00.00-Alice's_Adventures_in_Wonderland.ipynb) | [Alice's Adventures in Wonderland](00.00-Alice's_Adventures_in_Wonderland.ipynb) | [The Pool of Tears ->](02.00-The_Pool_of_Tears.ipynb)\n",
    "\n",
    "<a href=\"https://colab.research.google.com/github/rmsrosa/nbbinder/blob/master/tests/nb_alice/01.00-Down_the_Rabbit-Hole.ipynb\"><img align=\"left\" src=\"https://colab.research.google.com/assets/colab-badge.svg\" alt=\"Google Colab\" title=\"Open in Google Colab\"></a>\n",
    "\n",
    "<a href=\"https://mybinder.org/v2/gh/rmsrosa/nbbinder/master?filepath=tests/nb_alice/01.00-Down_the_Rabbit-Hole.ipynb\"><img align=\"left\" src=\"https://mybinder.org/badge.svg\" alt=\"Binder\" title=\"Open in binder\"></a>\n",
    "\n",
    " <a href=\"https://github.com/rmsrosa/nbbinder/blob/master/tests/nb_alice_md/01.00-Down_the_Rabbit-Hole.md\"><img align=\"left\" src=\"https://img.shields.io/badge/view-markdown-darkgreen\" alt=\"markdown\" title=\"View Markdown\"></a>\n",
    "\n",
    " <a href=\"https://nbviewer.jupyter.org/github/rmsrosa/nbbinder/blob/master/tests/nb_alice/01.00-Down_the_Rabbit-Hole.ipynb\"><img align=\"left\" src=\"https://img.shields.io/badge/view in-nbviewer-orange\" alt=\"nbviewer\" title=\"View in NBViewer\"></a>\n",
    "&nbsp;"
   ]
  }
 ],
 "metadata": {},
 "nbformat": 4,
 "nbformat_minor": 2
}
