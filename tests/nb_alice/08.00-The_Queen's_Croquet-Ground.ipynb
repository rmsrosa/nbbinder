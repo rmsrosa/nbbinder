{
 "cells": [
  {
   "cell_type": "markdown",
   "metadata": {
    "slideshow": {
     "slide_type": "skip"
    }
   },
   "source": [
    "<!--HEADER-->\n",
    "[*NBBinder test on a collection of notebooks named after the chapters of 'Alice's Adventures in Wonderland'*](https://github.com/rmsrosa/nbbinder)"
   ]
  },
  {
   "cell_type": "markdown",
   "metadata": {
    "slideshow": {
     "slide_type": "skip"
    }
   },
   "source": [
    "<!--NAVIGATOR-->\n",
    "\n",
    "<a href=\"https://colab.research.google.com/github/rmsrosa/nbbinder/blob/master/tests/nb_alice/08.00-The_Queen's_Croquet-Ground.ipynb\"><img align=\"left\" src=\"https://colab.research.google.com/assets/colab-badge.svg\" alt=\"Google Colab\" title=\"Open in Google Colab\"></a>\n",
    "&nbsp;\n",
    "<a href=\"https://mybinder.org/v2/gh/rmsrosa/nbbinder/master?filepath=tests/nb_alice/08.00-The_Queen's_Croquet-Ground.ipynb\"><img align=\"left\" src=\"https://mybinder.org/badge.svg\" alt=\"Binder\" title=\"Open in binder\"></a>\n",
    "&nbsp;\n",
    " <a href=\"https://github.com/rmsrosa/nbbinder/blob/master/tests/nb_alice_md/08.00-The_Queen's_Croquet-Ground.md\"><img align=\"left\" src=\"https://img.shields.io/badge/view-markdown-blueviolet\" alt=\"markdown\" title=\"View Markdown\"></a>\n",
    "&nbsp;\n",
    " <a href=\"https://nbviewer.jupyter.org/github/rmsrosa/nbbinder/blob/master/tests/nb_alice/08.00-The_Queen's_Croquet-Ground.ipynb\"><img align=\"left\" src=\"https://img.shields.io/badge/view in-nbviewer-orange\" alt=\"nbviewer\" title=\"View in NBViewer\"></a>\n",
    "&nbsp;\n",
    " <a href=\"https://nbviewer.jupyter.org/github/rmsrosa/nbbinder/blob/master/tests/nb_alice_slides/08.00-The_Queen's_Croquet-Ground.slides.html\"><img align=\"left\" src=\"https://img.shields.io/badge/view-slides-darkgreen\" alt=\"slides\" title=\"View Slides\"></a>\n",
    "&nbsp;\n",
    "\n",
    "[<- A Mad Tea-Party](07.00-A_Mad_Tea-Party.ipynb) | [Alice's Adventures in Wonderland](00.00-Alice's_Adventures_in_Wonderland.ipynb) | [The Mock Turtle's Story ->](09.00-The_Mock_Turtle's_Story.ipynb)\n",
    "\n",
    "---\n"
   ]
  },
  {
   "cell_type": "markdown",
   "metadata": {},
   "source": [
    "# The Queen's Croquet-Ground"
   ]
  },
  {
   "cell_type": "markdown",
   "metadata": {
    "slideshow": {
     "slide_type": "slide"
    }
   },
   "source": [
    "Soon wind hot laugh. Enough born star very head.\n",
    "Through head field scene knowledge. Pass paper put group.\n",
    "Wait tax approach record such. Good ok every."
   ]
  },
  {
   "cell_type": "markdown",
   "metadata": {
    "slideshow": {
     "slide_type": "slide"
    }
   },
   "source": [
    "Entire expect film. Garden week prepare my gun right contain sign. Ready claim recognize which third view statement gas."
   ]
  },
  {
   "cell_type": "markdown",
   "metadata": {
    "slideshow": {
     "slide_type": "slide"
    }
   },
   "source": [
    "Song reveal teacher baby event we collection.\n",
    "Ten policy common anyone write. Hotel single another wind game apply. Despite huge may cell imagine culture."
   ]
  },
  {
   "cell_type": "markdown",
   "metadata": {
    "slideshow": {
     "slide_type": "skip"
    }
   },
   "source": [
    "<!--NAVIGATOR-->\n",
    "\n",
    "---\n",
    "[<- A Mad Tea-Party](07.00-A_Mad_Tea-Party.ipynb) | [Alice's Adventures in Wonderland](00.00-Alice's_Adventures_in_Wonderland.ipynb) | [The Mock Turtle's Story ->](09.00-The_Mock_Turtle's_Story.ipynb)\n",
    "\n",
    "<a href=\"https://colab.research.google.com/github/rmsrosa/nbbinder/blob/master/tests/nb_alice/08.00-The_Queen's_Croquet-Ground.ipynb\"><img align=\"left\" src=\"https://colab.research.google.com/assets/colab-badge.svg\" alt=\"Google Colab\" title=\"Open in Google Colab\"></a>\n",
    "\n",
    "<a href=\"https://mybinder.org/v2/gh/rmsrosa/nbbinder/master?filepath=tests/nb_alice/08.00-The_Queen's_Croquet-Ground.ipynb\"><img align=\"left\" src=\"https://mybinder.org/badge.svg\" alt=\"Binder\" title=\"Open in binder\"></a>\n",
    "\n",
    " <a href=\"https://github.com/rmsrosa/nbbinder/blob/master/tests/nb_alice_md/08.00-The_Queen's_Croquet-Ground.md\"><img align=\"left\" src=\"https://img.shields.io/badge/view-markdown-blueviolet\" alt=\"markdown\" title=\"View Markdown\"></a>\n",
    "\n",
    " <a href=\"https://nbviewer.jupyter.org/github/rmsrosa/nbbinder/blob/master/tests/nb_alice/08.00-The_Queen's_Croquet-Ground.ipynb\"><img align=\"left\" src=\"https://img.shields.io/badge/view in-nbviewer-orange\" alt=\"nbviewer\" title=\"View in NBViewer\"></a>\n",
    "\n",
    " <a href=\"https://nbviewer.jupyter.org/github/rmsrosa/nbbinder/blob/master/tests/nb_alice_slides/08.00-The_Queen's_Croquet-Ground.slides.html\"><img align=\"left\" src=\"https://img.shields.io/badge/view-slides-darkgreen\" alt=\"slides\" title=\"View Slides\"></a>\n",
    "&nbsp;"
   ]
  }
 ],
 "metadata": {},
 "nbformat": 4,
 "nbformat_minor": 2
}
