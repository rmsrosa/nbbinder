{
 "cells": [
  {
   "cell_type": "markdown",
   "metadata": {},
   "source": [
    "<!--HEADER-->\n",
    "[*NBBinder test on a collection of notebooks named after the chapters of 'Alice's Adventures in Wonderland'*](https://github.com/rmsrosa/nbbinder)"
   ]
  },
  {
   "cell_type": "markdown",
   "metadata": {},
   "source": [
    "<!--NAVIGATOR-->\n",
    "\n",
    "<a href=\"https://colab.research.google.com/github/rmsrosa/nbbinder/blob/master/tests/nb_alice/03.00-A_Caucus-Race_and_a_Long_Tale.ipynb\"><img align=\"left\" src=\"https://colab.research.google.com/assets/colab-badge.svg\" alt=\"Open in Google Colab\" title=\"Open in Google Colab\"></a>\n",
    "&nbsp;\n",
    "<a href=\"https://mybinder.org/v2/gh/rmsrosa/nbbinder/master?filepath=tests/nb_alice/03.00-A_Caucus-Race_and_a_Long_Tale.ipynb\"><img align=\"left\" src=\"https://mybinder.org/badge.svg\" alt=\"Open in binder\" title=\"Open in binder\"></a>\n",
    "&nbsp;\n",
    " <a href=\"https://rmsrosa.github.io/nbbinder/tests/nb_alice/slides/03.00-A_Caucus-Race_and_a_Long_Tale.slides.html\"><img align=\"left\" src=\"https://img.shields.io/badge/view-slides-green\" alt=\"View Slides\" title=\"View Slides\"></a>\n",
    "&nbsp;\n",
    "\n",
    "[<- The Pool of Tears](02.00-The_Pool_of_Tears.ipynb) | [Alice's Adventures in Wonderland](00.00-Alice's_Adventures_in_Wonderland.ipynb) | [The Rabbit Sends in a Little Bill ->](04.00-The_Rabbit_Sends_in_a_Little_Bill.ipynb)\n",
    "\n",
    "---\n"
   ]
  },
  {
   "cell_type": "markdown",
   "metadata": {},
   "source": [
    "# A Caucus-Race and a Long Tale"
   ]
  },
  {
   "cell_type": "markdown",
   "metadata": {},
   "source": [
    "That's all for this Section"
   ]
  },
  {
   "cell_type": "markdown",
   "metadata": {},
   "source": [
    "<!--NAVIGATOR-->\n",
    "\n",
    "---\n",
    "[<- The Pool of Tears](02.00-The_Pool_of_Tears.ipynb) | [Alice's Adventures in Wonderland](00.00-Alice's_Adventures_in_Wonderland.ipynb) | [The Rabbit Sends in a Little Bill ->](04.00-The_Rabbit_Sends_in_a_Little_Bill.ipynb)\n",
    "\n",
    "<a href=\"https://colab.research.google.com/github/rmsrosa/nbbinder/blob/master/tests/nb_alice/03.00-A_Caucus-Race_and_a_Long_Tale.ipynb\"><img align=\"left\" src=\"https://colab.research.google.com/assets/colab-badge.svg\" alt=\"Open in Google Colab\" title=\"Open in Google Colab\"></a>\n",
    "\n",
    "<a href=\"https://mybinder.org/v2/gh/rmsrosa/nbbinder/master?filepath=tests/nb_alice/03.00-A_Caucus-Race_and_a_Long_Tale.ipynb\"><img align=\"left\" src=\"https://mybinder.org/badge.svg\" alt=\"Open in binder\" title=\"Open in binder\"></a>\n",
    "\n",
    " <a href=\"https://rmsrosa.github.io/nbbinder/tests/nb_alice/slides/03.00-A_Caucus-Race_and_a_Long_Tale.slides.html\"><img align=\"left\" src=\"https://img.shields.io/badge/view-slides-green\" alt=\"View Slides\" title=\"View Slides\"></a>\n",
    "&nbsp;"
   ]
  }
 ],
 "metadata": {},
 "nbformat": 4,
 "nbformat_minor": 2
}
