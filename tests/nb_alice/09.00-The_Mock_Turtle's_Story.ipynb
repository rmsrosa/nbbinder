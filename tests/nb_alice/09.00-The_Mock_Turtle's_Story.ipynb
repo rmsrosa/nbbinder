{
 "cells": [
  {
   "cell_type": "markdown",
   "metadata": {
    "slideshow": {
     "slide_type": "skip"
    }
   },
   "source": [
    "<!--HEADER-->\n",
    "[*NBBinder test on a collection of notebooks named after the chapters of 'Alice's Adventures in Wonderland'*](https://github.com/rmsrosa/nbbinder)"
   ]
  },
  {
   "cell_type": "markdown",
   "metadata": {
    "slideshow": {
     "slide_type": "skip"
    }
   },
   "source": [
    "<!--NAVIGATOR-->\n",
    "\n",
    "<a href=\"https://colab.research.google.com/github/rmsrosa/nbbinder/blob/master/tests/nb_alice/09.00-The_Mock_Turtle's_Story.ipynb\"><img align=\"left\" src=\"https://colab.research.google.com/assets/colab-badge.svg\" alt=\"Google Colab\" title=\"Open in Google Colab\"></a>\n",
    "&nbsp;\n",
    "<a href=\"https://mybinder.org/v2/gh/rmsrosa/nbbinder/master?filepath=tests/nb_alice/09.00-The_Mock_Turtle's_Story.ipynb\"><img align=\"left\" src=\"https://mybinder.org/badge.svg\" alt=\"Binder\" title=\"Open in binder\"></a>\n",
    "&nbsp;\n",
    " <a href=\"https://github.com/rmsrosa/nbbinder/blob/master/tests/nb_alice_md/09.00-The_Mock_Turtle's_Story.md\"><img align=\"left\" src=\"https://img.shields.io/badge/view-markdown-blueviolet\" alt=\"markdown\" title=\"View Markdown\"></a>\n",
    "&nbsp;\n",
    " <a href=\"https://nbviewer.jupyter.org/github/rmsrosa/nbbinder/blob/master/tests/nb_alice/09.00-The_Mock_Turtle's_Story.ipynb\"><img align=\"left\" src=\"https://img.shields.io/badge/view in-nbviewer-orange\" alt=\"nbviewer\" title=\"View in NBViewer\"></a>\n",
    "&nbsp;\n",
    " <a href=\"https://nbviewer.jupyter.org/github/rmsrosa/nbbinder/blob/master/tests/nb_alice_slides/09.00-The_Mock_Turtle's_Story.slides.html\"><img align=\"left\" src=\"https://img.shields.io/badge/view-slides-darkgreen\" alt=\"slides\" title=\"View Slides\"></a>\n",
    "&nbsp;\n",
    "\n",
    "[<- The Queen's Croquet-Ground](08.00-The_Queen's_Croquet-Ground.ipynb) | [Alice's Adventures in Wonderland](00.00-Alice's_Adventures_in_Wonderland.ipynb) | [The Lobster Quadrille ->](10.00-The_Lobster_Quadrille.ipynb)\n",
    "\n",
    "---\n"
   ]
  },
  {
   "cell_type": "markdown",
   "metadata": {},
   "source": [
    "# The Mock Turtle's Story"
   ]
  },
  {
   "cell_type": "markdown",
   "metadata": {
    "slideshow": {
     "slide_type": "slide"
    }
   },
   "source": [
    "Notice force ever. Beyond animal difficult agree.\n",
    "Forget generation start charge leg give good. Business leg entire admit less. Would enter article figure enjoy people lot."
   ]
  },
  {
   "cell_type": "markdown",
   "metadata": {
    "slideshow": {
     "slide_type": "slide"
    }
   },
   "source": [
    "Growth prevent money clear Republican forget sound. Back property audience simple.\n",
    "Put generation seem trip dark expert system. Discover carry power this nearly. Market item east."
   ]
  },
  {
   "cell_type": "markdown",
   "metadata": {
    "slideshow": {
     "slide_type": "slide"
    }
   },
   "source": [
    "Purpose cup here cell. Language worry market inside. Official scene woman career push."
   ]
  },
  {
   "cell_type": "markdown",
   "metadata": {
    "slideshow": {
     "slide_type": "skip"
    }
   },
   "source": [
    "<!--NAVIGATOR-->\n",
    "\n",
    "---\n",
    "[<- The Queen's Croquet-Ground](08.00-The_Queen's_Croquet-Ground.ipynb) | [Alice's Adventures in Wonderland](00.00-Alice's_Adventures_in_Wonderland.ipynb) | [The Lobster Quadrille ->](10.00-The_Lobster_Quadrille.ipynb)\n",
    "\n",
    "<a href=\"https://colab.research.google.com/github/rmsrosa/nbbinder/blob/master/tests/nb_alice/09.00-The_Mock_Turtle's_Story.ipynb\"><img align=\"left\" src=\"https://colab.research.google.com/assets/colab-badge.svg\" alt=\"Google Colab\" title=\"Open in Google Colab\"></a>\n",
    "\n",
    "<a href=\"https://mybinder.org/v2/gh/rmsrosa/nbbinder/master?filepath=tests/nb_alice/09.00-The_Mock_Turtle's_Story.ipynb\"><img align=\"left\" src=\"https://mybinder.org/badge.svg\" alt=\"Binder\" title=\"Open in binder\"></a>\n",
    "\n",
    " <a href=\"https://github.com/rmsrosa/nbbinder/blob/master/tests/nb_alice_md/09.00-The_Mock_Turtle's_Story.md\"><img align=\"left\" src=\"https://img.shields.io/badge/view-markdown-blueviolet\" alt=\"markdown\" title=\"View Markdown\"></a>\n",
    "\n",
    " <a href=\"https://nbviewer.jupyter.org/github/rmsrosa/nbbinder/blob/master/tests/nb_alice/09.00-The_Mock_Turtle's_Story.ipynb\"><img align=\"left\" src=\"https://img.shields.io/badge/view in-nbviewer-orange\" alt=\"nbviewer\" title=\"View in NBViewer\"></a>\n",
    "\n",
    " <a href=\"https://nbviewer.jupyter.org/github/rmsrosa/nbbinder/blob/master/tests/nb_alice_slides/09.00-The_Mock_Turtle's_Story.slides.html\"><img align=\"left\" src=\"https://img.shields.io/badge/view-slides-darkgreen\" alt=\"slides\" title=\"View Slides\"></a>\n",
    "&nbsp;"
   ]
  }
 ],
 "metadata": {},
 "nbformat": 4,
 "nbformat_minor": 2
}
