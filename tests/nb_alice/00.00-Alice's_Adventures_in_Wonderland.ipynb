{
 "cells": [
  {
   "cell_type": "markdown",
   "metadata": {},
   "source": [
    "<!--HEADER-->\n",
    "[*NBBinder test on a collection of notebooks named after the chapters of 'Alice's Adventures in Wonderland'*](https://github.com/rmsrosa/nbbinder)"
   ]
  },
  {
   "cell_type": "markdown",
   "metadata": {},
   "source": [
    "<!--NAVIGATOR-->\n",
    "\n",
    "<a href=\"https://colab.research.google.com/github/rmsrosa/nbbinder/blob/master/tests/nb_alice/00.00-Alice's_Adventures_in_Wonderland.ipynb\"><img align=\"left\" src=\"https://colab.research.google.com/assets/colab-badge.svg\" alt=\"Open in Colab\" title=\"Open and Execute in Google Colaboratory\"></a>\n",
    "&nbsp;\n",
    "<a href=\"https://mybinder.org/v2/gh/rmsrosa/nbbinder/master?filepath=tests/nb_alice/00.00-Alice's_Adventures_in_Wonderland.ipynb\"><img align=\"left\" src=\"https://mybinder.org/badge.svg\" alt=\"Open in binder\" title=\"Open and Execute in Binder\"></a>\n",
    "&nbsp;\n",
    "\n",
    "| [Alice's Adventures in Wonderland](00.00-Alice's_Adventures_in_Wonderland.ipynb) | [Down the Rabbit-Hole ->](01.00-Down_the_Rabbit-Hole.ipynb)\n",
    "\n",
    "---\n"
   ]
  },
  {
   "cell_type": "markdown",
   "metadata": {},
   "source": [
    "# Alice's Adventures in Wonderland"
   ]
  },
  {
   "cell_type": "markdown",
   "metadata": {},
   "source": [
    "That's all for this part of the Front Matter"
   ]
  },
  {
   "cell_type": "markdown",
   "metadata": {},
   "source": [
    "<!--TABLE_OF_CONTENTS-->\n",
    "## [](#)\n",
    "\n",
    "### [Alice's Adventures in Wonderland](00.00-Alice's_Adventures_in_Wonderland.ipynb)\n",
    "\n",
    "### [1. Down the Rabbit-Hole](01.00-Down_the_Rabbit-Hole.ipynb)\n",
    "\n",
    "### [2. The Pool of Tears](02.00-The_Pool_of_Tears.ipynb)\n",
    "\n",
    "### [3. A Caucus-Race and a Long Tale](03.00-A_Caucus-Race_and_a_Long_Tale.ipynb)\n",
    "\n",
    "### [4. The Rabbit Sends in a Little Bill](04.00-The_Rabbit_Sends_in_a_Little_Bill.ipynb)\n",
    "\n",
    "### [5. Advice from a Caterpillar](05.00-Advice_from_a_Caterpillar.ipynb)\n",
    "\n",
    "### [6. Pig and Pepper](06.00-Pig_and_Pepper.ipynb)\n",
    "\n",
    "### [7. A Mad Tea-Party](07.00-A_Mad_Tea-Party.ipynb)\n",
    "\n",
    "### [8. The Queen's Croquet-Ground](08.00-The_Queen's_Croquet-Ground.ipynb)\n",
    "\n",
    "### [9. The Mock Turtle's Story](09.00-The_Mock_Turtle's_Story.ipynb)\n",
    "\n",
    "### [10. The Lobster Quadrille](10.00-The_Lobster_Quadrille.ipynb)\n",
    "\n",
    "### [11. Who Stole the Tarts?](11.00-Who_Stole_the_Tarts+u003f.ipynb)\n",
    "\n",
    "### [12. Alice's Evidence](12.00-Alice's_Evidence.ipynb)\n",
    "\n"
   ]
  },
  {
   "cell_type": "markdown",
   "metadata": {},
   "source": [
    "<!--NAVIGATOR-->\n",
    "\n",
    "---\n",
    "| [Alice's Adventures in Wonderland](00.00-Alice's_Adventures_in_Wonderland.ipynb) | [Down the Rabbit-Hole ->](01.00-Down_the_Rabbit-Hole.ipynb)\n",
    "\n",
    "<a href=\"https://colab.research.google.com/github/rmsrosa/nbbinder/blob/master/tests/nb_alice/00.00-Alice's_Adventures_in_Wonderland.ipynb\"><img align=\"left\" src=\"https://colab.research.google.com/assets/colab-badge.svg\" alt=\"Open in Colab\" title=\"Open and Execute in Google Colaboratory\"></a>\n",
    "\n",
    "<a href=\"https://mybinder.org/v2/gh/rmsrosa/nbbinder/master?filepath=tests/nb_alice/00.00-Alice's_Adventures_in_Wonderland.ipynb\"><img align=\"left\" src=\"https://mybinder.org/badge.svg\" alt=\"Open in binder\" title=\"Open and Execute in Binder\"></a>\n",
    "&nbsp;"
   ]
  }
 ],
 "metadata": {},
 "nbformat": 4,
 "nbformat_minor": 2
}
