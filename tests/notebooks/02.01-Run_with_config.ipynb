{
 "cells": [
  {
   "cell_type": "markdown",
   "metadata": {},
   "source": [
    "<!--HEADER-->\n",
    "*[Header for the notebooks in the nbbinder module](https://github.com/rmsrosa/nbbinder)*"
   ]
  },
  {
   "cell_type": "markdown",
   "metadata": {},
   "source": [
    "<!--NAVIGATOR-->\n",
    "\n",
    "<a href=\"https://colab.research.google.com/github/rmsrosa/nbbinder/blob/master/tests/notebooks/02.01-Run_with_config.ipynb\"><img align=\"left\" src=\"https://colab.research.google.com/assets/colab-badge.svg\" alt=\"Open in Colab\" title=\"Open and Execute in Google Colaboratory\"></a>\n",
    "&nbsp;\n",
    "<a href=\"https://mybinder.org/v2/gh/rmsrosa/nbbinder/master?filepath=tests/notebooks/02.01-Run_with_config.ipynb\"><img align=\"left\" src=\"https://mybinder.org/badge.svg\" alt=\"Open in binder\" title=\"Open and Execute in Binder\"></a>\n",
    "&nbsp;\n",
    "\n",
    "[<- Running nbbinder as a Module](02.00-Run_as_Module.ipynb) | [Front page](00.00-Front_Page.ipynb) | [References](BA.00-References.ipynb) | [Running it passing variables to the methods ->](02.02-Run_with_arguments.ipynb)\n",
    "\n",
    "---\n"
   ]
  },
  {
   "cell_type": "markdown",
   "metadata": {},
   "source": [
    "# Running it via configuration file\n",
    "\n",
    "If the `nbbinder` package is installed in the environment, just import it with"
   ]
  },
  {
   "cell_type": "code",
   "execution_count": 1,
   "metadata": {},
   "outputs": [
    {
     "ename": "ModuleNotFoundError",
     "evalue": "No module named 'nbbinder'",
     "output_type": "error",
     "traceback": [
      "\u001b[0;31m---------------------------------------------------------------------------\u001b[0m",
      "\u001b[0;31mModuleNotFoundError\u001b[0m                       Traceback (most recent call last)",
      "\u001b[0;32m<ipython-input-1-a684e1bd883b>\u001b[0m in \u001b[0;36m<module>\u001b[0;34m\u001b[0m\n\u001b[0;32m----> 1\u001b[0;31m \u001b[0;32mimport\u001b[0m \u001b[0mnbbinder\u001b[0m \u001b[0;32mas\u001b[0m \u001b[0mnbb\u001b[0m\u001b[0;34m\u001b[0m\u001b[0;34m\u001b[0m\u001b[0m\n\u001b[0m",
      "\u001b[0;31mModuleNotFoundError\u001b[0m: No module named 'nbbinder'"
     ]
    }
   ],
   "source": [
    "import nbbinder as nbb"
   ]
  },
  {
   "cell_type": "markdown",
   "metadata": {},
   "source": [
    "If it is not, and assuming this set of notebooks is two subdirectories down in the `nbbinder` package, with the structure"
   ]
  },
  {
   "cell_type": "raw",
   "metadata": {},
   "source": [
    "jupyternotebook\n",
    "    |\n",
    "    |- jupyternotebook/\n",
    "    |\n",
    "    |- tests/\n",
    "        |\n",
    "        |- notebooks/\n",
    "        |\n",
    "        |- config1.yml\n",
    "        |- :\n",
    "        |- config5.yml\n",
    "        "
   ]
  },
  {
   "cell_type": "markdown",
   "metadata": {},
   "source": [
    "then we may import it with"
   ]
  },
  {
   "cell_type": "code",
   "execution_count": 1,
   "metadata": {},
   "outputs": [],
   "source": [
    "import os\n",
    "import sys\n",
    "\n",
    "sys.path.insert(0, os.path.abspath(os.path.join(os.getcwd(), '../..')))\n",
    "\n",
    "import nbbinder as nbb"
   ]
  },
  {
   "cell_type": "markdown",
   "metadata": {},
   "source": [
    "Next, considering that the configuration files are one folder up, we change the current directory there with"
   ]
  },
  {
   "cell_type": "code",
   "execution_count": 2,
   "metadata": {},
   "outputs": [],
   "source": [
    "os.chdir('..')"
   ]
  },
  {
   "cell_type": "markdown",
   "metadata": {},
   "source": [
    "We make sure in which folder we are with"
   ]
  },
  {
   "cell_type": "code",
   "execution_count": 3,
   "metadata": {},
   "outputs": [
    {
     "data": {
      "text/plain": [
       "'/Users/rrosa/Dropbox/Documents/diversos/python/nbbinder/tests'"
      ]
     },
     "execution_count": 3,
     "metadata": {},
     "output_type": "execute_result"
    }
   ],
   "source": [
    "os.getcwd()"
   ]
  },
  {
   "cell_type": "markdown",
   "metadata": {},
   "source": [
    "Finally, we create the book-like structure using one of the configuration files, say `config3.yml`."
   ]
  },
  {
   "cell_type": "code",
   "execution_count": 5,
   "metadata": {},
   "outputs": [
    {
     "name": "stdout",
     "output_type": "stream",
     "text": [
      "- Table of contents updated in 00.00-Front_Page.ipynb\n",
      "- updating header for 00.00-Front_Page.ipynb\n",
      "- updating header for 00.01-Preface.ipynb\n",
      "- updating header for 00.90-Introduction.ipynb\n",
      "- updating header for 01.00-Methods_and_parameters.ipynb\n",
      "- updating header for 01.01-Cell_markers.ipynb\n",
      "- updating header for 01.02-Toc_creation.ipynb\n",
      "- updating header for 01.03-Header_creation.ipynb\n",
      "- updating header for 01.04-Navigator_creation.ipynb\n",
      "- updating header for 01.05-Book_creation.ipynb\n",
      "- updating header for 01.06-Configs_for_creation.ipynb\n",
      "- updating header for 01.07-Example_configs.ipynb\n",
      "- updating header for 02.00-Run_as_Module.ipynb\n",
      "- updating header for 02.01-Run_with_config.ipynb\n",
      "- updating header for 02.02-Run_with_arguments.ipynb\n",
      "- updating header for 03.00-Run_as_Script.ipynb\n",
      "- updating header for BA.00-References.ipynb\n",
      "- updating navbar for 00.00-Front_Page.ipynb\n",
      "- updating navbar for 00.01-Preface.ipynb\n",
      "- updating navbar for 00.90-Introduction.ipynb\n",
      "- updating navbar for 01.00-Methods_and_parameters.ipynb\n",
      "- updating navbar for 01.01-Cell_markers.ipynb\n",
      "- updating navbar for 01.02-Toc_creation.ipynb\n",
      "- updating navbar for 01.03-Header_creation.ipynb\n",
      "- updating navbar for 01.04-Navigator_creation.ipynb\n",
      "- updating navbar for 01.05-Book_creation.ipynb\n",
      "- updating navbar for 01.06-Configs_for_creation.ipynb\n",
      "- updating navbar for 01.07-Example_configs.ipynb\n",
      "- updating navbar for 02.00-Run_as_Module.ipynb\n",
      "- updating navbar for 02.01-Run_with_config.ipynb\n",
      "- updating navbar for 02.02-Run_with_arguments.ipynb\n",
      "- updating navbar for 03.00-Run_as_Script.ipynb\n",
      "- updating navbar for BA.00-References.ipynb\n"
     ]
    }
   ],
   "source": [
    "nbb.bind_from_configfile('config1.yml')"
   ]
  },
  {
   "cell_type": "markdown",
   "metadata": {},
   "source": [
    "Once you do that, you need to click on `File > Reload Notebook from Disk`, in the top menu bar, in order to see the changes to this notebook. Similarly with the other open notebooks. \n",
    "\n",
    "An alternative is to close the tab and reopen the notebook. This works well with the other notebooks, but you will have a slight problem with the current notebook, since it was changed by the module (inserting the book-like structure) and also by the jupyter environmente (with the output of the `code` cell."
   ]
  },
  {
   "cell_type": "markdown",
   "metadata": {},
   "source": [
    "The best way, though, is to have a separate, non-indexed file, which will not appear in the Table of Contents and will not be populated with a header and navigators, in which a configuration file is executed directly from jupyter. See the notebook [Create the Book Structure from a Non-Indexed File](Bind_Notes.ipynb)"
   ]
  },
  {
   "cell_type": "markdown",
   "metadata": {},
   "source": [
    "<!--NAVIGATOR-->\n",
    "\n",
    "---\n",
    "[<- Running nbbinder as a Module](02.00-Run_as_Module.ipynb) | [Front page](00.00-Front_Page.ipynb) | [References](BA.00-References.ipynb) | [Running it passing variables to the methods ->](02.02-Run_with_arguments.ipynb)\n",
    "\n",
    "<a href=\"https://colab.research.google.com/github/rmsrosa/nbbinder/blob/master/tests/notebooks/02.01-Run_with_config.ipynb\"><img align=\"left\" src=\"https://colab.research.google.com/assets/colab-badge.svg\" alt=\"Open in Colab\" title=\"Open and Execute in Google Colaboratory\"></a>\n",
    "\n",
    "<a href=\"https://mybinder.org/v2/gh/rmsrosa/nbbinder/master?filepath=tests/notebooks/02.01-Run_with_config.ipynb\"><img align=\"left\" src=\"https://mybinder.org/badge.svg\" alt=\"Open in binder\" title=\"Open and Execute in Binder\"></a>\n",
    "&nbsp;"
   ]
  }
 ],
 "metadata": {
  "kernelspec": {
   "display_name": "Python 3",
   "language": "python",
   "name": "python3"
  },
  "language_info": {
   "codemirror_mode": {
    "name": "ipython",
    "version": 3
   },
   "file_extension": ".py",
   "mimetype": "text/x-python",
   "name": "python",
   "nbconvert_exporter": "python",
   "pygments_lexer": "ipython3",
   "version": "3.7.1"
  }
 },
 "nbformat": 4,
 "nbformat_minor": 2
}
