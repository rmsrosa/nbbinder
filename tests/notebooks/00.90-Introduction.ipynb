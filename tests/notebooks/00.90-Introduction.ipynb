{
 "cells": [
  {
   "cell_type": "markdown",
   "metadata": {},
   "source": [
    "<!--HEADER-->\n",
    "Test 3 for the nbbinder module"
   ]
  },
  {
   "cell_type": "markdown",
   "metadata": {},
   "source": [
    "<!--NAVIGATOR-->\n",
    "\n",
    "[<- Preface](00.01-Preface.ipynb) | [Front page](00.00-Front_Page.ipynb) | [References](BA.00-References.ipynb) | [1. Methods and Parameters ->](01.00-Methods_and_parameters.ipynb)\n",
    "\n",
    "---\n"
   ]
  },
  {
   "cell_type": "markdown",
   "metadata": {},
   "source": [
    "# Introduction"
   ]
  },
  {
   "cell_type": "markdown",
   "metadata": {},
   "source": [
    "[Python](https://www.python.org/) has grown to be a ubiquitous programming language, being used in different scientific fields, in a multitude of businesses, and in hobbies everywhere.\n",
    "\n",
    "A great project that is quite useful in teaching, as well as in the communication of scientific discoveries, technological advances, businesses ideas, and so on, is the [Project Jupyter](https://jupyter.org/).\n",
    "\n",
    "Individual *Jupyter notebooks* appear in many blogs, but when writing a cohesive collection of notebooks, such as when forming a *book* or a set of *lecture notes*, it is useful to have means to automatically generate a **Table of Contents** and **navigator** cells to jump to the previous or next notebook.\n",
    "\n",
    "Although I am sure there should be a few python packages that do this, I didn't look so extensively and didn't find any suitable one. I found, though, a nice set of codes in the [Python Data Science Handbook](https://github.com/jakevdp/PythonDataScienceHandbook), by [Jake VanderPlas](http://vanderplas.com/). I modified these codes to make them more flexible and to automatically add the generated table of contents to a given file (instead of being spitted out to the standard output).\n",
    "\n",
    "Later I also found out about the [Jupyter Book](https://jupyter.org/jupyter-book/intro) package, which is way more complex and full-featured, being able to generate complete websites for a book out of both jupyter notebook and markdown files. This is not what I wanted, it wouldn't serve my purposes, but I wanted to mention it in case that is what some of you are looking for.\n",
    "\n",
    "Anyway, the current set of notebooks is to exemplify the use of this more modest packaged that I first named `jupyterbookmaker`, but later changed to [nbbinder](https://github.com/rmsrosa/nbbinder)."
   ]
  },
  {
   "cell_type": "markdown",
   "metadata": {},
   "source": [
    "<!--NAVIGATOR-->\n",
    "\n",
    "---\n",
    "[<- Preface](00.01-Preface.ipynb) | [Front page](00.00-Front_Page.ipynb) | [References](BA.00-References.ipynb) | [1. Methods and Parameters ->](01.00-Methods_and_parameters.ipynb)"
   ]
  }
 ],
 "metadata": {
  "kernelspec": {
   "display_name": "Python 3",
   "language": "python",
   "name": "python3"
  },
  "language_info": {
   "codemirror_mode": {
    "name": "ipython",
    "version": 3
   },
   "file_extension": ".py",
   "mimetype": "text/x-python",
   "name": "python",
   "nbconvert_exporter": "python",
   "pygments_lexer": "ipython3",
   "version": "3.7.1"
  }
 },
 "nbformat": 4,
 "nbformat_minor": 2
}
