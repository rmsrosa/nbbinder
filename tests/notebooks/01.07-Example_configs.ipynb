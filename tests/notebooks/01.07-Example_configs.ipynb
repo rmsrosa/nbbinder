{
 "cells": [
  {
   "cell_type": "markdown",
   "metadata": {},
   "source": [
    "<!--HEADER-->\n",
    "*[Header for the notebooks in the nbbinder module](https://github.com/rmsrosa/nbbinder)*"
   ]
  },
  {
   "cell_type": "markdown",
   "metadata": {},
   "source": [
    "<!--NAVIGATOR-->\n",
    "\n",
    "<a href=\"https://colab.research.google.com/github/rmsrosa/nbbinder/blob/master/tests/notebooks/01.07-Example_configs.ipynb\"><img align=\"left\" src=\"https://colab.research.google.com/assets/colab-badge.svg\" alt=\"Open in Colab\" title=\"Open and Execute in Google Colaboratory\"></a>\n",
    "&nbsp;\n",
    "<a href=\"https://mybinder.org/v2/gh/rmsrosa/nbbinder/master?filepath=tests/notebooks/01.07-Example_configs.ipynb\"><img align=\"left\" src=\"https://mybinder.org/badge.svg\" alt=\"Open in binder\" title=\"Open and Execute in Binder\"></a>\n",
    "&nbsp;\n",
    "\n",
    "[<- Creating the book-like structure from a configuration file](01.06-Configs_for_creation.ipynb) | [Front page](00.00-Front_Page.ipynb) | [References](BA.00-References.ipynb) | [Running nbbinder as a Module ->](02.00-Run_as_Module.ipynb)\n",
    "\n",
    "---\n"
   ]
  },
  {
   "cell_type": "markdown",
   "metadata": {},
   "source": [
    "# Examples of configuration files\n",
    "\n",
    "Here are some examples of configuration files.\n",
    "\n",
    "All the first five examples contain the `directory` key and assume `nbbinder` is being ran from a directory above a `notebooks` subdirectory containing the notebooks.\n",
    "\n",
    "The last example assumes `nbbinder` is being ran in the same directory containing the notebooks."
   ]
  },
  {
   "cell_type": "markdown",
   "metadata": {},
   "source": [
    "## Example of config file 1\n",
    "\n",
    "A config file with all three elements given separately.\n",
    "\n",
    "```yaml\n",
    "directory:\n",
    "  app_to_notes_path: notebooks\n",
    "\n",
    "contents:\n",
    "  toc_nb_name: 00.00-Front_Page.ipynb\n",
    "  show_full_entry_in_toc: True\n",
    "\n",
    "header:\n",
    "  header: \"*[Test 1 for the nbbinder module](https://github.com/rmsrosa/nbbinder)*\"\n",
    "\n",
    "navigator:\n",
    "  core_navigators: \n",
    "    - 00.00-Front_Page.ipynb\n",
    "    - BA.00-References.ipynb\n",
    "  repository: rmsrosa/nbbinder\n",
    "  branch: master\n",
    "  github_nb_dir: tests/notebooks\n",
    "  show_colab: True\n",
    "  show_binder: True\n",
    "  show_full_entry_in_nav: False\n",
    "```"
   ]
  },
  {
   "cell_type": "markdown",
   "metadata": {},
   "source": [
    "## Example of config file 2\n",
    "\n",
    "Another config file with all three elements given separately.\n",
    "\n",
    "```yaml\n",
    "directory:\n",
    "  app_to_notes_path: notebooks\n",
    "\n",
    "contents:\n",
    "  toc_nb_name: 00.00-Front_Page.ipynb\n",
    "\n",
    "header:\n",
    "  header: \"*Test 2 for the nbbinder module*\"\n",
    "\n",
    "navigator:\n",
    "  core_navigators: \n",
    "    - 00.00-Front_Page.ipynb\n",
    "```"
   ]
  },
  {
   "cell_type": "markdown",
   "metadata": {},
   "source": [
    "## Example of config file 3\n",
    "\n",
    "A config file with only the `makebook` key.\n",
    "\n",
    "```yaml\n",
    "directory:\n",
    "  app_to_notes_path: notebooks\n",
    "\n",
    "book:\n",
    "  toc_nb_name: 00.00-Front_Page.ipynb\n",
    "  header: \"*Test 3 for the nbbinder module*\"\n",
    "  core_navigators: \n",
    "    - 00.00-Front_Page.ipynb\n",
    "    - BA.00-References.ipynb\n",
    "```"
   ]
  },
  {
   "cell_type": "markdown",
   "metadata": {},
   "source": [
    "## Example of config file 4\n",
    "\n",
    "A config file to create only the headers and the table of contents.\n",
    "\n",
    "```yaml\n",
    "directory:\n",
    "  app_to_notes_path: notebooks\n",
    "\n",
    "contents:\n",
    "  toc_nb_name: 00.00-Front_Page.ipynb\n",
    "\n",
    "header:\n",
    "  header: \"*Test 4 for the nbbinder module, without navigators.*\"\n",
    "```"
   ]
  },
  {
   "cell_type": "markdown",
   "metadata": {},
   "source": [
    "## Example of config file 5\n",
    "\n",
    "A config file to create only the table of contents.\n",
    "\n",
    "```yaml\n",
    "directory:\n",
    "  app_to_notes_path: notebooks\n",
    "\n",
    "contents:\n",
    "  toc_nb_name: 00.00-Front_Page.ipynb\n",
    "```"
   ]
  },
  {
   "cell_type": "markdown",
   "metadata": {},
   "source": [
    "## Example of config file without the directory key\n",
    "\n",
    "This example assumes `nbbinder` is being ran in the same directory containing the notebooks.\n",
    "```yaml\n",
    "book:\n",
    "  toc_nb_name: 00.00-Front_Page.ipynb\n",
    "  header: \"*[Header for the notebooks in the nbbinder module](https://github.com/rmsrosa/nbbinder)*\"\n",
    "  core_navigators:\n",
    "    - 00.00-Front_Page.ipynb\n",
    "    - BA.00-References.ipynb\n",
    "  repository: rmsrosa/nbbinder\n",
    "  branch: master\n",
    "  github_nb_dir: tests/notebooks\n",
    "  show_colab: True\n",
    "  show_binder: True\n",
    "  show_full_entry_in_nav: False\n",
    "```"
   ]
  },
  {
   "cell_type": "markdown",
   "metadata": {},
   "source": [
    "<!--NAVIGATOR-->\n",
    "\n",
    "---\n",
    "[<- Creating the book-like structure from a configuration file](01.06-Configs_for_creation.ipynb) | [Front page](00.00-Front_Page.ipynb) | [References](BA.00-References.ipynb) | [Running nbbinder as a Module ->](02.00-Run_as_Module.ipynb)\n",
    "\n",
    "<a href=\"https://colab.research.google.com/github/rmsrosa/nbbinder/blob/master/tests/notebooks/01.07-Example_configs.ipynb\"><img align=\"left\" src=\"https://colab.research.google.com/assets/colab-badge.svg\" alt=\"Open in Colab\" title=\"Open and Execute in Google Colaboratory\"></a>\n",
    "\n",
    "<a href=\"https://mybinder.org/v2/gh/rmsrosa/nbbinder/master?filepath=tests/notebooks/01.07-Example_configs.ipynb\"><img align=\"left\" src=\"https://mybinder.org/badge.svg\" alt=\"Open in binder\" title=\"Open and Execute in Binder\"></a>\n",
    "&nbsp;"
   ]
  }
 ],
 "metadata": {
  "kernelspec": {
   "display_name": "Python 3",
   "language": "python",
   "name": "python3"
  },
  "language_info": {
   "codemirror_mode": {
    "name": "ipython",
    "version": 3
   },
   "file_extension": ".py",
   "mimetype": "text/x-python",
   "name": "python",
   "nbconvert_exporter": "python",
   "pygments_lexer": "ipython3",
   "version": "3.7.1"
  }
 },
 "nbformat": 4,
 "nbformat_minor": 2
}
