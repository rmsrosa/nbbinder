{
 "cells": [
  {
   "cell_type": "markdown",
   "metadata": {},
   "source": [
    "<!--HEADER-->\n",
    "*[Header for the notebooks in the nbbinder module](https://github.com/rmsrosa/nbbinder)*"
   ]
  },
  {
   "cell_type": "markdown",
   "metadata": {},
   "source": [
    "<!--NAVIGATOR-->\n",
    "\n",
    "<a href=\"https://colab.research.google.com/github/rmsrosa/nbbinder/blob/master/tests/notebooks/00.00-Front_Page.ipynb\"><img align=\"left\" src=\"https://colab.research.google.com/assets/colab-badge.svg\" alt=\"Open in Colab\" title=\"Open and Execute in Google Colaboratory\"></a>\n",
    "&nbsp;\n",
    "<a href=\"https://mybinder.org/v2/gh/rmsrosa/nbbinder/master?filepath=tests/notebooks/00.00-Front_Page.ipynb\"><img align=\"left\" src=\"https://mybinder.org/badge.svg\" alt=\"Open in binder\" title=\"Open and Execute in Binder\"></a>\n",
    "&nbsp;\n",
    "\n",
    "| [Front page](00.00-Front_Page.ipynb) | [References](BA.00-References.ipynb) | [Preface ->](00.01-Preface.ipynb)\n",
    "\n",
    "---\n"
   ]
  },
  {
   "cell_type": "markdown",
   "metadata": {},
   "source": [
    "# Front page\n",
    "\n",
    "This is an example set of notebooks for the [nbbinder](https://www.github.com/rmsrosa/nbbinder) package. Depending on the parameters used, a \"Table of Contents\" will be generated in this file and headers and navigation cells will be generated in each notebook."
   ]
  },
  {
   "cell_type": "markdown",
   "metadata": {},
   "source": [
    "## Table of Contents"
   ]
  },
  {
   "cell_type": "markdown",
   "metadata": {},
   "source": [
    "<!--TABLE_OF_CONTENTS-->\n",
    "\n",
    "### [Front page](00.00-Front_Page.ipynb)\n",
    "\n",
    "### [Preface](00.01-Preface.ipynb)\n",
    "\n",
    "### [Introduction](00.90-Introduction.ipynb)\n",
    "\n",
    "### [1. Methods and Parameters](01.00-Methods_and_parameters.ipynb)\n",
    "\n",
    "&nbsp;&nbsp;&nbsp;&nbsp; [1.1. Cell markers](01.01-Cell_markers.ipynb)\n",
    "\n",
    "&nbsp;&nbsp;&nbsp;&nbsp; [1.2. Creating the Table of Contents](01.02-Toc_creation.ipynb)\n",
    "\n",
    "&nbsp;&nbsp;&nbsp;&nbsp; [1.3. Creating the headers](01.03-Header_creation.ipynb)\n",
    "\n",
    "&nbsp;&nbsp;&nbsp;&nbsp; [1.4. Creating the navigators](01.04-Navigator_creation.ipynb)\n",
    "\n",
    "&nbsp;&nbsp;&nbsp;&nbsp; [1.5. Creating the book-like structure with all three elements](01.05-Book_creation.ipynb)\n",
    "\n",
    "&nbsp;&nbsp;&nbsp;&nbsp; [1.6. Creating the book-like structure from a configuration file](01.06-Configs_for_creation.ipynb)\n",
    "\n",
    "&nbsp;&nbsp;&nbsp;&nbsp; [1.7. Examples of configuration files](01.07-Example_configs.ipynb)\n",
    "\n",
    "### [2. Running nbbinder as a Module](02.00-Run_as_Module.ipynb)\n",
    "\n",
    "&nbsp;&nbsp;&nbsp;&nbsp; [2.1. Running it via configuration file](02.01-Run_with_config.ipynb)\n",
    "\n",
    "&nbsp;&nbsp;&nbsp;&nbsp; [2.2. Running it passing variables to the methods](02.02-Run_with_arguments.ipynb)\n",
    "\n",
    "### [3. Run it as a Script](03.00-Run_as_Script.ipynb)\n",
    "\n",
    "### [References](BA.00-References.ipynb)\n",
    "\n"
   ]
  },
  {
   "cell_type": "markdown",
   "metadata": {},
   "source": [
    "<!--NAVIGATOR-->\n",
    "\n",
    "---\n",
    "| [Front page](00.00-Front_Page.ipynb) | [References](BA.00-References.ipynb) | [Preface ->](00.01-Preface.ipynb)\n",
    "\n",
    "<a href=\"https://colab.research.google.com/github/rmsrosa/nbbinder/blob/master/tests/notebooks/00.00-Front_Page.ipynb\"><img align=\"left\" src=\"https://colab.research.google.com/assets/colab-badge.svg\" alt=\"Open in Colab\" title=\"Open and Execute in Google Colaboratory\"></a>\n",
    "\n",
    "<a href=\"https://mybinder.org/v2/gh/rmsrosa/nbbinder/master?filepath=tests/notebooks/00.00-Front_Page.ipynb\"><img align=\"left\" src=\"https://mybinder.org/badge.svg\" alt=\"Open in binder\" title=\"Open and Execute in Binder\"></a>\n",
    "&nbsp;"
   ]
  }
 ],
 "metadata": {
  "kernelspec": {
   "display_name": "Python 3",
   "language": "python",
   "name": "python3"
  },
  "language_info": {
   "codemirror_mode": {
    "name": "ipython",
    "version": 3
   },
   "file_extension": ".py",
   "mimetype": "text/x-python",
   "name": "python",
   "nbconvert_exporter": "python",
   "pygments_lexer": "ipython3",
   "version": "3.7.1"
  }
 },
 "nbformat": 4,
 "nbformat_minor": 2
}
