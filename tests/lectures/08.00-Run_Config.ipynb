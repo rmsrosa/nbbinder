{
 "cells": [
  {
   "cell_type": "markdown",
   "metadata": {},
   "source": [
    "<!--HEADER-->\n",
    "*Header for the set of lecture notes in the nbbinder module*"
   ]
  },
  {
   "cell_type": "markdown",
   "metadata": {},
   "source": [
    "<!--NAVIGATOR-->\n",
    "\n",
    "<a href=\"https://mybinder.org/v2/gh/rmsrosa/nbbinder/master?filepath=tests/lectures/08.00-Run_Config.ipynb\"><img align=\"left\" src=\"https://mybinder.org/badge.svg\" alt=\"Open in binder\" title=\"Open and Execute in Binder\"></a>\n",
    "&nbsp;\n",
    "\n",
    "[<- Lecture 7: Example of a configuration file](07.00-Example_configs.ipynb) | [Front page](00.00-Front_Page.ipynb) \n",
    "\n",
    "---\n"
   ]
  },
  {
   "cell_type": "markdown",
   "metadata": {},
   "source": [
    "# Lecture 8: Running via a configuration file\n",
    "\n",
    "Here we illustrate how we can build the book structure directly from a jupyter notebook. \n",
    "\n",
    "This notebook is an indexed notebook, made to appear in the Table of Contents included in the [Front Page](00.00-Front_Page.ipynb). But it also alters the notebook itself, when adding or updating the header and the navigatores. This creates a conflict with the jupyter editor. \n",
    "\n",
    "Hence, the best way is to have a non-indexed jupyter notebook which passes a configuration file to the `nbbinder` package. Being non-indexed, the notebook is not altered and there is no conflict with the jupyter editor. The notebook [Bind Notes](Bind_Notes.ipynb) accomplishes this goal.\n",
    "\n",
    "Anyway, let us also execute the binder from here and see the conflict."
   ]
  },
  {
   "cell_type": "code",
   "execution_count": 1,
   "metadata": {},
   "outputs": [],
   "source": [
    "import nbbinder as nbb"
   ]
  },
  {
   "cell_type": "raw",
   "metadata": {},
   "source": [
    "If it is not, and assuming this set of notebooks is two subdirectories down in the `nbbinder` package, with the structure\n",
    "\n",
    "jupyternotebook/\n",
    "    |\n",
    "    |- jupyternotebook/\n",
    "    |\n",
    "    |- tests/\n",
    "        |\n",
    "        |- notebooks/\n",
    "        |\n",
    "        |- config1.yml\n",
    "        |- :\n",
    "        |- config5.yml\n",
    "        \n",
    "        \n",
    "then we may import it with"
   ]
  },
  {
   "cell_type": "code",
   "execution_count": 2,
   "metadata": {},
   "outputs": [],
   "source": [
    "import os\n",
    "import sys\n",
    "\n",
    "sys.path.insert(0, os.path.abspath(os.path.join(os.getcwd(), '..','..')))\n",
    "\n",
    "import nbbinder as nbb"
   ]
  },
  {
   "cell_type": "markdown",
   "metadata": {},
   "source": [
    "Then, considering that the configuration files are one folder up, we change the current directory there with"
   ]
  },
  {
   "cell_type": "code",
   "execution_count": 3,
   "metadata": {},
   "outputs": [
    {
     "data": {
      "text/plain": "'/Users/rrosa/Documents/github_repositories'"
     },
     "execution_count": 3,
     "metadata": {},
     "output_type": "execute_result"
    }
   ],
   "source": [
    "os.chdir('..')\n",
    "os.getcwd()"
   ]
  },
  {
   "cell_type": "markdown",
   "metadata": {},
   "source": [
    "Then we create the book-like structure using one of the configuration files, say `config3.yml`."
   ]
  },
  {
   "cell_type": "code",
   "execution_count": 6,
   "metadata": {},
   "outputs": [
    {
     "name": "stdout",
     "output_type": "stream",
     "text": [
      "- Table of contents updated in 00.00-Front_Page.ipynb\n",
      "- updating header for 00.00-Front_Page.ipynb\n",
      "- updating header for 00.01-Preface.ipynb\n",
      "- updating header for 00.90-Introduction.ipynb\n",
      "- updating header for 01.00-Methods_and_parameters.ipynb\n",
      "- updating header for 01.01-Cell_markers.ipynb\n",
      "- updating header for 01.02-Toc_creation.ipynb\n",
      "- updating header for 01.03-Header_creation.ipynb\n",
      "- updating header for 01.04-Navigator_creation.ipynb\n",
      "- updating header for 01.05-Book_creation.ipynb\n",
      "- updating header for 01.06-Configs_for_creation.ipynb\n",
      "- updating header for 01.07-Example_configs.ipynb\n",
      "- updating header for 02.00-Run_as_Module.ipynb\n",
      "- updating header for 02.01-Run_with_config.ipynb\n",
      "- updating header for 02.02-Run_with_arguments.ipynb\n",
      "- updating header for 03.00-Run_as_Script.ipynb\n",
      "- updating header for BA.00-References.ipynb\n",
      "- updating navbar for 00.00-Front_Page.ipynb\n",
      "- updating navbar for 00.01-Preface.ipynb\n",
      "- updating navbar for 00.90-Introduction.ipynb\n",
      "- updating navbar for 01.00-Methods_and_parameters.ipynb\n",
      "- updating navbar for 01.01-Cell_markers.ipynb\n",
      "- updating navbar for 01.02-Toc_creation.ipynb\n",
      "- updating navbar for 01.03-Header_creation.ipynb\n",
      "- updating navbar for 01.04-Navigator_creation.ipynb\n",
      "- updating navbar for 01.05-Book_creation.ipynb\n",
      "- updating navbar for 01.06-Configs_for_creation.ipynb\n",
      "- updating navbar for 01.07-Example_configs.ipynb\n",
      "- updating navbar for 02.00-Run_as_Module.ipynb\n",
      "- updating navbar for 02.01-Run_with_config.ipynb\n",
      "- updating navbar for 02.02-Run_with_arguments.ipynb\n",
      "- updating navbar for 03.00-Run_as_Script.ipynb\n",
      "- updating navbar for BA.00-References.ipynb\n"
     ]
    }
   ],
   "source": [
    "nbb.bind_from_configfile('config3.yml')"
   ]
  },
  {
   "cell_type": "markdown",
   "metadata": {},
   "source": [
    "Once you do that, you need to either close the tab and reopen the notebook or click on `File > Reload Notebook from Disk`, in the top menu bar, in order to see the ch"
   ]
  },
  {
   "cell_type": "markdown",
   "metadata": {},
   "source": [
    "<!--NAVIGATOR-->\n",
    "\n",
    "---\n",
    "[<- Lecture 7: Example of a configuration file](07.00-Example_configs.ipynb) | [Front page](00.00-Front_Page.ipynb) \n",
    "\n",
    "<a href=\"https://mybinder.org/v2/gh/rmsrosa/nbbinder/master?filepath=tests/lectures/08.00-Run_Config.ipynb\"><img align=\"left\" src=\"https://mybinder.org/badge.svg\" alt=\"Open in binder\" title=\"Open and Execute in Binder\"></a>\n",
    "&nbsp;"
   ]
  }
 ],
 "metadata": {
  "kernelspec": {
   "display_name": "Python 3",
   "language": "python",
   "name": "python3"
  },
  "language_info": {
   "codemirror_mode": {
    "name": "ipython",
    "version": 3
   },
   "file_extension": ".py",
   "mimetype": "text/x-python",
   "name": "python",
   "nbconvert_exporter": "python",
   "pygments_lexer": "ipython3",
   "version": "3.7.3"
  }
 },
 "nbformat": 4,
 "nbformat_minor": 2
}