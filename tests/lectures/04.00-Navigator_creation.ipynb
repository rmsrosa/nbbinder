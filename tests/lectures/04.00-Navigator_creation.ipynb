{
 "cells": [
  {
   "cell_type": "markdown",
   "metadata": {},
   "source": [
    "<!--HEADER-->\n",
    "*Header for the set of lecture notes in the nbbinder module*"
   ]
  },
  {
   "cell_type": "markdown",
   "metadata": {},
   "source": [
    "<!--NAVIGATOR-->\n",
    "\n",
    "<a href=\"https://mybinder.org/v2/gh/rmsrosa/nbbinder/master?filepath=tests/lectures/04.00-Navigator_creation.ipynb\"><img align=\"left\" src=\"https://mybinder.org/badge.svg\" alt=\"Open in binder\" title=\"Open and Execute in Binder\"></a>\n",
    "&nbsp;\n",
    "\n",
    "[<- Lecture 3: Creating the headers](03.00-Header_creation.ipynb) | [Front page](00.00-Front_Page.ipynb) | [Lecture 5: Creating the book-like structure with all three elements ->](05.00-Book_creation.ipynb)\n",
    "\n",
    "---\n"
   ]
  },
  {
   "cell_type": "markdown",
   "metadata": {},
   "source": [
    "# Lecture 4: Creating the navigators\n",
    "\n",
    "The method to create, or update, the navigator cells is called `add_navigators()` and its definition starts with\n",
    "```python\n",
    "def add_navigators(core_navigators=[], app_to_notes_path='.', \n",
    "                   repository = '', branch = '', \n",
    "                   github_nb_dir = '',\n",
    "                   show_colab=False, show_binder=False, \n",
    "                   show_full_entry_in_nav=True):\n",
    "    ...\n",
    "```\n",
    "\n",
    "There is no required argument. \n",
    "\n",
    "Here is an explanation of the non-required arguments:\n",
    "\n",
    "- `core_navigators` is a list of strings, where each element is the filename of a Jupyter notebook that you want to appear in the navigator bar, in between the links to the *previous* and the *next* notebooks. This is useful for direct links to the **Table of Contents** and the **Bibliography**, for instance. If it is not provided, it is assumed to be an empty list, and nothing is showed in between the links for the *previous* and *next* notebooks.\n",
    "\n",
    "- `app_to_notes_path` is a non-required argument, with the name of the folder in which both the `toc_nb_name` file and the collection of all notebooks to be listed in the table of contents are expected to be. It should be either an absolute path or a path relative from where the code is being ran. If `app_to_notes_path` is not given, it is assumed to be the current directory. \n",
    "\n",
    "- `repository` is the name of the github repository which the notebooks belong to, if they do belong to one. It defaults to a blank string.\n",
    "\n",
    "- `branch` is the name of the associated branch in the github repository. It defaults to a blank string.\n",
    "\n",
    "- `github_nb_dir` is the path to the notebooks from the root directory of the github repository.\n",
    "\n",
    "- `show_colab` is a `boolean` argument informing the method whether to display the badge with the link to open up the notebook in [Google Colab](https://colab.research.google.com/notebooks/welcome.ipynb) environment in the \"cloud\". This works if the notebooks are in a github repository. It defaults to `False`.\n",
    "\n",
    "- `show_binder` is a `boolean` argument informing the method whether to display the badge with the link to open up the notebook in the [binder](https://mybinder.org/) environment in the \"cloud\". This works if the notebooks are in a github repository. It defaults to `False`.\n",
    "\n",
    "- `show_full_entry_in_nav` indicates whether to display the chapter and section numbers in the navigation links along with the titles or just the titles. It defaults to `True`.\n",
    "\n",
    "The colab and binder links, when displayed, appear *above* the navigation bar in the top navigator cell and *below* the navigation bar in the bottom navigator cell, which I found to be more aesthetically pleasing."
   ]
  },
  {
   "cell_type": "markdown",
   "metadata": {},
   "source": [
    "<!--NAVIGATOR-->\n",
    "\n",
    "---\n",
    "[<- Lecture 3: Creating the headers](03.00-Header_creation.ipynb) | [Front page](00.00-Front_Page.ipynb) | [Lecture 5: Creating the book-like structure with all three elements ->](05.00-Book_creation.ipynb)\n",
    "\n",
    "<a href=\"https://mybinder.org/v2/gh/rmsrosa/nbbinder/master?filepath=tests/lectures/04.00-Navigator_creation.ipynb\"><img align=\"left\" src=\"https://mybinder.org/badge.svg\" alt=\"Open in binder\" title=\"Open and Execute in Binder\"></a>\n",
    "&nbsp;"
   ]
  }
 ],
 "metadata": {
  "kernelspec": {
   "display_name": "Python 3",
   "language": "python",
   "name": "python3"
  },
  "language_info": {
   "codemirror_mode": {
    "name": "ipython",
    "version": 3
   },
   "file_extension": ".py",
   "mimetype": "text/x-python",
   "name": "python",
   "nbconvert_exporter": "python",
   "pygments_lexer": "ipython3",
   "version": "3.7.1"
  }
 },
 "nbformat": 4,
 "nbformat_minor": 2
}
