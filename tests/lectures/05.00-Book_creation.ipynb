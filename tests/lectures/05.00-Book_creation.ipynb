{
 "cells": [
  {
   "cell_type": "markdown",
   "metadata": {},
   "source": [
    "<!--HEADER-->\n",
    "Test 3 for the nbbinder module"
   ]
  },
  {
   "cell_type": "markdown",
   "metadata": {},
   "source": [
    "<!--NAVIGATOR-->\n",
    "\n",
    "[<- 4. Lecture 4: Creating the navigators](04.00-Navigator_creation.ipynb) | [Front page](00.00-Front_Page.ipynb) | [6. Lecture 6: Creating the book-like structure from a configuration file ->](06.00-Configs_for_creation.ipynb)\n",
    "\n",
    "---\n"
   ]
  },
  {
   "cell_type": "markdown",
   "metadata": {},
   "source": [
    "# Lecture 5: Creating the book-like structure with all three elements\n",
    "\n",
    "The method to create, or update, all the three elements (**Table of Contents**, **headers**, and **navigators**) is called `bind()` and its definition starts with\n",
    "```python\n",
    "def bind(toc_nb_name, header, core_navigators,\n",
    "         app_to_notes_path='.', repository='', branch='', \n",
    "         github_nb_dir ='',\n",
    "         show_colab=False, show_binder=False,\n",
    "         show_full_entry_in_toc=True,\n",
    "         show_full_entry_in_nav=True):\n",
    "    ...\n",
    "```\n",
    "\n",
    "This method simply calls the previous three methods, in the following order:\n",
    "\n",
    "- `add_contents(...)`\n",
    "- `add_headers(...)`\n",
    "- `add_navigators(...)`\n",
    "\n",
    "Refer to the previous sections for each method and the nature of the required and non-required arguments."
   ]
  },
  {
   "cell_type": "markdown",
   "metadata": {},
   "source": [
    "<!--NAVIGATOR-->\n",
    "\n",
    "---\n",
    "[<- 4. Lecture 4: Creating the navigators](04.00-Navigator_creation.ipynb) | [Front page](00.00-Front_Page.ipynb) | [6. Lecture 6: Creating the book-like structure from a configuration file ->](06.00-Configs_for_creation.ipynb)"
   ]
  }
 ],
 "metadata": {
  "kernelspec": {
   "display_name": "Python 3",
   "language": "python",
   "name": "python3"
  },
  "language_info": {
   "codemirror_mode": {
    "name": "ipython",
    "version": 3
   },
   "file_extension": ".py",
   "mimetype": "text/x-python",
   "name": "python",
   "nbconvert_exporter": "python",
   "pygments_lexer": "ipython3",
   "version": "3.7.1"
  }
 },
 "nbformat": 4,
 "nbformat_minor": 2
}
