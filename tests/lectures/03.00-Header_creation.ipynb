{
 "cells": [
  {
   "cell_type": "markdown",
   "metadata": {},
   "source": [
    "<!--HEADER-->\n",
    "Test 3 for the nbbinder module"
   ]
  },
  {
   "cell_type": "markdown",
   "metadata": {},
   "source": [
    "<!--NAVIGATOR-->\n",
    "\n",
    "[<- 2. Lecture 2: Creating the Table of Contents](02.00-Toc_creation.ipynb) | [Front page](00.00-Front_Page.ipynb) | [4. Lecture 4: Creating the navigators ->](04.00-Navigator_creation.ipynb)\n",
    "\n",
    "---\n"
   ]
  },
  {
   "cell_type": "markdown",
   "metadata": {},
   "source": [
    "# Lecture 3: Creating the headers\n",
    "\n",
    "The method to create, or update, the headers is called `add_headers()` and its definition starts with\n",
    "```python\n",
    "def add_headers(header, app_to_notes_path='.'):\n",
    "    ...\n",
    "```\n",
    "\n",
    "The argument `add_headers` is required and is a string with the header you want to be displayed on top of each notebook. \n",
    "\n",
    "The `app_to_notes_path` is a non-required argument with the name of the folder in which both the `toc_nb_name` file and the collection of all notebooks to be listed in the table of contents are expected to be. It should be either an absolute path or a path relative from where the code is being ran. If `app_to_notes_path` is not given, it is assumed to be the current directory. "
   ]
  },
  {
   "cell_type": "markdown",
   "metadata": {},
   "source": [
    "<!--NAVIGATOR-->\n",
    "\n",
    "---\n",
    "[<- 2. Lecture 2: Creating the Table of Contents](02.00-Toc_creation.ipynb) | [Front page](00.00-Front_Page.ipynb) | [4. Lecture 4: Creating the navigators ->](04.00-Navigator_creation.ipynb)"
   ]
  }
 ],
 "metadata": {
  "kernelspec": {
   "display_name": "Python 3",
   "language": "python",
   "name": "python3"
  },
  "language_info": {
   "codemirror_mode": {
    "name": "ipython",
    "version": 3
   },
   "file_extension": ".py",
   "mimetype": "text/x-python",
   "name": "python",
   "nbconvert_exporter": "python",
   "pygments_lexer": "ipython3",
   "version": "3.7.1"
  }
 },
 "nbformat": 4,
 "nbformat_minor": 2
}
