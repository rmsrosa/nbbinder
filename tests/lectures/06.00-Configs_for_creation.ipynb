{
 "cells": [
  {
   "cell_type": "markdown",
   "metadata": {},
   "source": [
    "<!--HEADER-->\n",
    "Test 3 for the nbbinder module"
   ]
  },
  {
   "cell_type": "markdown",
   "metadata": {},
   "source": [
    "<!--NAVIGATOR-->\n",
    "\n",
    "[<- 5. Lecture 5: Creating the book-like structure with all three elements](05.00-Book_creation.ipynb) | [Front page](00.00-Front_Page.ipynb) | [7. Lecture 7: Example of a configuration file ->](07.00-Example_configs.ipynb)\n",
    "\n",
    "---\n"
   ]
  },
  {
   "cell_type": "markdown",
   "metadata": {},
   "source": [
    "# Lecture 6: Creating the book-like structure from a configuration file\n",
    "\n",
    "The easiest way to create/update the book-like structure of a collection of notebooks is by using a configuration file containing all the desired arguments (and elements).\n",
    "\n",
    "The configuration file is expected to be in the [YAML](https://en.wikipedia.org/wiki/YAML) format, which is a human-readable, text file, which easily stores strings, integers, floating point numbers, booleans, lists, and dictionaries (and more). It is parsed to python via the [PyYAML](https://pyyaml.org/) module."
   ]
  },
  {
   "cell_type": "markdown",
   "metadata": {},
   "source": [
    "The method `bind_from_configfile(config_file)` expects the `config_file` to be parsed to a python dictionary with one or more of the following keys:\n",
    "- `directory`\n",
    "- `book`\n",
    "- `contents`\n",
    "- `header`\n",
    "- `navigator`\n",
    "\n",
    "The value of each key is another dictionary, containing the parameters for the associated method."
   ]
  },
  {
   "cell_type": "markdown",
   "metadata": {},
   "source": [
    "The order of the main keys is not important. The module takes care of them regardless. There are some rules to follow:\n",
    "\n",
    "- If `book` is present, only the method `bind()` is executed, with the parameters given in this key.\n",
    "- If `book` is not present, the other methods are executed, depending on whether the corresponding key is present, and in the following order: `add_contents()`, `add_headers()`, and `add_navigators()`.\n",
    "- If neither `makebook`, nor `header` is present, a method is called to remove any header that was possibly added in a previous execution of the module.\n",
    "- If neither `makebook`, nor `navigator` is present, a method is called to remove any navigator cell that was possibly added in a previous execution of the module.\n",
    "\n",
    "The key `directory` is not directly related to the configuration of the book-structure itself. It simply expects the configuration of the `app_to_notes_path`, so the script, module, or some specific functions within the module know where to find the notebooks."
   ]
  },
  {
   "cell_type": "markdown",
   "metadata": {},
   "source": [
    "See the next section for examples of configuration files."
   ]
  },
  {
   "cell_type": "markdown",
   "metadata": {},
   "source": [
    "<!--NAVIGATOR-->\n",
    "\n",
    "---\n",
    "[<- 5. Lecture 5: Creating the book-like structure with all three elements](05.00-Book_creation.ipynb) | [Front page](00.00-Front_Page.ipynb) | [7. Lecture 7: Example of a configuration file ->](07.00-Example_configs.ipynb)"
   ]
  }
 ],
 "metadata": {
  "kernelspec": {
   "display_name": "Python 3",
   "language": "python",
   "name": "python3"
  },
  "language_info": {
   "codemirror_mode": {
    "name": "ipython",
    "version": 3
   },
   "file_extension": ".py",
   "mimetype": "text/x-python",
   "name": "python",
   "nbconvert_exporter": "python",
   "pygments_lexer": "ipython3",
   "version": "3.7.1"
  }
 },
 "nbformat": 4,
 "nbformat_minor": 2
}
