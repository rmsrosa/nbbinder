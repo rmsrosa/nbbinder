{
 "cells": [
  {
   "cell_type": "markdown",
   "metadata": {},
   "source": [
    "<!--HEADER-->\n",
    "Test 3 for the nbbinder module"
   ]
  },
  {
   "cell_type": "markdown",
   "metadata": {},
   "source": [
    "<!--NAVIGATOR-->\n",
    "\n",
    "| [Front page](00.00-Front_Page.ipynb) | [1. Lecture 1: Cell markers ->](01.00-Cell_markers.ipynb)\n",
    "\n",
    "---\n"
   ]
  },
  {
   "cell_type": "markdown",
   "metadata": {},
   "source": [
    "# Front page\n",
    "\n",
    "This is an example set of notebooks for the [nbbinder](https://www.github.com/rmsrosa/nbbinder) package. Depending on the parameters used, a \"Table of Contents\" will be generated in this file and headers and navigation cells will be generated in each notebook."
   ]
  },
  {
   "cell_type": "markdown",
   "metadata": {},
   "source": [
    "## Table of Contents"
   ]
  },
  {
   "cell_type": "markdown",
   "metadata": {},
   "source": [
    "<!--TABLE_OF_CONTENTS-->\n",
    "\n",
    "### [Front page](00.00-Front_Page.ipynb)\n",
    "\n",
    "### [1. Lecture 1: Cell markers](01.00-Cell_markers.ipynb)\n",
    "\n",
    "### [2. Lecture 2: Creating the Table of Contents](02.00-Toc_creation.ipynb)\n",
    "\n",
    "### [3. Lecture 3: Creating the headers](03.00-Header_creation.ipynb)\n",
    "\n",
    "### [4. Lecture 4: Creating the navigators](04.00-Navigator_creation.ipynb)\n",
    "\n",
    "### [5. Lecture 5: Creating the book-like structure with all three elements](05.00-Book_creation.ipynb)\n",
    "\n",
    "### [6. Lecture 6: Creating the book-like structure from a configuration file](06.00-Configs_for_creation.ipynb)\n",
    "\n",
    "### [7. Lecture 7: Example of a configuration file](07.00-Example_configs.ipynb)\n",
    "\n",
    "### [8. Lecture 8: Running via a configuration file](08.00-Run_Config.ipynb)\n",
    "\n"
   ]
  },
  {
   "cell_type": "markdown",
   "metadata": {},
   "source": [
    "<!--NAVIGATOR-->\n",
    "\n",
    "---\n",
    "| [Front page](00.00-Front_Page.ipynb) | [1. Lecture 1: Cell markers ->](01.00-Cell_markers.ipynb)"
   ]
  }
 ],
 "metadata": {
  "kernelspec": {
   "display_name": "Python 3",
   "language": "python",
   "name": "python3"
  },
  "language_info": {
   "codemirror_mode": {
    "name": "ipython",
    "version": 3
   },
   "file_extension": ".py",
   "mimetype": "text/x-python",
   "name": "python",
   "nbconvert_exporter": "python",
   "pygments_lexer": "ipython3",
   "version": "3.7.1"
  }
 },
 "nbformat": 4,
 "nbformat_minor": 2
}
