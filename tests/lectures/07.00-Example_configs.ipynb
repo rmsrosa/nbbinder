{
 "cells": [
  {
   "cell_type": "markdown",
   "metadata": {},
   "source": [
    "<!--HEADER-->\n",
    "Test 3 for the nbbinder module"
   ]
  },
  {
   "cell_type": "markdown",
   "metadata": {},
   "source": [
    "<!--NAVIGATOR-->\n",
    "\n",
    "[<- 6. Lecture 6: Creating the book-like structure from a configuration file](06.00-Configs_for_creation.ipynb) | [Front page](00.00-Front_Page.ipynb) | [8. Lecture 8: Running via a configuration file ->](08.00-Run_Config.ipynb)\n",
    "\n",
    "---\n"
   ]
  },
  {
   "cell_type": "markdown",
   "metadata": {},
   "source": [
    "# Lecture 7: Example of a configuration file\n",
    "\n",
    "Here is the configuration file used for this specific set of lecture notes."
   ]
  },
  {
   "cell_type": "markdown",
   "metadata": {},
   "source": [
    "## Config file\n",
    "\n",
    "```yaml\n",
    "book:\n",
    "  toc_nb_name: 00.00-Front_Page.ipynb\n",
    "  header: \"*Header for the set of lecture notes in the nbbinder module*\"\n",
    "  core_navigators:\n",
    "    - 00.00-Front_Page.ipynb\n",
    "  repository: rmsrosa/nbbinder\n",
    "  branch: master\n",
    "  github_nb_dir: tests/lectures\n",
    "  show_binder: True\n",
    "  show_full_entry_in_toc: False\n",
    "  show_full_entry_in_nav: False\n",
    "```"
   ]
  },
  {
   "cell_type": "markdown",
   "metadata": {},
   "source": [
    "<!--NAVIGATOR-->\n",
    "\n",
    "---\n",
    "[<- 6. Lecture 6: Creating the book-like structure from a configuration file](06.00-Configs_for_creation.ipynb) | [Front page](00.00-Front_Page.ipynb) | [8. Lecture 8: Running via a configuration file ->](08.00-Run_Config.ipynb)"
   ]
  }
 ],
 "metadata": {
  "kernelspec": {
   "display_name": "Python 3",
   "language": "python",
   "name": "python3"
  },
  "language_info": {
   "codemirror_mode": {
    "name": "ipython",
    "version": 3
   },
   "file_extension": ".py",
   "mimetype": "text/x-python",
   "name": "python",
   "nbconvert_exporter": "python",
   "pygments_lexer": "ipython3",
   "version": "3.7.1"
  }
 },
 "nbformat": 4,
 "nbformat_minor": 2
}
