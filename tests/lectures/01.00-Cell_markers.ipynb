{
 "cells": [
  {
   "cell_type": "markdown",
   "metadata": {},
   "source": [
    "<!--HEADER-->\n",
    "Test 3 for the nbbinder module"
   ]
  },
  {
   "cell_type": "markdown",
   "metadata": {},
   "source": [
    "<!--NAVIGATOR-->\n",
    "\n",
    "[<- Front page](00.00-Front_Page.ipynb) | [Front page](00.00-Front_Page.ipynb) | [2. Lecture 2: Creating the Table of Contents ->](02.00-Toc_creation.ipynb)\n",
    "\n",
    "---\n"
   ]
  },
  {
   "cell_type": "markdown",
   "metadata": {},
   "source": [
    "# Lecture 1: Cell markers\n",
    "\n",
    "The **Table of Contents**, the **headers**, and the **navigators** appear in selected cells in the jupyter notebooks. These cells have **markers**, according to their types.\n",
    "\n",
    "The markers are **html** comments, so they do not show up in the notebook, except when editing the cell, although the point is precisely to avoid editing them and create and update them automatically.\n",
    "\n",
    "The markers are\n",
    "\n",
    "```html\n",
    "<!--TABLE_OF_CONTENTS--\\>\n",
    "\n",
    "<!--HEADER-->\n",
    "\n",
    "<!--NAVIGATOR-->\n",
    "```\n",
    " \n",
    "and their names speak for themselves.\n",
    "\n",
    "The cell has to start with one of theses markers to be understood as the appropriate cell.\n",
    "\n",
    "The **header** cell is always the first one in the notebook, when present. \n",
    "\n",
    "The **navigator** cells appear in two places in each notebook: as the last cell, for the bottom navigators, and as either the first or the second cell, depending on whether there is a **header** cell or not.\n",
    "\n",
    "The **Table of Contents** cell can vary in position. It can be given a priori at some place in the *Table of Contents* notebook file, or it can be included automatically by the `nbbinder` script. In the former case, the author of the notebook is responsible for opening up a cell and typing up the marker in the beginning of the cell. In the later case, the `nbbinder` module will create the table of contents in either the second to last cell, if there is a bottom **navigator**, or as the very last cell, otherwise. It must be stressed that the module will first look for the marker somewhere in the notebook and use the corresponding cell if it finds it. Only if it doesn't find it that it will add a cell as the last or second to last cell.\n",
    "\n",
    "If the `nbbinder` script is ran again, it will look for the marker cells and rewrite them with the updated information, removing any previous data."
   ]
  },
  {
   "cell_type": "markdown",
   "metadata": {},
   "source": [
    "<!--NAVIGATOR-->\n",
    "\n",
    "---\n",
    "[<- Front page](00.00-Front_Page.ipynb) | [Front page](00.00-Front_Page.ipynb) | [2. Lecture 2: Creating the Table of Contents ->](02.00-Toc_creation.ipynb)"
   ]
  }
 ],
 "metadata": {
  "kernelspec": {
   "display_name": "Python 3",
   "language": "python",
   "name": "python3"
  },
  "language_info": {
   "codemirror_mode": {
    "name": "ipython",
    "version": 3
   },
   "file_extension": ".py",
   "mimetype": "text/x-python",
   "name": "python",
   "nbconvert_exporter": "python",
   "pygments_lexer": "ipython3",
   "version": "3.7.1"
  }
 },
 "nbformat": 4,
 "nbformat_minor": 2
}
