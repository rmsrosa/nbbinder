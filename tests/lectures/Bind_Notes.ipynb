{
 "cells": [
  {
   "cell_type": "markdown",
   "metadata": {},
   "source": [
    "# Bind the Lecture Notes from a Non-Indexed notebook\n",
    "\n",
    "If the `nbbinder` package is installed in the environment, just import it with as usual, otherwise, it is assumed this set of notebooks is two subdirectories down in the `nbbinder` package, so it can be imported with a relative path:"
   ]
  },
  {
   "cell_type": "code",
   "execution_count": 1,
   "metadata": {},
   "outputs": [],
   "source": [
    "try:\n",
    "    import nbbinder as nbb\n",
    "    \n",
    "except:\n",
    "    import os\n",
    "    import sys\n",
    "    \n",
    "    sys.path.insert(0, os.path.abspath(os.path.join(os.getcwd(), '..', '..')))\n",
    "    \n",
    "    import nbbinder as nbb"
   ]
  },
  {
   "cell_type": "markdown",
   "metadata": {},
   "source": [
    "Then we create the book-like structure from the configuration file `config.yml` contained in the same folder where these notebooks are:"
   ]
  },
  {
   "cell_type": "code",
   "execution_count": 2,
   "metadata": {},
   "outputs": [
    {
     "data": {
      "text/plain": "'/Users/rrosa/Documents/github_repositories/nbbinder/tests/lectures'"
     },
     "execution_count": 2,
     "metadata": {},
     "output_type": "execute_result"
    }
   ],
   "source": [
    "import os\n",
    "os.chdir(os.path.join('tests', 'lectures'))\n",
    "os.getcwd()"
   ]
  },
  {
   "cell_type": "code",
   "execution_count": 3,
   "metadata": {},
   "outputs": [
    {
     "name": "stdout",
     "output_type": "stream",
     "text": "- Table of contents updated in 00.00-Front_Page.ipynb\n- updating header for 00.00-Front_Page.ipynb\n- updating header for 01.00-Cell_markers.ipynb\n- updating header for 02.00-Toc_creation.ipynb\n- updating header for 03.00-Header_creation.ipynb\n- updating header for 04.00-Navigator_creation.ipynb\n- updating header for 05.00-Book_creation.ipynb\n- updating header for 06.00-Configs_for_creation.ipynb\n- updating header for 07.00-Example_configs.ipynb\n- updating header for 08.00-Run_Config.ipynb\n- updating navbar for 00.00-Front_Page.ipynb\n- updating navbar for 01.00-Cell_markers.ipynb\n- updating navbar for 02.00-Toc_creation.ipynb\n- updating navbar for 03.00-Header_creation.ipynb\n- updating navbar for 04.00-Navigator_creation.ipynb\n- updating navbar for 05.00-Book_creation.ipynb\n- updating navbar for 06.00-Configs_for_creation.ipynb\n- updating navbar for 07.00-Example_configs.ipynb\n- updating navbar for 08.00-Run_Config.ipynb\n"
    }
   ],
   "source": [
    "nbb.bind_from_configfile('config.yml')"
   ]
  },
  {
   "cell_type": "code",
   "execution_count": null,
   "metadata": {},
   "outputs": [],
   "source": []
  }
 ],
 "metadata": {
  "kernelspec": {
   "display_name": "Python 3",
   "language": "python",
   "name": "python3"
  },
  "language_info": {
   "codemirror_mode": {
    "name": "ipython",
    "version": 3
   },
   "file_extension": ".py",
   "mimetype": "text/x-python",
   "name": "python",
   "nbconvert_exporter": "python",
   "pygments_lexer": "ipython3",
   "version": "3.7.3"
  }
 },
 "nbformat": 4,
 "nbformat_minor": 2
}