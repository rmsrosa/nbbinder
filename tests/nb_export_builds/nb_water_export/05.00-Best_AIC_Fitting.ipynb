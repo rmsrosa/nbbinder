{
 "cells": [
  {
   "cell_type": "markdown",
   "metadata": {
    "slideshow": {
     "slide_type": "skip"
    }
   },
   "source": [
    "<!--HEADER-->\n",
    "[*NBBinder test on a collection of notebooks about some thermodynamic properperties of water*](https://github.com/rmsrosa/nbbinder)"
   ]
  },
  {
   "cell_type": "markdown",
   "metadata": {
    "slideshow": {
     "slide_type": "skip"
    }
   },
   "source": [
    "<!--BADGES-->\n",
    "<a href=\"https://nbviewer.jupyter.org/github/rmsrosa/nbbinder/blob/master/tests/nb_export_builds/nb_water_md/05.00-Best_AIC_Fitting.md\"><img align=\"left\" src=\"https://img.shields.io/badge/view-markdown-orange\" alt=\"View Markdown\" title=\"View Markdown\"></a><a href=\"https://nbviewer.jupyter.org/github/rmsrosa/nbbinder/blob/master/tests/nb_export_builds/nb_water_pdf/05.00-Best_AIC_Fitting.pdf\"><img align=\"left\" src=\"https://img.shields.io/badge/view-pdf-blueviolet\" alt=\"View PDF\" title=\"View PDF\"></a>&nbsp;"
   ]
  },
  {
   "cell_type": "markdown",
   "metadata": {
    "slideshow": {
     "slide_type": "skip"
    }
   },
   "source": [
    "<!--NAVIGATOR-->\n",
    "[<- High-Dimensional Fittings](04.00-High_Dim_Fittings.ipynb) | [Water Contents](00.00-Water_Contents.ipynb) | [References](BA.00-References.ipynb) | [References ->](BA.00-References.ipynb)\n",
    "\n",
    "---\n"
   ]
  },
  {
   "cell_type": "markdown",
   "metadata": {
    "slideshow": {
     "slide_type": "slide"
    }
   },
   "source": [
    "# Choosing the Best Fit with AIC\n",
    "\n",
    "In this final section, we use the *Akaike Information Criterion (AIC)* (see [Burnham \\& Anderson (2002); Bender (2000)](BA.00-References.ipynb)) to select the most efficient polynomial approximation."
   ]
  },
  {
   "cell_type": "markdown",
   "metadata": {
    "slideshow": {
     "slide_type": "skip"
    }
   },
   "source": [
    "## Importing the libraries"
   ]
  },
  {
   "cell_type": "code",
   "execution_count": 1,
   "metadata": {
    "slideshow": {
     "slide_type": "skip"
    }
   },
   "outputs": [],
   "source": [
    "import csv\n",
    "import numpy as np\n",
    "import matplotlib.pyplot as plt"
   ]
  },
  {
   "cell_type": "markdown",
   "metadata": {
    "slideshow": {
     "slide_type": "slide"
    }
   },
   "source": [
    "## Akaike Information Criterion\n",
    "\n",
    "Beink $k$ the number of parameters in the model, $N$ the number of data points in the sample, and $E$ the mean quadratic error with the approximation with $k$ parameters, the **Akaike Information Criterion (AIC)** is given by\n",
    "\n",
    "$$\n",
    "  \\text{AIC} = N\\ln(E) + 2k.\n",
    "$$\n",
    "\n",
    "The first term decreases with $E$, but the second term penalizes a high number of parameters.\n",
    "\n",
    "There are a number of other criteria, such as *Bayesian information criterion (BIC)*, *Mallow's $C_p$*, *AICc* (for a low number of samples), *adjusted $R^2$*; *ridge regression*; and *cross validation*."
   ]
  },
  {
   "cell_type": "markdown",
   "metadata": {
    "slideshow": {
     "slide_type": "slide"
    }
   },
   "source": [
    "### AIC for the approximating polynomials\n",
    "\n",
    "In our case, a polynomial model of degree $j$ has $k=j+1$ parameters. Denoting $E_j$ as the mean quadratic error associated with this polynomial, we find the $\\text{AIC}_j$ for each polynomial as\n",
    "\n",
    "$$\n",
    "\\text{AIC}_j = N\\ln(E_j) + 2(j+1).\n",
    "$$\n"
   ]
  },
  {
   "cell_type": "markdown",
   "metadata": {
    "slideshow": {
     "slide_type": "slide"
    }
   },
   "source": [
    "## Loading the data from file\n",
    "\n",
    "For the computation of the $\\text{AIC}_j$ values, we first load the data from file.\n",
    "\n",
    "This time, we use `csv` to read only the header of the file, contained in the first two rows, and then we use `numpy` to read the temperature and density values, which are in the remaining rows. This is a more efficient way to load the data."
   ]
  },
  {
   "cell_type": "markdown",
   "metadata": {
    "slideshow": {
     "slide_type": "slide"
    }
   },
   "source": [
    "### Loading the header\n",
    "\n",
    "We start by reading the header. We read the first two lines of the file and make a dictionary from it."
   ]
  },
  {
   "cell_type": "code",
   "execution_count": 2,
   "metadata": {
    "slideshow": {
     "slide_type": "fragment"
    }
   },
   "outputs": [
    {
     "data": {
      "text/plain": [
       "{'temp': 'Temperature (C)',\n",
       " 'density': 'Density (g/cm^3)',\n",
       " 'viscosity': 'Viscosity (cm^2/s)'}"
      ]
     },
     "execution_count": 2,
     "metadata": {},
     "output_type": "execute_result"
    }
   ],
   "source": [
    "water_csv_reader = csv.reader(open('water.csv',\"r\"), delimiter=\",\")\n",
    "line1, line2 = next(water_csv_reader), next(water_csv_reader)\n",
    "header = dict([(line1[i], line2[i]) for i in range(3)])\n",
    "header"
   ]
  },
  {
   "cell_type": "markdown",
   "metadata": {
    "slideshow": {
     "slide_type": "slide"
    }
   },
   "source": [
    "### Loading the data\n",
    "\n",
    "Next we read the data values for temperature and density, which are in the first and second columns, so we skip the first two rows and ignore the last column."
   ]
  },
  {
   "cell_type": "code",
   "execution_count": 3,
   "metadata": {
    "slideshow": {
     "slide_type": "fragment"
    }
   },
   "outputs": [],
   "source": [
    "T, f = np.loadtxt(open('water.csv', \"r\"), delimiter=\",\", skiprows=2, usecols=(0,1), unpack=True)"
   ]
  },
  {
   "cell_type": "markdown",
   "metadata": {
    "slideshow": {
     "slide_type": "fragment"
    }
   },
   "source": [
    "We also define two auxiliary variables related to the number of rows."
   ]
  },
  {
   "cell_type": "code",
   "execution_count": 4,
   "metadata": {
    "slideshow": {
     "slide_type": "fragment"
    }
   },
   "outputs": [],
   "source": [
    "N = len(T)\n",
    "N_half = int(N/2)"
   ]
  },
  {
   "cell_type": "markdown",
   "metadata": {
    "slideshow": {
     "slide_type": "slide"
    }
   },
   "source": [
    "### Computing the mean quadratic error\n",
    "\n",
    "With the data in memory, we compute the $\\text{AIC}_j$ values."
   ]
  },
  {
   "cell_type": "code",
   "execution_count": 5,
   "metadata": {
    "slideshow": {
     "slide_type": "fragment"
    }
   },
   "outputs": [
    {
     "name": "stdout",
     "output_type": "stream",
     "text": [
      "j=0: Error=1.75e-04\n",
      "j=1: Error=9.22e-06\n",
      "j=2: Error=1.33e-07\n",
      "j=3: Error=3.16e-09\n",
      "j=4: Error=3.27e-10\n",
      "j=5: Error=2.64e-10\n",
      "j=6: Error=2.64e-10\n"
     ]
    }
   ],
   "source": [
    "A = list()\n",
    "Err = list()\n",
    "for j in range(N_half):\n",
    "    A.append(np.vstack([T**i for i in range(j+1)]).T)\n",
    "    Err.append(np.linalg.lstsq(A[j], f, rcond=None)[1][0]/N)\n",
    "    print(f'j={j}: Error={Err[j]:.2e}')    "
   ]
  },
  {
   "cell_type": "markdown",
   "metadata": {
    "slideshow": {
     "slide_type": "slide"
    }
   },
   "source": [
    "### Computing the AIC values"
   ]
  },
  {
   "cell_type": "code",
   "execution_count": 6,
   "metadata": {
    "slideshow": {
     "slide_type": "fragment"
    }
   },
   "outputs": [
    {
     "name": "stdout",
     "output_type": "stream",
     "text": [
      "j=0: AIC=-125.74\n",
      "j=1: AIC=-167.91\n",
      "j=2: AIC=-229.52\n",
      "j=3: AIC=-283.59\n",
      "j=4: AIC=-315.63\n",
      "j=5: AIC=-316.81\n",
      "j=6: AIC=-314.83\n"
     ]
    }
   ],
   "source": [
    "AIC = [len(T)*np.log(Err[j]) + 2*(j+2) for j in range(N_half)]\n",
    "for j in range(len(AIC)):\n",
    "    print(f'j={j}: AIC={AIC[j]:.2f}')"
   ]
  },
  {
   "cell_type": "markdown",
   "metadata": {
    "slideshow": {
     "slide_type": "slide"
    }
   },
   "source": [
    "### Plotting the AIC value\n",
    "\n",
    "Finally, we plot the AIC values in terms of the degree of the polynomials."
   ]
  },
  {
   "cell_type": "code",
   "execution_count": 7,
   "metadata": {
    "slideshow": {
     "slide_type": "fragment"
    }
   },
   "outputs": [
    {
     "data": {
      "image/png": "[encoded data removed]",
      "text/plain": [
       "<Figure size 720x360 with 1 Axes>"
      ]
     },
     "metadata": {
      "needs_background": "light"
     },
     "output_type": "display_data"
    }
   ],
   "source": [
    "plt.figure(figsize=(10,5))\n",
    "plt.plot(range(len(AIC)),AIC, 'o', color='tab:blue', label='AIC values')\n",
    "plt.plot(range(len(AIC)), AIC, color='tab:orange', label='Interpolation')\n",
    "plt.legend()\n",
    "plt.xlabel('degree', fontsize=12)\n",
    "plt.ylabel('AIC value', fontsize=12)\n",
    "plt.title('AIC value in terms of the degree of the approximating polynomial', fontsize=14)\n",
    "plt.show()"
   ]
  },
  {
   "cell_type": "markdown",
   "metadata": {
    "slideshow": {
     "slide_type": "slide"
    }
   },
   "source": [
    "### Final comments\n",
    "\n",
    "The use of a model selection criterion such as the AIC is important when we have a large number of data that is not quite accurately approximated by a model. Nevertheless, the exercise above is instructive."
   ]
  },
  {
   "cell_type": "markdown",
   "metadata": {
    "slideshow": {
     "slide_type": "slide"
    }
   },
   "source": [
    "<!--NAVIGATOR-->\n",
    "\n",
    "---\n",
    "[<- High-Dimensional Fittings](04.00-High_Dim_Fittings.ipynb) | [Water Contents](00.00-Water_Contents.ipynb) | [References](BA.00-References.ipynb) | [References ->](BA.00-References.ipynb)"
   ]
  }
 ],
 "metadata": {
  "kernelspec": {
   "display_name": "Python 3",
   "language": "python",
   "name": "python3"
  },
  "language_info": {
   "codemirror_mode": {
    "name": "ipython",
    "version": 3
   },
   "file_extension": ".py",
   "mimetype": "text/x-python",
   "name": "python",
   "nbconvert_exporter": "python",
   "pygments_lexer": "ipython3",
   "version": "3.7.3"
  }
 },
 "nbformat": 4,
 "nbformat_minor": 4
}
