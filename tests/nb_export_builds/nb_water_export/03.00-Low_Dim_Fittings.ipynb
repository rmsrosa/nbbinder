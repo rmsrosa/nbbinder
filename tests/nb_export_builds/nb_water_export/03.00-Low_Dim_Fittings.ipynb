{
 "cells": [
  {
   "cell_type": "markdown",
   "metadata": {
    "slideshow": {
     "slide_type": "skip"
    }
   },
   "source": [
    "<!--HEADER-->\n",
    "[*NBBinder test on a collection of notebooks about some thermodynamic properperties of water*](https://github.com/rmsrosa/nbbinder)"
   ]
  },
  {
   "cell_type": "markdown",
   "metadata": {
    "slideshow": {
     "slide_type": "skip"
    }
   },
   "source": [
    "<!--BADGES-->\n",
    "<a href=\"https://nbviewer.jupyter.org/github/rmsrosa/nbbinder/blob/master/tests/nb_export_builds/nb_water_md/03.00-Low_Dim_Fittings.md\"><img align=\"left\" src=\"https://img.shields.io/badge/view-markdown-orange\" alt=\"View Markdown\" title=\"View Markdown\"></a><a href=\"https://nbviewer.jupyter.org/github/rmsrosa/nbbinder/blob/master/tests/nb_export_builds/nb_water_pdf/03.00-Low_Dim_Fittings.pdf\"><img align=\"left\" src=\"https://img.shields.io/badge/view-pdf-blueviolet\" alt=\"View PDF\" title=\"View PDF\"></a>&nbsp;"
   ]
  },
  {
   "cell_type": "markdown",
   "metadata": {
    "slideshow": {
     "slide_type": "skip"
    }
   },
   "source": [
    "<!--NAVIGATOR-->\n",
    "[<- Reading the Data](02.00-Data.ipynb) | [Water Contents](00.00-Water_Contents.ipynb) | [References](BA.00-References.ipynb) | [High-Dimensional Fittings ->](04.00-High_Dim_Fittings.ipynb)\n",
    "\n",
    "---\n"
   ]
  },
  {
   "cell_type": "markdown",
   "metadata": {
    "slideshow": {
     "slide_type": "slide"
    }
   },
   "source": [
    "# Low-Dimensional Fittings\n",
    "\n",
    "We use the classical least-square method to fit low degree polynomials to the data.\n",
    "\n",
    "See e.g. [Golub and Van Loan (1996)](BA.00-References.ipynb) and [Trefethen and Bau III (1997)](BA.00-References.ipynb) for details on the least-square method."
   ]
  },
  {
   "cell_type": "markdown",
   "metadata": {
    "slideshow": {
     "slide_type": "slide"
    }
   },
   "source": [
    "## Importing the libraries"
   ]
  },
  {
   "cell_type": "code",
   "execution_count": 1,
   "metadata": {
    "slideshow": {
     "slide_type": "fragment"
    }
   },
   "outputs": [],
   "source": [
    "import csv\n",
    "import numpy as np\n",
    "import matplotlib.pyplot as plt"
   ]
  },
  {
   "cell_type": "markdown",
   "metadata": {
    "slideshow": {
     "slide_type": "slide"
    }
   },
   "source": [
    "## Loading the data\n",
    "\n",
    "This time we use the `csv` library to read the data from file and use `numpy` to work with the data."
   ]
  },
  {
   "cell_type": "markdown",
   "metadata": {
    "slideshow": {
     "slide_type": "slide"
    }
   },
   "source": [
    "### Loading with csv\n",
    "\n",
    "We first load the data into a python list with `csv`."
   ]
  },
  {
   "cell_type": "code",
   "execution_count": 2,
   "metadata": {
    "slideshow": {
     "slide_type": "fragment"
    }
   },
   "outputs": [
    {
     "data": {
      "text/plain": [
       "[['temp', 'density', 'viscosity'],\n",
       " ['Temperature (C)', 'Density (g/cm^3)', 'Viscosity (cm^2/s)'],\n",
       " ['0', '0.9999', '0.01787'],\n",
       " ['5', '1', '1.514'],\n",
       " ['10', '0.9997', '1.304'],\n",
       " ['15', '0.9991', '1.138'],\n",
       " ['20', '0.9982', '1.004'],\n",
       " ['25', '0.9971', '0.894'],\n",
       " ['30', '0.9957', '0.802'],\n",
       " ['35', '0.9941', '0.725'],\n",
       " ['40', '0.9923', '0.659'],\n",
       " ['50', '0.9881', '0.554'],\n",
       " ['60', '0.9832', '0.475'],\n",
       " ['70', '0.9778', '0.414'],\n",
       " ['80', '0.9718', '0.366'],\n",
       " ['90', '0.9653', '0.327'],\n",
       " ['100', '0.9584', '0.295']]"
      ]
     },
     "execution_count": 2,
     "metadata": {},
     "output_type": "execute_result"
    }
   ],
   "source": [
    "file = open('water.csv',\"r\")\n",
    "water_csv = list(csv.reader(file, delimiter=\",\"))\n",
    "water_csv"
   ]
  },
  {
   "cell_type": "markdown",
   "metadata": {
    "slideshow": {
     "slide_type": "slide"
    }
   },
   "source": [
    "### Header and datapoints\n",
    "\n",
    "We separate the header from the datapoints and have the datapoints put into a `numpy` array as follows."
   ]
  },
  {
   "cell_type": "code",
   "execution_count": 3,
   "metadata": {
    "slideshow": {
     "slide_type": "fragment"
    }
   },
   "outputs": [
    {
     "name": "stdout",
     "output_type": "stream",
     "text": [
      "{'temp': 'Temperature (C)', 'density': 'Density (g/cm^3)', 'viscosity': 'Viscosity (cm^2/s)'}\n"
     ]
    }
   ],
   "source": [
    "header = dict([(water_csv[0][i],water_csv[1][i]) for i in range(3)])\n",
    "print(header)"
   ]
  },
  {
   "cell_type": "code",
   "execution_count": 4,
   "metadata": {
    "slideshow": {
     "slide_type": "subslide"
    }
   },
   "outputs": [
    {
     "name": "stdout",
     "output_type": "stream",
     "text": [
      "[[0.000e+00 9.999e-01 1.787e-02]\n",
      " [5.000e+00 1.000e+00 1.514e+00]\n",
      " [1.000e+01 9.997e-01 1.304e+00]\n",
      " [1.500e+01 9.991e-01 1.138e+00]\n",
      " [2.000e+01 9.982e-01 1.004e+00]\n",
      " [2.500e+01 9.971e-01 8.940e-01]\n",
      " [3.000e+01 9.957e-01 8.020e-01]\n",
      " [3.500e+01 9.941e-01 7.250e-01]\n",
      " [4.000e+01 9.923e-01 6.590e-01]\n",
      " [5.000e+01 9.881e-01 5.540e-01]\n",
      " [6.000e+01 9.832e-01 4.750e-01]\n",
      " [7.000e+01 9.778e-01 4.140e-01]\n",
      " [8.000e+01 9.718e-01 3.660e-01]\n",
      " [9.000e+01 9.653e-01 3.270e-01]\n",
      " [1.000e+02 9.584e-01 2.950e-01]]\n"
     ]
    }
   ],
   "source": [
    "datapoints = np.array(water_csv[2:]).astype(\"float\")\n",
    "print(datapoints)"
   ]
  },
  {
   "cell_type": "markdown",
   "metadata": {
    "slideshow": {
     "slide_type": "slide"
    }
   },
   "source": [
    "## Linear approximation\n",
    "\n",
    "Given a set of temperature and density data in the form $(T_j, \\rho_j)$, we look for a linear relation $\\rho^{(1)}(T) = c + m T$ which is the \"best fit\" for the data. \n",
    "\n",
    "One way to approach this problem is to interpret the best fit as minimizing the sum of squares of the residuals. The **residual** for each $j$ measurement is\n",
    "\n",
    "$$\n",
    "r_j = \\rho_j - \\rho^{(1)}(T_j),\n",
    "$$\n",
    "\n",
    "and the **sum of squares of the residuals** is\n",
    "\n",
    "$$\n",
    "  \\min_{c,m\\in \\mathbb{R}} \\sum_j (\\rho_j - \\rho^{(1)}(T))^2.\n",
    "$$"
   ]
  },
  {
   "cell_type": "markdown",
   "metadata": {
    "slideshow": {
     "slide_type": "slide"
    }
   },
   "source": [
    "### Matrix form\n",
    "\n",
    "This can be written in matrix form as\n",
    "\n",
    "$$\n",
    "\\displaystyle \\min_{\\mathbf{u}\\in \\mathbb{R}^2} \\|A\\mathbf{u} - \\mathbf{f}\\|_2^2,\n",
    "$$\n",
    "\n",
    "where $\\|\\cdot\\|_2$ is the Euclidian norm of a vector and\n",
    "\n",
    "$$ A = \\left[ \\begin{matrix} T_1 & 1 \\\\ \\vdots  & 1 \\\\ T_n & 1 \\end{matrix}\\right], \\qquad \\mathbf{u} = \\left( \\begin{matrix} m \\\\ c \\end{matrix}\\right), \\qquad \\mathbf{f} = \\left( \\begin{matrix} \\rho_1 \\\\ \\vdots \\\\ \\rho_n \\end{matrix} \\right).\n",
    "$$"
   ]
  },
  {
   "cell_type": "markdown",
   "metadata": {
    "slideshow": {
     "slide_type": "fragment"
    }
   },
   "source": [
    "The matrix $A$ is a simple **Vandermonde** type matrix obtained from the temperature data, $\\mathbf{u}$ is the unknown vector with the desired coefficients for the approximation, and $\\mathbf{f}$ is the vector with the density measurements."
   ]
  },
  {
   "cell_type": "markdown",
   "metadata": {
    "slideshow": {
     "slide_type": "slide"
    }
   },
   "source": [
    "### The Vandermonde matrix\n",
    "\n",
    "We use the [`numpy`](https://docs.scipy.org/doc/numpy/) function [`numpy.vstack()`](https://docs.scipy.org/doc/numpy/reference/generated/numpy.vstack.html) to build the Vandermonde matrix $A$."
   ]
  },
  {
   "cell_type": "code",
   "execution_count": 5,
   "metadata": {
    "slideshow": {
     "slide_type": "fragment"
    }
   },
   "outputs": [
    {
     "name": "stdout",
     "output_type": "stream",
     "text": [
      "[[  0.   1.]\n",
      " [  5.   1.]\n",
      " [ 10.   1.]\n",
      " [ 15.   1.]\n",
      " [ 20.   1.]\n",
      " [ 25.   1.]\n",
      " [ 30.   1.]\n",
      " [ 35.   1.]\n",
      " [ 40.   1.]\n",
      " [ 50.   1.]\n",
      " [ 60.   1.]\n",
      " [ 70.   1.]\n",
      " [ 80.   1.]\n",
      " [ 90.   1.]\n",
      " [100.   1.]]\n"
     ]
    }
   ],
   "source": [
    "T = datapoints[:,0]\n",
    "A1 = np.vstack([T,np.ones(len(T))]).T\n",
    "print(A1)"
   ]
  },
  {
   "cell_type": "markdown",
   "metadata": {
    "slideshow": {
     "slide_type": "slide"
    }
   },
   "source": [
    "### The density measurements\n",
    "\n",
    "The density data is the second column of the data array."
   ]
  },
  {
   "cell_type": "code",
   "execution_count": 6,
   "metadata": {
    "slideshow": {
     "slide_type": "fragment"
    }
   },
   "outputs": [
    {
     "name": "stdout",
     "output_type": "stream",
     "text": [
      "[0.9999 1.     0.9997 0.9991 0.9982 0.9971 0.9957 0.9941 0.9923 0.9881\n",
      " 0.9832 0.9778 0.9718 0.9653 0.9584]\n"
     ]
    }
   ],
   "source": [
    "f = datapoints[:,1]\n",
    "print(f)"
   ]
  },
  {
   "cell_type": "markdown",
   "metadata": {
    "slideshow": {
     "slide_type": "slide"
    }
   },
   "source": [
    "### Solution of the least-square problem for the linear approximation\n",
    "\n",
    "We use the `numpy` function [numpy.linagl.lstsq()](https://docs.scipy.org/doc/numpy/reference/generated/numpy.linalg.lstsq.html) to solve the least-square problem."
   ]
  },
  {
   "cell_type": "code",
   "execution_count": 7,
   "metadata": {
    "slideshow": {
     "slide_type": "fragment"
    }
   },
   "outputs": [
    {
     "name": "stdout",
     "output_type": "stream",
     "text": [
      "-0.00041965346534652876 1.0056721122112207\n"
     ]
    }
   ],
   "source": [
    "m, d = np.linalg.lstsq(A1, f, rcond=None)[0]\n",
    "print(m,d)"
   ]
  },
  {
   "cell_type": "markdown",
   "metadata": {
    "slideshow": {
     "slide_type": "slide"
    }
   },
   "source": [
    "### Visualizing the result\n",
    "\n",
    "Now we plot the linear approximation along with the data to visualize the quality of the approximation"
   ]
  },
  {
   "cell_type": "code",
   "execution_count": 8,
   "metadata": {
    "slideshow": {
     "slide_type": "fragment"
    }
   },
   "outputs": [
    {
     "data": {
      "image/png": "[encoded data removed]",
      "text/plain": [
       "<Figure size 720x360 with 1 Axes>"
      ]
     },
     "metadata": {
      "needs_background": "light"
     },
     "output_type": "display_data"
    }
   ],
   "source": [
    "plt.figure(figsize=(10,5))\n",
    "plt.plot(T, f, 'o', label='Data', color='tab:blue')\n",
    "plt.plot(T, m*T + d, 'b', label='Linear approximation', color='tab:red')\n",
    "plt.title('Plot of the data and of the linear approximation', fontsize=14)\n",
    "plt.xlabel(header['temp'], fontsize=12)\n",
    "plt.ylabel(header['density'], fontsize=12) \n",
    "plt.legend()\n",
    "plt.show()"
   ]
  },
  {
   "cell_type": "markdown",
   "metadata": {
    "slideshow": {
     "slide_type": "slide"
    }
   },
   "source": [
    "## Second-degree approximation\n",
    "\n",
    "One can see from the plot above that the first-degree approximation doesn't seem to be a very good approximation. We look, now, for a second-degree approximation."
   ]
  },
  {
   "cell_type": "markdown",
   "metadata": {
    "slideshow": {
     "slide_type": "slide"
    }
   },
   "source": [
    "### The least-square problem\n",
    "\n",
    "For the second-degree approximation, we look for a second-degree polynomial $\\rho^{(2)}(T) = aT^2 + bT + c$ that best approximates the data in the sense of minimizing the sum of the square of the residuals \n",
    "\n",
    "$$\n",
    "r_j = \\rho_j - \\rho^{(2)}(T_j)\n",
    "$$"
   ]
  },
  {
   "cell_type": "markdown",
   "metadata": {
    "slideshow": {
     "slide_type": "slide"
    }
   },
   "source": [
    "### Matrix form\n",
    "\n",
    "This can be written in matrix form as\n",
    "\n",
    "$$\n",
    "\\displaystyle \\min_{\\mathbf{u}\\in \\mathbb{R}^2} \\|A\\mathbf{u} - \\mathbf{f}\\|_2^2,\n",
    "$$\n",
    "\n",
    "where $\\mathbf{f}$ is as before but the Vandermonde matrix and the vector of unknowns take the form\n",
    "\n",
    "$$ A = \\left[ \\begin{matrix} T_1^2 & T_1 & 1 \\\\ \\vdots  & 1 \\\\ T_n^2 & T_n & 1 \\end{matrix}\\right], \\qquad \\mathbf{u} = \\left( \\begin{matrix} a \\\\ b \\\\ c \\end{matrix}\\right).\n",
    "$$"
   ]
  },
  {
   "cell_type": "markdown",
   "metadata": {
    "slideshow": {
     "slide_type": "slide"
    }
   },
   "source": [
    "### Vandermonde matrix\n",
    "\n",
    "In this case, the Vandermonde matrix is"
   ]
  },
  {
   "cell_type": "code",
   "execution_count": 9,
   "metadata": {
    "slideshow": {
     "slide_type": "fragment"
    }
   },
   "outputs": [
    {
     "name": "stdout",
     "output_type": "stream",
     "text": [
      "[[0.000e+00 0.000e+00 1.000e+00]\n",
      " [2.500e+01 5.000e+00 1.000e+00]\n",
      " [1.000e+02 1.000e+01 1.000e+00]\n",
      " [2.250e+02 1.500e+01 1.000e+00]\n",
      " [4.000e+02 2.000e+01 1.000e+00]\n",
      " [6.250e+02 2.500e+01 1.000e+00]\n",
      " [9.000e+02 3.000e+01 1.000e+00]\n",
      " [1.225e+03 3.500e+01 1.000e+00]\n",
      " [1.600e+03 4.000e+01 1.000e+00]\n",
      " [2.500e+03 5.000e+01 1.000e+00]\n",
      " [3.600e+03 6.000e+01 1.000e+00]\n",
      " [4.900e+03 7.000e+01 1.000e+00]\n",
      " [6.400e+03 8.000e+01 1.000e+00]\n",
      " [8.100e+03 9.000e+01 1.000e+00]\n",
      " [1.000e+04 1.000e+02 1.000e+00]]\n"
     ]
    }
   ],
   "source": [
    "A2 = np.vstack([T**2, T,np.ones(len(T))]).T\n",
    "print(A2)"
   ]
  },
  {
   "cell_type": "markdown",
   "metadata": {
    "slideshow": {
     "slide_type": "slide"
    }
   },
   "source": [
    "### Solution"
   ]
  },
  {
   "cell_type": "code",
   "execution_count": 10,
   "metadata": {
    "slideshow": {
     "slide_type": "fragment"
    }
   },
   "outputs": [
    {
     "name": "stdout",
     "output_type": "stream",
     "text": [
      "-3.6295100056677867e-06 -6.496768558464583e-05 1.0005991832098982\n"
     ]
    }
   ],
   "source": [
    "a, b, c = np.linalg.lstsq(A2, f, rcond=None)[0]\n",
    "print(a,b,c)"
   ]
  },
  {
   "cell_type": "markdown",
   "metadata": {
    "slideshow": {
     "slide_type": "slide"
    }
   },
   "source": [
    "### Visualizing the result"
   ]
  },
  {
   "cell_type": "code",
   "execution_count": 11,
   "metadata": {
    "slideshow": {
     "slide_type": "fragment"
    }
   },
   "outputs": [
    {
     "data": {
      "image/png": "[encoded data removed]",
      "text/plain": [
       "<Figure size 720x360 with 1 Axes>"
      ]
     },
     "metadata": {
      "needs_background": "light"
     },
     "output_type": "display_data"
    }
   ],
   "source": [
    "plt.figure(figsize=(10,5))\n",
    "plt.plot(T, f, 'o', label='Data', color='tab:blue')\n",
    "plt.plot(T, a*T**2 + b*T + c, 'r', label='Quadratic approximation', color='tab:green')\n",
    "plt.title('Plot of the data and of the quadratic approximation', fontsize=14)\n",
    "plt.xlabel(header['temp'], fontsize=12)\n",
    "plt.ylabel(header['viscosity'], fontsize=12) \n",
    "plt.legend()\n",
    "plt.show()"
   ]
  },
  {
   "cell_type": "markdown",
   "metadata": {
    "slideshow": {
     "slide_type": "fragment"
    }
   },
   "source": [
    "This seems much better"
   ]
  },
  {
   "cell_type": "markdown",
   "metadata": {
    "slideshow": {
     "slide_type": "slide"
    }
   },
   "source": [
    "## Comparing the two approximations"
   ]
  },
  {
   "cell_type": "markdown",
   "metadata": {
    "slideshow": {
     "slide_type": "fragment"
    }
   },
   "source": [
    "### Visual comparison\n",
    "\n",
    "Visually, the second-degree approximation is way better."
   ]
  },
  {
   "cell_type": "code",
   "execution_count": 12,
   "metadata": {
    "slideshow": {
     "slide_type": "fragment"
    }
   },
   "outputs": [
    {
     "data": {
      "image/png": "[encoded data removed]",
      "text/plain": [
       "<Figure size 720x360 with 1 Axes>"
      ]
     },
     "metadata": {
      "needs_background": "light"
     },
     "output_type": "display_data"
    }
   ],
   "source": [
    "plt.figure(figsize=(10,5))\n",
    "plt.plot(T, f, 'o', label='Data', color='tab:blue')\n",
    "plt.plot(T, m*T + d, 'b', label='Linear approximation', color='tab:red')\n",
    "plt.plot(T, a*T**2 + b*T + c, 'r', label='Quadratic approximation', color='tab:green')\n",
    "plt.title('Plot of the data along with the approximations', fontsize=14)\n",
    "plt.xlabel(header['temp'], fontsize=12)\n",
    "plt.ylabel(header['viscosity'], fontsize=12) \n",
    "plt.legend()\n",
    "plt.show()"
   ]
  },
  {
   "cell_type": "markdown",
   "metadata": {
    "slideshow": {
     "slide_type": "slide"
    }
   },
   "source": [
    "### Comparing the quadratic error\n",
    "\n",
    "The **quadratic error** is the sum of the square of the residual errors for each measurement, i.e. \n",
    "\n",
    "$$\n",
    " \\Delta = \\sum_j r_j^2 = \\|A\\mathbf{u} - \\mathbf{f}\\|_2^2,\n",
    "$$ \n",
    "\n",
    "for the best approximation obtained. But this error is not normalized by the number of measurements. This is achieved with the **mean quadratic error**:\n",
    "\n",
    "$$\n",
    "E = \\frac{1}{N} \\sum_j r_j^2.\n",
    "$$"
   ]
  },
  {
   "cell_type": "code",
   "execution_count": 13,
   "metadata": {
    "slideshow": {
     "slide_type": "fragment"
    }
   },
   "outputs": [
    {
     "name": "stdout",
     "output_type": "stream",
     "text": [
      "Number of measurements: 15\n",
      "\n",
      "Quadratic error for the linear approximation: 1.38e-04\n",
      "Quadratic error for the quadratic approximation: 1.99e-06\n",
      "\n",
      "Mean quadratic error for the linear approximation: 9.22e-06\n",
      "Mean quadratic error for the quadratic approximation: 1.33e-07\n"
     ]
    }
   ],
   "source": [
    "N = len(f)\n",
    "print(f'Number of measurements: {N}\\n')\n",
    "print(f'Quadratic error for the linear approximation: {np.linalg.lstsq(A1, f, rcond=None)[1][0]:.2e}')\n",
    "print(f'Quadratic error for the quadratic approximation: {np.linalg.lstsq(A2, f, rcond=None)[1][0]:.2e}\\n')\n",
    "print(f'Mean quadratic error for the linear approximation: {np.linalg.lstsq(A1, f, rcond=None)[1][0]/N:.2e}')\n",
    "print(f'Mean quadratic error for the quadratic approximation: {np.linalg.lstsq(A2, f, rcond=None)[1][0]/N:.2e}')"
   ]
  },
  {
   "cell_type": "markdown",
   "metadata": {
    "slideshow": {
     "slide_type": "slide"
    }
   },
   "source": [
    "<!--NAVIGATOR-->\n",
    "\n",
    "---\n",
    "[<- Reading the Data](02.00-Data.ipynb) | [Water Contents](00.00-Water_Contents.ipynb) | [References](BA.00-References.ipynb) | [High-Dimensional Fittings ->](04.00-High_Dim_Fittings.ipynb)"
   ]
  }
 ],
 "metadata": {
  "kernelspec": {
   "display_name": "Python 3",
   "language": "python",
   "name": "python3"
  },
  "language_info": {
   "codemirror_mode": {
    "name": "ipython",
    "version": 3
   },
   "file_extension": ".py",
   "mimetype": "text/x-python",
   "name": "python",
   "nbconvert_exporter": "python",
   "pygments_lexer": "ipython3",
   "version": "3.7.3"
  }
 },
 "nbformat": 4,
 "nbformat_minor": 4
}
