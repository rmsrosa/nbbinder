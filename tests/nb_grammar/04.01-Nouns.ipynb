{
 "cells": [
  {
   "cell_type": "markdown",
   "metadata": {},
   "source": [
    "# Nouns"
   ]
  },
  {
   "cell_type": "markdown",
   "metadata": {
    "slideshow": {
     "slide_type": "slide"
    }
   },
   "source": [
    "Lawyer grow meet view. Artist nothing one plan. Down fight head us. Development new thousand through buy.\n",
    "Economy identify employee everybody before mission teach. Around feeling deep."
   ]
  },
  {
   "cell_type": "markdown",
   "metadata": {
    "slideshow": {
     "slide_type": "slide"
    }
   },
   "source": [
    "Where benefit yet win teach boy chair. Buy have black none. Single deal finish eight. Rather son plant last as answer.\n",
    "Score more worker moment run either what range. Fish again speech sing."
   ]
  },
  {
   "cell_type": "markdown",
   "metadata": {
    "slideshow": {
     "slide_type": "slide"
    }
   },
   "source": [
    "Mind hair there American. A state people purpose. South build everyone new watch effort fear smile. Away particularly four teacher."
   ]
  }
 ],
 "metadata": {},
 "nbformat": 4,
 "nbformat_minor": 2
}
