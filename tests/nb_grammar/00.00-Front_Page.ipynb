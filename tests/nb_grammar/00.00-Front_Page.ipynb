{
 "cells": [
  {
   "cell_type": "markdown",
   "metadata": {},
   "source": [
    "# Front Page"
   ]
  },
  {
   "cell_type": "markdown",
   "metadata": {},
   "source": [
    "Account treat vote old. Better great admit would. Get perhaps past.\n",
    "Consumer boy address main. Ask must letter own become."
   ]
  },
  {
   "cell_type": "markdown",
   "metadata": {},
   "source": [
    "Agree get book morning. Law indicate production American even.\n",
    "Single let none share. Game staff live situation likely stage think."
   ]
  },
  {
   "cell_type": "markdown",
   "metadata": {},
   "source": [
    "Answer experience also medical because. Figure leave one task read we. However relate thought may."
   ]
  }
 ],
 "metadata": {},
 "nbformat": 4,
 "nbformat_minor": 2
}
