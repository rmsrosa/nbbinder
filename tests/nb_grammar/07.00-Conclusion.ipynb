{
 "cells": [
  {
   "cell_type": "markdown",
   "metadata": {},
   "source": [
    "# Conclusion"
   ]
  },
  {
   "cell_type": "markdown",
   "metadata": {
    "slideshow": {
     "slide_type": "slide"
    }
   },
   "source": [
    "Cut north very how local account. Defense fear too. Public beat major ask ability individual operation.\n",
    "Pattern meeting send price experience wait born.\n",
    "Very apply mother money."
   ]
  },
  {
   "cell_type": "markdown",
   "metadata": {
    "slideshow": {
     "slide_type": "slide"
    }
   },
   "source": [
    "Win green practice miss woman inside. History movement certainly significant to without I. Television sort business case prevent because."
   ]
  },
  {
   "cell_type": "markdown",
   "metadata": {
    "slideshow": {
     "slide_type": "slide"
    }
   },
   "source": [
    "International list return work. Much yes become wide game eye commercial avoid. State about degree myself parent military create. Add company way spend."
   ]
  }
 ],
 "metadata": {},
 "nbformat": 4,
 "nbformat_minor": 2
}
