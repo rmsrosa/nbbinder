{
 "cells": [
  {
   "cell_type": "markdown",
   "metadata": {
    "slideshow": {
     "slide_type": "slide"
    }
   },
   "source": [
    "# References"
   ]
  },
  {
   "cell_type": "markdown",
   "metadata": {
    "slideshow": {
     "slide_type": "fragment"
    }
   },
   "source": [
    "- G. K. Batchelor, \"An Introduction to Fluid Dynamics\", Cambridge University Press, UK, 2000.\n",
    "- E. A. Bender, \"An Introduction to Mathematical Modeling\", (Dover Books on Computer Science), Dover Publications; 1st edition, 2000.\n",
    "- G. H. Golub and C. F. Van Loan, \"Matrix Computations\", Johns Hopkins University Press; 3rd edition, 1996.\n",
    "- L. N. Trefethen and D. Bau III, \"Numerical Linear Algebra\", SIAM: Society for Industrial and Applied Mathematics; 1st edition, 1997."
   ]
  }
 ],
 "metadata": {
  "kernelspec": {
   "display_name": "Python 3",
   "language": "python",
   "name": "python3"
  },
  "language_info": {
   "codemirror_mode": {
    "name": "ipython",
    "version": 3
   },
   "file_extension": ".py",
   "mimetype": "text/x-python",
   "name": "python",
   "nbconvert_exporter": "python",
   "pygments_lexer": "ipython3",
   "version": "3.7.3"
  }
 },
 "nbformat": 4,
 "nbformat_minor": 4
}
