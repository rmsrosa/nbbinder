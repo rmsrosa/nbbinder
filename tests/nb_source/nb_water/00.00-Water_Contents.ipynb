{
 "cells": [
  {
   "cell_type": "markdown",
   "metadata": {
    "slideshow": {
     "slide_type": "slide"
    }
   },
   "source": [
    "# Water Contents\n",
    "\n",
    "The purpose of these notes are solely to illustrate the use of the `nbbinder` library with notebooks that include not only pure-text markdown cells, but also pictures and code cells. \n",
    "\n",
    "They would normally fit into a single Jupyter notebook, but that would miss the point of the library, which is to bind several notebooks. Thus, the presentation is split into a number of them."
   ]
  }
 ],
 "metadata": {
  "kernelspec": {
   "display_name": "Python 3",
   "language": "python",
   "name": "python3"
  },
  "language_info": {
   "codemirror_mode": {
    "name": "ipython",
    "version": 3
   },
   "file_extension": ".py",
   "mimetype": "text/x-python",
   "name": "python",
   "nbconvert_exporter": "python",
   "pygments_lexer": "ipython3",
   "version": "3.7.3"
  }
 },
 "nbformat": 4,
 "nbformat_minor": 4
}
