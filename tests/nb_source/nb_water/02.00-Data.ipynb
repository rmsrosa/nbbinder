{
 "cells": [
  {
   "cell_type": "markdown",
   "metadata": {
    "slideshow": {
     "slide_type": "slide"
    }
   },
   "source": [
    "# Reading the Data\n",
    "\n",
    "A table with the variation of density and viscosity in terms of the temperature, at a fixed pressure of $1$ atmosphere, is available in [Batchelor (2000)](BA.00-References.ipynb). The data has been digitized and saved into a local `csv` file. Here we load the table from the file and view and plot the data."
   ]
  },
  {
   "cell_type": "markdown",
   "metadata": {
    "slideshow": {
     "slide_type": "slide"
    }
   },
   "source": [
    "## Importing the libraries\n",
    "\n",
    "First we import the libraries used in this particular notebook."
   ]
  },
  {
   "cell_type": "code",
   "execution_count": 1,
   "metadata": {
    "slideshow": {
     "slide_type": "fragment"
    }
   },
   "outputs": [],
   "source": [
    "import pandas as pd\n",
    "import matplotlib.pyplot as plt"
   ]
  },
  {
   "cell_type": "markdown",
   "metadata": {
    "slideshow": {
     "slide_type": "slide"
    }
   },
   "source": [
    "## Using pandas\n",
    "\n",
    "The data has been digitized to the local file `water.csv`. An easy way to retrieve it is with the [pandas.read_csv()](https://pandas.pydata.org/pandas-docs/stable/reference/api/pandas.read_csv.html) function of the `pandas` library:"
   ]
  },
  {
   "cell_type": "code",
   "execution_count": 2,
   "metadata": {
    "slideshow": {
     "slide_type": "fragment"
    }
   },
   "outputs": [],
   "source": [
    "water_pd = pd.read_csv('water.csv', header=[0,1])"
   ]
  },
  {
   "cell_type": "markdown",
   "metadata": {
    "slideshow": {
     "slide_type": "slide"
    }
   },
   "source": [
    "### Viewing the data with pandas\n",
    "\n",
    "The data is diplayed nicely with pandas:"
   ]
  },
  {
   "cell_type": "code",
   "execution_count": 3,
   "metadata": {
    "slideshow": {
     "slide_type": "fragment"
    }
   },
   "outputs": [
    {
     "data": {
      "text/html": [
       "<div>\n",
       "<style scoped>\n",
       "    .dataframe tbody tr th:only-of-type {\n",
       "        vertical-align: middle;\n",
       "    }\n",
       "\n",
       "    .dataframe tbody tr th {\n",
       "        vertical-align: top;\n",
       "    }\n",
       "\n",
       "    .dataframe thead tr th {\n",
       "        text-align: left;\n",
       "    }\n",
       "</style>\n",
       "<table border=\"1\" class=\"dataframe\">\n",
       "  <thead>\n",
       "    <tr>\n",
       "      <th></th>\n",
       "      <th>temp</th>\n",
       "      <th>density</th>\n",
       "      <th>viscosity</th>\n",
       "    </tr>\n",
       "    <tr>\n",
       "      <th></th>\n",
       "      <th>Temperature (C)</th>\n",
       "      <th>Density (g/cm^3)</th>\n",
       "      <th>Viscosity (cm^2/s)</th>\n",
       "    </tr>\n",
       "  </thead>\n",
       "  <tbody>\n",
       "    <tr>\n",
       "      <td>0</td>\n",
       "      <td>0</td>\n",
       "      <td>0.9999</td>\n",
       "      <td>0.01787</td>\n",
       "    </tr>\n",
       "    <tr>\n",
       "      <td>1</td>\n",
       "      <td>5</td>\n",
       "      <td>1.0000</td>\n",
       "      <td>1.51400</td>\n",
       "    </tr>\n",
       "    <tr>\n",
       "      <td>2</td>\n",
       "      <td>10</td>\n",
       "      <td>0.9997</td>\n",
       "      <td>1.30400</td>\n",
       "    </tr>\n",
       "    <tr>\n",
       "      <td>3</td>\n",
       "      <td>15</td>\n",
       "      <td>0.9991</td>\n",
       "      <td>1.13800</td>\n",
       "    </tr>\n",
       "    <tr>\n",
       "      <td>4</td>\n",
       "      <td>20</td>\n",
       "      <td>0.9982</td>\n",
       "      <td>1.00400</td>\n",
       "    </tr>\n",
       "    <tr>\n",
       "      <td>5</td>\n",
       "      <td>25</td>\n",
       "      <td>0.9971</td>\n",
       "      <td>0.89400</td>\n",
       "    </tr>\n",
       "    <tr>\n",
       "      <td>6</td>\n",
       "      <td>30</td>\n",
       "      <td>0.9957</td>\n",
       "      <td>0.80200</td>\n",
       "    </tr>\n",
       "    <tr>\n",
       "      <td>7</td>\n",
       "      <td>35</td>\n",
       "      <td>0.9941</td>\n",
       "      <td>0.72500</td>\n",
       "    </tr>\n",
       "    <tr>\n",
       "      <td>8</td>\n",
       "      <td>40</td>\n",
       "      <td>0.9923</td>\n",
       "      <td>0.65900</td>\n",
       "    </tr>\n",
       "    <tr>\n",
       "      <td>9</td>\n",
       "      <td>50</td>\n",
       "      <td>0.9881</td>\n",
       "      <td>0.55400</td>\n",
       "    </tr>\n",
       "    <tr>\n",
       "      <td>10</td>\n",
       "      <td>60</td>\n",
       "      <td>0.9832</td>\n",
       "      <td>0.47500</td>\n",
       "    </tr>\n",
       "    <tr>\n",
       "      <td>11</td>\n",
       "      <td>70</td>\n",
       "      <td>0.9778</td>\n",
       "      <td>0.41400</td>\n",
       "    </tr>\n",
       "    <tr>\n",
       "      <td>12</td>\n",
       "      <td>80</td>\n",
       "      <td>0.9718</td>\n",
       "      <td>0.36600</td>\n",
       "    </tr>\n",
       "    <tr>\n",
       "      <td>13</td>\n",
       "      <td>90</td>\n",
       "      <td>0.9653</td>\n",
       "      <td>0.32700</td>\n",
       "    </tr>\n",
       "    <tr>\n",
       "      <td>14</td>\n",
       "      <td>100</td>\n",
       "      <td>0.9584</td>\n",
       "      <td>0.29500</td>\n",
       "    </tr>\n",
       "  </tbody>\n",
       "</table>\n",
       "</div>"
      ],
      "text/plain": [
       "              temp          density          viscosity\n",
       "   Temperature (C) Density (g/cm^3) Viscosity (cm^2/s)\n",
       "0                0           0.9999            0.01787\n",
       "1                5           1.0000            1.51400\n",
       "2               10           0.9997            1.30400\n",
       "3               15           0.9991            1.13800\n",
       "4               20           0.9982            1.00400\n",
       "5               25           0.9971            0.89400\n",
       "6               30           0.9957            0.80200\n",
       "7               35           0.9941            0.72500\n",
       "8               40           0.9923            0.65900\n",
       "9               50           0.9881            0.55400\n",
       "10              60           0.9832            0.47500\n",
       "11              70           0.9778            0.41400\n",
       "12              80           0.9718            0.36600\n",
       "13              90           0.9653            0.32700\n",
       "14             100           0.9584            0.29500"
      ]
     },
     "execution_count": 3,
     "metadata": {},
     "output_type": "execute_result"
    }
   ],
   "source": [
    "water_pd"
   ]
  },
  {
   "cell_type": "markdown",
   "metadata": {
    "slideshow": {
     "slide_type": "slide"
    }
   },
   "source": [
    "### Plotting the data\n",
    "\n",
    "We may also visualize both variations of density and viscosity using `matplotlib.pyplot`:"
   ]
  },
  {
   "cell_type": "code",
   "execution_count": 4,
   "metadata": {
    "slideshow": {
     "slide_type": "fragment"
    }
   },
   "outputs": [
    {
     "data": {
      "image/png": "[encoded data removed]",
      "text/plain": [
       "<Figure size 720x360 with 2 Axes>"
      ]
     },
     "metadata": {
      "needs_background": "light"
     },
     "output_type": "display_data"
    }
   ],
   "source": [
    "fig, ax1 = plt.subplots(figsize=(10,5))\n",
    "\n",
    "color = 'tab:blue'\n",
    "ax1.set_xlabel(water_pd['temp'].columns[0], fontsize=12)\n",
    "ax1.set_ylabel(water_pd['density'].columns[0], color=color, fontsize=12)\n",
    "ax1.plot(water_pd['temp'], water_pd['density'], 'o', color=color)\n",
    "ax1.tick_params(axis='y', labelcolor=color)\n",
    "\n",
    "ax2 = ax1.twinx()  \n",
    "\n",
    "color = 'tab:red'\n",
    "ax2.set_ylabel(water_pd['viscosity'].columns[0], color=color, fontsize=12)\n",
    "ax2.plot(water_pd['temp'], water_pd['viscosity'], 'o', color=color)\n",
    "ax2.tick_params(axis='y', labelcolor=color)\n",
    "\n",
    "plt.title('Temperature-dependency of density and viscosity of pure water at 1 atm', \n",
    "          fontsize=14)\n",
    "plt.show()"
   ]
  }
 ],
 "metadata": {
  "file_extension": ".py",
  "kernelspec": {
   "display_name": "Python 3",
   "language": "python",
   "name": "python3"
  },
  "language_info": {
   "codemirror_mode": {
    "name": "ipython",
    "version": 3
   },
   "file_extension": ".py",
   "mimetype": "text/x-python",
   "name": "python",
   "nbconvert_exporter": "python",
   "pygments_lexer": "ipython3",
   "version": "3.7.3"
  },
  "mimetype": "text/x-python",
  "name": "python",
  "npconvert_exporter": "python",
  "pygments_lexer": "ipython3",
  "version": 3
 },
 "nbformat": 4,
 "nbformat_minor": 4
}
