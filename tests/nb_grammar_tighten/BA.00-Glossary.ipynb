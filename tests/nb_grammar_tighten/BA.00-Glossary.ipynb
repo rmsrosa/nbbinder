{
 "cells": [
  {
   "cell_type": "markdown",
   "metadata": {},
   "source": [
    "# Glossary"
   ]
  },
  {
   "cell_type": "markdown",
   "metadata": {
    "slideshow": {
     "slide_type": "slide"
    }
   },
   "source": [
    "Increase very health. Industry likely trial authority.\n",
    "None check choice data eight add paper. Unit son institution cultural lay total natural law. Light board foot federal."
   ]
  },
  {
   "cell_type": "markdown",
   "metadata": {
    "slideshow": {
     "slide_type": "slide"
    }
   },
   "source": [
    "Itself but past trial. Truth vote lay pick wife why.\n",
    "Nearly again finish team carry bed finally. Charge box check Republican.\n",
    "History common source. Floor cup stock arrive second black out window."
   ]
  },
  {
   "cell_type": "markdown",
   "metadata": {
    "slideshow": {
     "slide_type": "slide"
    }
   },
   "source": [
    "Situation control message participant most. Key why will within cultural."
   ]
  }
 ],
 "metadata": {},
 "nbformat": 4,
 "nbformat_minor": 2
}
