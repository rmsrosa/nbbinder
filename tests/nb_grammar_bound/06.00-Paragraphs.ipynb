{
 "cells": [
  {
   "cell_type": "markdown",
   "metadata": {},
   "source": [
    "<!--HEADER-->\n",
    "[*Test Grammar for the NBBinder module*](https://github.com/rmsrosa/nbbinder)"
   ]
  },
  {
   "cell_type": "markdown",
   "metadata": {},
   "source": [
    "<!--NAVIGATOR-->\n",
    "\n",
    "[<- Compound Sentences](05.02-Compound_Sentences.ipynb) | [Front Page](00.00-Front_Page.ipynb) | [Bibliography](BB.00-Bibliography.ipynb) | [Descriptive ->](06.01-Descriptive.ipynb)\n",
    "\n",
    "---\n"
   ]
  },
  {
   "cell_type": "markdown",
   "metadata": {},
   "source": [
    "# Paragraphs"
   ]
  },
  {
   "cell_type": "markdown",
   "metadata": {},
   "source": [
    "That's all for this Section"
   ]
  },
  {
   "cell_type": "markdown",
   "metadata": {},
   "source": [
    "<!--NAVIGATOR-->\n",
    "\n",
    "---\n",
    "[<- Compound Sentences](05.02-Compound_Sentences.ipynb) | [Front Page](00.00-Front_Page.ipynb) | [Bibliography](BB.00-Bibliography.ipynb) | [Descriptive ->](06.01-Descriptive.ipynb)"
   ]
  }
 ],
 "metadata": {},
 "nbformat": 4,
 "nbformat_minor": 2
}
