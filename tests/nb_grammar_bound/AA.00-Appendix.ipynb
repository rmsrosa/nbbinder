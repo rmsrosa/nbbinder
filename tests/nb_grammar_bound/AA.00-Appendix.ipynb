{
 "cells": [
  {
   "cell_type": "markdown",
   "metadata": {},
   "source": [
    "<!--HEADER-->\n",
    "[*Test Grammar for the NBBinder module*](https://github.com/rmsrosa/nbbinder)"
   ]
  },
  {
   "cell_type": "markdown",
   "metadata": {},
   "source": [
    "<!--NAVIGATOR-->\n",
    "\n",
    "[<- Conclusion](07.00-Conclusion.ipynb) | [Front Page](00.00-Front_Page.ipynb) | [Bibliography](BB.00-Bibliography.ipynb) | [Glossary ->](BA.00-Glossary.ipynb)\n",
    "\n",
    "---\n"
   ]
  },
  {
   "cell_type": "markdown",
   "metadata": {},
   "source": [
    "# Appendix"
   ]
  },
  {
   "cell_type": "markdown",
   "metadata": {},
   "source": [
    "Into kid his what forward. Question early election money current.\n",
    "Prepare position condition husband. White wear care.\n",
    "Finish author operation send. Indeed trial air down onto guy. Lead quite raise."
   ]
  },
  {
   "cell_type": "markdown",
   "metadata": {},
   "source": [
    "Make seven until describe. Room he foot common.\n",
    "According as mouth ever. Peace yes PM.\n",
    "Commercial the none eight end about relationship. Age real mention point recent within group sister."
   ]
  },
  {
   "cell_type": "markdown",
   "metadata": {},
   "source": [
    "Enjoy major represent student all. Pm course industry customer. Board section arm key character.\n",
    "Without reality these production. Appear create surface so wind can."
   ]
  },
  {
   "cell_type": "markdown",
   "metadata": {},
   "source": [
    "<!--NAVIGATOR-->\n",
    "\n",
    "---\n",
    "[<- Conclusion](07.00-Conclusion.ipynb) | [Front Page](00.00-Front_Page.ipynb) | [Bibliography](BB.00-Bibliography.ipynb) | [Glossary ->](BA.00-Glossary.ipynb)"
   ]
  }
 ],
 "metadata": {},
 "nbformat": 4,
 "nbformat_minor": 2
}
