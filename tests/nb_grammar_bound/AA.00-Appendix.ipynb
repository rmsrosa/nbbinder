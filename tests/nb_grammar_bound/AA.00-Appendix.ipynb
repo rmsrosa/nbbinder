{
 "cells": [
  {
   "cell_type": "markdown",
   "metadata": {},
   "source": [
    "<!--HEADER-->\n",
    "[*Test dir 2 for the nbbinder module*](https://github.com/rmsrosa/nbbinder)"
   ]
  },
  {
   "cell_type": "markdown",
   "metadata": {},
   "source": [
    "<!--NAVIGATOR-->\n",
    "\n",
    "<a href=\"https://colab.research.google.com/github/rmsrosa/nbbinder/blob/master/tests/nb_grammar_bound/AA.00-Appendix.ipynb\"><img align=\"left\" src=\"https://colab.research.google.com/assets/colab-badge.svg\" alt=\"Open in Colab\" title=\"Open and Execute in Google Colaboratory\"></a>\n",
    "&nbsp;\n",
    "<a href=\"https://mybinder.org/v2/gh/rmsrosa/nbbinder/master?filepath=tests/nb_grammar_bound/AA.00-Appendix.ipynb\"><img align=\"left\" src=\"https://mybinder.org/badge.svg\" alt=\"Open in binder\" title=\"Open and Execute in Binder\"></a>\n",
    "&nbsp;\n",
    "\n",
    "[<- Conclusion](07.00-Conclusion.ipynb) | [Front Page](00.00-Front_Page.ipynb) | [Glossary ->](BA.00-Glossary.ipynb)\n",
    "\n",
    "---\n"
   ]
  },
  {
   "cell_type": "markdown",
   "metadata": {},
   "source": [
    "# Appendix"
   ]
  },
  {
   "cell_type": "markdown",
   "metadata": {},
   "source": [
    "That's all for this part of the Appendix"
   ]
  },
  {
   "cell_type": "markdown",
   "metadata": {},
   "source": [
    "<!--NAVIGATOR-->\n",
    "\n",
    "---\n",
    "[<- Conclusion](07.00-Conclusion.ipynb) | [Front Page](00.00-Front_Page.ipynb) | [Glossary ->](BA.00-Glossary.ipynb)\n",
    "\n",
    "<a href=\"https://colab.research.google.com/github/rmsrosa/nbbinder/blob/master/tests/nb_grammar_bound/AA.00-Appendix.ipynb\"><img align=\"left\" src=\"https://colab.research.google.com/assets/colab-badge.svg\" alt=\"Open in Colab\" title=\"Open and Execute in Google Colaboratory\"></a>\n",
    "\n",
    "<a href=\"https://mybinder.org/v2/gh/rmsrosa/nbbinder/master?filepath=tests/nb_grammar_bound/AA.00-Appendix.ipynb\"><img align=\"left\" src=\"https://mybinder.org/badge.svg\" alt=\"Open in binder\" title=\"Open and Execute in Binder\"></a>\n",
    "&nbsp;"
   ]
  }
 ],
 "metadata": {},
 "nbformat": 4,
 "nbformat_minor": 2
}
