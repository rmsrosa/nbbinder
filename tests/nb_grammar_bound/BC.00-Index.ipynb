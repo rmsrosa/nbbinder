{
 "cells": [
  {
   "cell_type": "markdown",
   "metadata": {},
   "source": [
    "<!--HEADER-->\n",
    "[*Test Grammar for the NBBinder module*](https://github.com/rmsrosa/nbbinder)"
   ]
  },
  {
   "cell_type": "markdown",
   "metadata": {},
   "source": [
    "<!--NAVIGATOR-->\n",
    "\n",
    "[<- Bibliography](BB.00-Bibliography.ipynb) | [Front Page](00.00-Front_Page.ipynb) | [Bibliography](BB.00-Bibliography.ipynb) \n",
    "\n",
    "---\n"
   ]
  },
  {
   "cell_type": "markdown",
   "metadata": {},
   "source": [
    "# Index"
   ]
  },
  {
   "cell_type": "markdown",
   "metadata": {},
   "source": [
    "Say mention service way. Power charge glass good. Tell white issue impact picture parent.\n",
    "Speech administration state behind nothing thank. Tell ten outside dinner.\n",
    "Weight start attorney talk risk."
   ]
  },
  {
   "cell_type": "markdown",
   "metadata": {},
   "source": [
    "One firm worker the bag herself. It cut hear. Employee today represent move day near serve."
   ]
  },
  {
   "cell_type": "markdown",
   "metadata": {},
   "source": [
    "Power same rest suddenly. Simple talk environmental. Reason town style key well."
   ]
  },
  {
   "cell_type": "markdown",
   "metadata": {},
   "source": [
    "<!--NAVIGATOR-->\n",
    "\n",
    "---\n",
    "[<- Bibliography](BB.00-Bibliography.ipynb) | [Front Page](00.00-Front_Page.ipynb) | [Bibliography](BB.00-Bibliography.ipynb) "
   ]
  }
 ],
 "metadata": {},
 "nbformat": 4,
 "nbformat_minor": 2
}
