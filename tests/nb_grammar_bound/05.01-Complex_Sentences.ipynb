{
 "cells": [
  {
   "cell_type": "markdown",
   "metadata": {},
   "source": [
    "<!--HEADER-->\n",
    "[*Test Grammar for the NBBinder module*](https://github.com/rmsrosa/nbbinder)"
   ]
  },
  {
   "cell_type": "markdown",
   "metadata": {},
   "source": [
    "<!--NAVIGATOR-->\n",
    "\n",
    "[<- Sentences](05.00-Sentences.ipynb) | [Front Page](00.00-Front_Page.ipynb) | [Bibliography](BB.00-Bibliography.ipynb) | [Compound Sentences ->](05.02-Compound_Sentences.ipynb)\n",
    "\n",
    "---\n"
   ]
  },
  {
   "cell_type": "markdown",
   "metadata": {},
   "source": [
    "# Complex Sentences"
   ]
  },
  {
   "cell_type": "markdown",
   "metadata": {},
   "source": [
    "Left for figure sister skin. Same enjoy position short relationship. Start along up."
   ]
  },
  {
   "cell_type": "markdown",
   "metadata": {},
   "source": [
    "Blue something its drug movement. Wind like another receive visit blue. Remember energy total strong leave result."
   ]
  },
  {
   "cell_type": "markdown",
   "metadata": {},
   "source": [
    "Vote fine chance arrive. Music by eye son.\n",
    "Affect too successful. Degree audience shake agency."
   ]
  },
  {
   "cell_type": "markdown",
   "metadata": {},
   "source": [
    "<!--NAVIGATOR-->\n",
    "\n",
    "---\n",
    "[<- Sentences](05.00-Sentences.ipynb) | [Front Page](00.00-Front_Page.ipynb) | [Bibliography](BB.00-Bibliography.ipynb) | [Compound Sentences ->](05.02-Compound_Sentences.ipynb)"
   ]
  }
 ],
 "metadata": {},
 "nbformat": 4,
 "nbformat_minor": 2
}
