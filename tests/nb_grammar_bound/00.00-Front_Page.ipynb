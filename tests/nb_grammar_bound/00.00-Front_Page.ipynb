{
 "cells": [
  {
   "cell_type": "markdown",
   "metadata": {},
   "source": [
    "<!--HEADER-->\n",
    "[*Test dir 2 for the nbbinder module*](https://github.com/rmsrosa/nbbinder)"
   ]
  },
  {
   "cell_type": "markdown",
   "metadata": {},
   "source": [
    "<!--NAVIGATOR-->\n",
    "\n",
    "<a href=\"https://colab.research.google.com/github/rmsrosa/nbbinder/blob/master/tests/nb_grammar_bound/00.00-Front_Page.ipynb\"><img align=\"left\" src=\"https://colab.research.google.com/assets/colab-badge.svg\" alt=\"Open in Colab\" title=\"Open and Execute in Google Colaboratory\"></a>\n",
    "&nbsp;\n",
    "<a href=\"https://mybinder.org/v2/gh/rmsrosa/nbbinder/master?filepath=tests/nb_grammar_bound/00.00-Front_Page.ipynb\"><img align=\"left\" src=\"https://mybinder.org/badge.svg\" alt=\"Open in binder\" title=\"Open and Execute in Binder\"></a>\n",
    "&nbsp;\n",
    "\n",
    "| [Front Page](00.00-Front_Page.ipynb) | [Introduction ->](01.00-Introduction.ipynb)\n",
    "\n",
    "---\n"
   ]
  },
  {
   "cell_type": "markdown",
   "metadata": {},
   "source": [
    "# Front Page"
   ]
  },
  {
   "cell_type": "markdown",
   "metadata": {},
   "source": [
    "That's all for this part of the Front Matter"
   ]
  },
  {
   "cell_type": "markdown",
   "metadata": {},
   "source": [
    "<!--TABLE_OF_CONTENTS-->\n",
    "\n",
    "### [Front Page](00.00-Front_Page.ipynb)\n",
    "\n",
    "### [1. Introduction](01.00-Introduction.ipynb)\n",
    "\n",
    "### [2. Project Requirements](02.00-Project_Requirements.ipynb)\n",
    "\n",
    "### [3. The History of Grammar](03.00-The_History_of_Grammar.ipynb)\n",
    "\n",
    "### [4. Parts of Speech](04.00-Parts_of_Speech.ipynb)\n",
    "\n",
    "&nbsp;&nbsp;&nbsp;&nbsp; [4.1. Nouns](04.01-Nouns.ipynb)\n",
    "\n",
    "&nbsp;&nbsp;&nbsp;&nbsp; [4.2. Verbs](04.02-Verbs.ipynb)\n",
    "\n",
    "&nbsp;&nbsp;&nbsp;&nbsp; [4.3. Adjectives](04.03-Adjectives.ipynb)\n",
    "\n",
    "&nbsp;&nbsp;&nbsp;&nbsp; [4.4. Adverbs](04.04-Adverbs.ipynb)\n",
    "\n",
    "### [5. Sentences](05.00-Sentences.ipynb)\n",
    "\n",
    "&nbsp;&nbsp;&nbsp;&nbsp; [5.1. Complex Sentences](05.01-Complex_Sentences.ipynb)\n",
    "\n",
    "&nbsp;&nbsp;&nbsp;&nbsp; [5.2. Compound Sentences](05.02-Compound_Sentences.ipynb)\n",
    "\n",
    "### [6. Paragraphs](06.00-Paragraphs.ipynb)\n",
    "\n",
    "&nbsp;&nbsp;&nbsp;&nbsp; [6.1. Descriptive](06.01-Descriptive.ipynb)\n",
    "\n",
    "&nbsp;&nbsp;&nbsp;&nbsp; [6.2. Expository](06.02-Expository.ipynb)\n",
    "\n",
    "&nbsp;&nbsp;&nbsp;&nbsp; [6.3. Narrative](06.03-Narrative.ipynb)\n",
    "\n",
    "&nbsp;&nbsp;&nbsp;&nbsp; [6.4. Persuasive](06.04-Persuasive.ipynb)\n",
    "\n",
    "### [7. Conclusion](07.00-Conclusion.ipynb)\n",
    "\n",
    "### [A. Appendix](AA.00-Appendix.ipynb)\n",
    "\n",
    "### [Glossary](BA.00-Glossary.ipynb)\n",
    "\n",
    "### [Index](BA.00-Index.ipynb)\n",
    "\n",
    "### [Bibliography](BB.00-Bibliography.ipynb)\n",
    "\n"
   ]
  },
  {
   "cell_type": "markdown",
   "metadata": {},
   "source": [
    "<!--NAVIGATOR-->\n",
    "\n",
    "---\n",
    "| [Front Page](00.00-Front_Page.ipynb) | [Introduction ->](01.00-Introduction.ipynb)\n",
    "\n",
    "<a href=\"https://colab.research.google.com/github/rmsrosa/nbbinder/blob/master/tests/nb_grammar_bound/00.00-Front_Page.ipynb\"><img align=\"left\" src=\"https://colab.research.google.com/assets/colab-badge.svg\" alt=\"Open in Colab\" title=\"Open and Execute in Google Colaboratory\"></a>\n",
    "\n",
    "<a href=\"https://mybinder.org/v2/gh/rmsrosa/nbbinder/master?filepath=tests/nb_grammar_bound/00.00-Front_Page.ipynb\"><img align=\"left\" src=\"https://mybinder.org/badge.svg\" alt=\"Open in binder\" title=\"Open and Execute in Binder\"></a>\n",
    "&nbsp;"
   ]
  }
 ],
 "metadata": {},
 "nbformat": 4,
 "nbformat_minor": 2
}
