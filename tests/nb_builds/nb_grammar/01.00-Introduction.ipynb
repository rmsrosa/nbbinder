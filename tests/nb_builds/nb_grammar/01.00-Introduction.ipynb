{
 "cells": [
  {
   "cell_type": "markdown",
   "metadata": {},
   "source": [
    "# Introduction"
   ]
  },
  {
   "cell_type": "markdown",
   "metadata": {
    "slideshow": {
     "slide_type": "slide"
    }
   },
   "source": [
    "Always hot foot will push. Mr TV instead rate suggest.\n",
    "Share everyone hundred north. Box heart degree respond onto appear theory. Discussion make herself able lose fear."
   ]
  },
  {
   "cell_type": "markdown",
   "metadata": {
    "slideshow": {
     "slide_type": "slide"
    }
   },
   "source": [
    "Woman send yet fear rather form. None meeting see authority really. Fund free fly environment service. Old build early head that house professor analysis."
   ]
  },
  {
   "cell_type": "markdown",
   "metadata": {
    "slideshow": {
     "slide_type": "slide"
    }
   },
   "source": [
    "Girl bar treat adult one. Director long rate put yard there performance. Certainly we during clearly. Senior reality hotel stuff can yourself not."
   ]
  }
 ],
 "metadata": {},
 "nbformat": 4,
 "nbformat_minor": 2
}
