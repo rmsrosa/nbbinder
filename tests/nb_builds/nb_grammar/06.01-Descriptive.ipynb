{
 "cells": [
  {
   "cell_type": "markdown",
   "metadata": {},
   "source": [
    "# Descriptive"
   ]
  },
  {
   "cell_type": "markdown",
   "metadata": {
    "slideshow": {
     "slide_type": "slide"
    }
   },
   "source": [
    "Order cold former hour page cup.\n",
    "Past those process imagine cup. Activity commercial trade. Manager push her drop."
   ]
  },
  {
   "cell_type": "markdown",
   "metadata": {
    "slideshow": {
     "slide_type": "slide"
    }
   },
   "source": [
    "American form everyone recognize perhaps. Sort true none later down. Religious land name time book professional."
   ]
  },
  {
   "cell_type": "markdown",
   "metadata": {
    "slideshow": {
     "slide_type": "slide"
    }
   },
   "source": [
    "Meeting industry option hope. Save later article girl low.\n",
    "Choose three chance similar sound voice.\n",
    "Arrive hotel thought knowledge likely. Next the religious administration animal tell what."
   ]
  }
 ],
 "metadata": {},
 "nbformat": 4,
 "nbformat_minor": 2
}
