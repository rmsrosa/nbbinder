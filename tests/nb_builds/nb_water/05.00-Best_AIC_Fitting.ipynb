{
 "cells": [
  {
   "cell_type": "markdown",
   "metadata": {
    "slideshow": {
     "slide_type": "skip"
    }
   },
   "source": [
    "<!--HEADER-->\n",
    "[*NBBinder test on a collection of notebooks about some thermodynamic properperties of water*](https://github.com/rmsrosa/nbbinder)"
   ]
  },
  {
   "cell_type": "markdown",
   "metadata": {
    "slideshow": {
     "slide_type": "skip"
    }
   },
   "source": [
    "<!--BADGES-->\n",
    "<a href=\"https://colab.research.google.com/github/rmsrosa/nbbinder/blob/master/nb_builds/tests/nb_alice/05.00-Best_AIC_Fitting.ipynb\"><img align=\"left\" src=\"https://colab.research.google.com/assets/colab-badge.svg\" alt=\"Google Colab\" title=\"Open in Google Colab\"></a>\n",
    "&nbsp;<a href=\"https://mybinder.org/v2/gh/rmsrosa/nbbinder/master?filepath=nb_builds/tests/nb_alice/05.00-Best_AIC_Fitting.ipynb\"><img align=\"left\" src=\"https://mybinder.org/badge.svg\" alt=\"Binder\" title=\"Open in binder\"></a>\n",
    "&nbsp;<a href=\"https://nbviewer.jupyter.org/github/rmsrosa/nbbinder/blob/master/nb_builds/tests/nb_water/05.00-Best_AIC_Fitting.ipynb\"><img align=\"left\" src=\"https://img.shields.io/badge/view in-nbviewer-orange\" alt=\"nbviewer\" title=\"View in NBViewer\"></a>\n",
    "&nbsp;<a href=\"https://nbviewer.jupyter.org/github/rmsrosa/nbbinder/blob/master/tests/nb_builds/nb_water_slides/05.00-Best_AIC_Fitting.slides.html\"><img align=\"left\" src=\"https://img.shields.io/badge/view-slides-darkgreen\" alt=\"slides\" title=\"View Slides\"></a>\n",
    "&nbsp;"
   ]
  },
  {
   "cell_type": "markdown",
   "metadata": {
    "slideshow": {
     "slide_type": "skip"
    }
   },
   "source": [
    "<!--NAVIGATOR-->\n",
    "[<- High-Dimensional Fittings](04.00-High_Dim_Fittings.ipynb) | [Water](00.00-Water_Contents.ipynb) | [References](BA.00-References.ipynb) | [References ->](BA.00-References.ipynb)\n",
    "\n",
    "---\n"
   ]
  },
  {
   "cell_type": "markdown",
   "metadata": {
    "slideshow": {
     "slide_type": "slide"
    }
   },
   "source": [
    "# Best AIC Fitting\n",
    "\n",
    "In this final notebook, we use the idea of Akaike Information Criteria (AIC) (see [Bender (2000)](BA.00-References.ipynb)) to find out the most efficient polynomial approximation."
   ]
  },
  {
   "cell_type": "markdown",
   "metadata": {
    "slideshow": {
     "slide_type": "skip"
    }
   },
   "source": [
    "## Importing the libraries"
   ]
  },
  {
   "cell_type": "code",
   "execution_count": 1,
   "metadata": {
    "slideshow": {
     "slide_type": "skip"
    }
   },
   "outputs": [],
   "source": [
    "import os\n",
    "import csv\n",
    "import numpy as np\n",
    "import matplotlib.pyplot as plt"
   ]
  },
  {
   "cell_type": "markdown",
   "metadata": {},
   "source": [
    "## Akaike Information Criteria\n",
    "\n",
    "Beink $k$ the number of parameters in the model, $N$ the number of data points in the sample, and $E_k$ the mean quadratic error with the approximation with $k$ parameters, the **Akaike information criteria (AIK)** is given by\n",
    "\n",
    "$$\n",
    "  \\text{AIC} = N\\ln(E_k) + 2(k+1)\n",
    "$$\n",
    "\n",
    "The first term decreases with $E_k$, but the second term penalizes a high number of parameters.\n",
    "\n",
    "There are a number of other criteria, such as *Bayesian information criteria (BIC)*, $C_p$ (similar to *AIC*), *AICc* (for a low number of samples), adjusted $R^2$; *ridge regression*; and *cross validation*."
   ]
  },
  {
   "cell_type": "code",
   "execution_count": 5,
   "metadata": {},
   "outputs": [],
   "source": [
    "water_csv = list(csv.reader(open('water.csv',\"r\"), delimiter=\",\"))\n",
    "header = dict([(water_csv[0][i],water_csv[1][i]) for i in range(3)])\n",
    "datapoints = np.loadtxt(open('water.csv', \"r\"), delimiter=\",\", skiprows=2)\n",
    "T, f = np.loadtxt(open('water.csv', \"r\"), delimiter=\",\", skiprows=2, usecols=(0,1), unpack=True)\n",
    "N = len(T)\n",
    "N_half = int(N/2)"
   ]
  },
  {
   "cell_type": "code",
   "execution_count": 6,
   "metadata": {},
   "outputs": [],
   "source": [
    "A = list()\n",
    "for j in range(N_half):\n",
    "    A.append(np.vstack([T**i for i in range(j+1)]).T)\n",
    "    "
   ]
  },
  {
   "cell_type": "code",
   "execution_count": 7,
   "metadata": {},
   "outputs": [
    {
     "name": "stdout",
     "output_type": "stream",
     "text": [
      "j=0: Error=1.75e-04\n",
      "j=1: Error=9.22e-06\n",
      "j=2: Error=1.33e-07\n",
      "j=3: Error=3.16e-09\n",
      "j=4: Error=3.27e-10\n",
      "j=5: Error=2.64e-10\n",
      "j=6: Error=2.64e-10\n"
     ]
    }
   ],
   "source": [
    "Err = list()\n",
    "for j in range(N_half):\n",
    "    Err.append(np.linalg.lstsq(A[j], f, rcond=None)[1][0]/N)\n",
    "    print(f'j={j}: Error={Err[j]:.2e}')"
   ]
  },
  {
   "cell_type": "code",
   "execution_count": 10,
   "metadata": {},
   "outputs": [],
   "source": [
    "aic = [len(T)*np.log(Err[j]) + 2*(j+2) for j in range(N_half)]"
   ]
  },
  {
   "cell_type": "code",
   "execution_count": 11,
   "metadata": {},
   "outputs": [
    {
     "data": {
      "text/plain": [
       "[-125.7408972999171,\n",
       " -167.91033709771884,\n",
       " -229.5222773322343,\n",
       " -283.5924622219091,\n",
       " -315.63200723667956,\n",
       " -316.8095935328548,\n",
       " -314.826846744734]"
      ]
     },
     "execution_count": 11,
     "metadata": {},
     "output_type": "execute_result"
    }
   ],
   "source": [
    "aic"
   ]
  },
  {
   "cell_type": "code",
   "execution_count": 15,
   "metadata": {},
   "outputs": [
    {
     "data": {
      "image/png": "[encoded data removed]",
      "text/plain": [
       "<Figure size 720x360 with 1 Axes>"
      ]
     },
     "metadata": {
      "needs_background": "light"
     },
     "output_type": "display_data"
    }
   ],
   "source": [
    "plt.figure(figsize=(10,5))\n",
    "plt.plot(range(1,len(aic)+1),aic, label='AIC')\n",
    "plt.legend()\n",
    "plt.xlabel('degree of the polynomial', fontsize=12)\n",
    "plt.ylabel('AIC value', fontsize=12)\n",
    "plt.title('Critérios de ajuste', fontsize=14)\n",
    "plt.show()"
   ]
  },
  {
   "cell_type": "code",
   "execution_count": null,
   "metadata": {},
   "outputs": [],
   "source": []
  },
  {
   "cell_type": "markdown",
   "metadata": {
    "slideshow": {
     "slide_type": "slide"
    }
   },
   "source": [
    "<!--NAVIGATOR-->\n",
    "\n",
    "---\n",
    "[<- High-Dimensional Fittings](04.00-High_Dim_Fittings.ipynb) | [Water](00.00-Water_Contents.ipynb) | [References](BA.00-References.ipynb) | [References ->](BA.00-References.ipynb)"
   ]
  }
 ],
 "metadata": {
  "kernelspec": {
   "display_name": "Python 3",
   "language": "python",
   "name": "python3"
  },
  "language_info": {
   "codemirror_mode": {
    "name": "ipython",
    "version": 3
   },
   "file_extension": ".py",
   "mimetype": "text/x-python",
   "name": "python",
   "nbconvert_exporter": "python",
   "pygments_lexer": "ipython3",
   "version": "3.7.3"
  }
 },
 "nbformat": 4,
 "nbformat_minor": 4
}
