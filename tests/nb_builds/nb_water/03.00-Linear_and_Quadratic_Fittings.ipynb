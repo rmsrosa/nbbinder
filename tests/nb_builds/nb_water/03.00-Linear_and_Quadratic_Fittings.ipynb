{
 "cells": [
  {
   "cell_type": "markdown",
   "metadata": {
    "slideshow": {
     "slide_type": "skip"
    }
   },
   "source": [
    "<!--HEADER-->\n",
    "[*NBBinder test on a collection of notebooks about some thermodynamic properperties of water*](https://github.com/rmsrosa/nbbinder)"
   ]
  },
  {
   "cell_type": "markdown",
   "metadata": {
    "slideshow": {
     "slide_type": "skip"
    }
   },
   "source": [
    "<!--BADGES-->\n",
    "<a href=\"https://colab.research.google.com/github/rmsrosa/nbbinder/blob/master/nb_builds/tests/nb_alice/03.00-Linear_and_Quadratic_Fittings.ipynb\"><img align=\"left\" src=\"https://colab.research.google.com/assets/colab-badge.svg\" alt=\"Google Colab\" title=\"Open in Google Colab\"></a>\n",
    "&nbsp;<a href=\"https://mybinder.org/v2/gh/rmsrosa/nbbinder/master?filepath=nb_builds/tests/nb_alice/03.00-Linear_and_Quadratic_Fittings.ipynb\"><img align=\"left\" src=\"https://mybinder.org/badge.svg\" alt=\"Binder\" title=\"Open in binder\"></a>\n",
    "&nbsp;<a href=\"https://nbviewer.jupyter.org/github/rmsrosa/nbbinder/blob/master/nb_builds/tests/nb_water/03.00-Linear_and_Quadratic_Fittings.ipynb\"><img align=\"left\" src=\"https://img.shields.io/badge/view in-nbviewer-orange\" alt=\"nbviewer\" title=\"View in NBViewer\"></a>\n",
    "&nbsp;<a href=\"https://nbviewer.jupyter.org/github/rmsrosa/nbbinder/blob/master/tests/nb_builds/nb_water_slides/03.00-Linear_and_Quadratic_Fittings.slides.html\"><img align=\"left\" src=\"https://img.shields.io/badge/view-slides-darkgreen\" alt=\"slides\" title=\"View Slides\"></a>\n",
    "&nbsp;"
   ]
  },
  {
   "cell_type": "markdown",
   "metadata": {
    "slideshow": {
     "slide_type": "skip"
    }
   },
   "source": [
    "<!--NAVIGATOR-->\n",
    "[<- Density and viscosity data in terms of temperature](02.00-Data.ipynb) | [Water](00.00-Water.ipynb) | [References](BA.00-References.ipynb) | [References ->](BA.00-References.ipynb)\n",
    "\n",
    "---\n"
   ]
  },
  {
   "cell_type": "markdown",
   "metadata": {
    "slideshow": {
     "slide_type": "slide"
    }
   },
   "source": [
    "# Linear and Quadratic Fittings\n",
    "\n",
    "We use the classical least-square method to fit the data to low degree polynomials.\n",
    "\n",
    "See e.g. [Golub and Van Loan (1996)](BA.00-References.ipynb) and [Trefethen and Bau III (1997)](BA.00-References.ipynb)."
   ]
  },
  {
   "cell_type": "markdown",
   "metadata": {
    "slideshow": {
     "slide_type": "slide"
    }
   },
   "source": [
    "## Importing the libraries"
   ]
  },
  {
   "cell_type": "code",
   "execution_count": 16,
   "metadata": {
    "slideshow": {
     "slide_type": "fragment"
    }
   },
   "outputs": [],
   "source": [
    "import os\n",
    "import numpy as np\n",
    "import matplotlib.pyplot as plt"
   ]
  },
  {
   "cell_type": "markdown",
   "metadata": {
    "slideshow": {
     "slide_type": "slide"
    }
   },
   "source": [
    "## Linear approximation\n",
    "\n",
    "Given a set of temperature and density data in the form \\$(T_j, \\rho_j)\\$, we look for a linear relation \\$\\rho^{(1)}(T) = c + m T\\$ which is the \"best fit\" for the data. \n",
    "\n",
    "One way to approach this problem is to interpret the best fit as minimizing the sum of squares of the residuals. The **residual** for each \\$j\\$ measurement is\n",
    "\n",
    "$$\n",
    "r_j = \\rho_j - \\rho^{(1)}(T_j),\n",
    "$$\n",
    "\n",
    "and the **sum of squares of the residuals** is\n",
    "\n",
    "$$\n",
    "  \\min_{c,m\\in \\mathbb{R}} \\sum_j (\\rho_j - \\rho^{(1)}(T))^2.\n",
    "$$"
   ]
  },
  {
   "cell_type": "markdown",
   "metadata": {
    "slideshow": {
     "slide_type": "fragment"
    }
   },
   "source": [
    "### Matrix form\n",
    "\n",
    "This can be written in matrix form as\n",
    "\n",
    "$$\n",
    "\\displaystyle \\min_{\\mathbf{u}\\in \\mathbb{R}^2} \\|A\\mathbf{u} - \\mathbf{f}\\|_2^2,\n",
    "$$\n",
    "\n",
    "where \\$\\\\|\\cdot\\\\|_2\\$ is the Euclidian norm of a vector and\n",
    "\n",
    "$$ A = \\left[ \\begin{matrix} T_1 & 1 \\\\ \\vdots  & 1 \\\\ T_n & 1 \\end{matrix}\\right], \\qquad \\mathbf{u} = \\left( \\begin{matrix} m \\\\ c \\end{matrix}\\right), \\qquad \\mathbf{f} = \\left( \\begin{matrix} \\rho_1 \\\\ \\vdots \\\\ \\rho_n \\end{matrix} \\right).\n",
    "$$"
   ]
  },
  {
   "cell_type": "markdown",
   "metadata": {
    "slideshow": {
     "slide_type": "fragment"
    }
   },
   "source": [
    "The matrix \\$A\\$ is a simple **Vandermonde** type matrix obtained from the temperature data, \\$\\mathbf{u}\\$ is the unknown vector with the desired coefficients for the approximation, and \\$\\mathbf{b}\\$ is the vector with the density measurements."
   ]
  },
  {
   "cell_type": "markdown",
   "metadata": {
    "slideshow": {
     "slide_type": "slide"
    }
   },
   "source": [
    "### The Vandermonde matrix\n",
    "\n",
    "We use the [`numpy`](https://docs.scipy.org/doc/numpy/) function [`numpy.vstack()`](https://docs.scipy.org/doc/numpy/reference/generated/numpy.vstack.html) to build the Vandermonde matrix \\$A\\$."
   ]
  },
  {
   "cell_type": "code",
   "execution_count": 14,
   "metadata": {
    "slideshow": {
     "slide_type": "fragment"
    }
   },
   "outputs": [
    {
     "name": "stdout",
     "output_type": "stream",
     "text": [
      "[[  0.   1.]\n",
      " [  5.   1.]\n",
      " [ 10.   1.]\n",
      " [ 15.   1.]\n",
      " [ 20.   1.]\n",
      " [ 25.   1.]\n",
      " [ 30.   1.]\n",
      " [ 35.   1.]\n",
      " [ 40.   1.]\n",
      " [ 50.   1.]\n",
      " [ 60.   1.]\n",
      " [ 70.   1.]\n",
      " [ 80.   1.]\n",
      " [ 90.   1.]\n",
      " [100.   1.]]\n"
     ]
    }
   ],
   "source": [
    "water_np = np.loadtxt(open('water.csv', \"rb\"), delimiter=\",\", skiprows=2)\n",
    "T = water_np[:,0]\n",
    "A1 = np.vstack([T,np.ones(len(T))]).T\n",
    "print(A1)"
   ]
  },
  {
   "cell_type": "markdown",
   "metadata": {
    "slideshow": {
     "slide_type": "slide"
    }
   },
   "source": [
    "### The density measurements"
   ]
  },
  {
   "cell_type": "code",
   "execution_count": 21,
   "metadata": {
    "slideshow": {
     "slide_type": "fragment"
    }
   },
   "outputs": [
    {
     "name": "stdout",
     "output_type": "stream",
     "text": [
      "[0.9999 1.     0.9997 0.9991 0.9982 0.9971 0.9957 0.9941 0.9923 0.9881\n",
      " 0.9832 0.9778 0.9718 0.9653 0.9584]\n"
     ]
    }
   ],
   "source": [
    "f = water_np[:,1]\n",
    "print(f)"
   ]
  },
  {
   "cell_type": "markdown",
   "metadata": {
    "slideshow": {
     "slide_type": "slide"
    }
   },
   "source": [
    "### Solution of the least-square problem for the linear approximation\n",
    "\n",
    "We use the `numpy` function [numpy.linagl.lstsq()](https://docs.scipy.org/doc/numpy/reference/generated/numpy.linalg.lstsq.html) to solve the least-square problem."
   ]
  },
  {
   "cell_type": "code",
   "execution_count": 22,
   "metadata": {
    "slideshow": {
     "slide_type": "fragment"
    }
   },
   "outputs": [
    {
     "name": "stdout",
     "output_type": "stream",
     "text": [
      "-0.00041965346534652876 1.0056721122112207\n"
     ]
    }
   ],
   "source": [
    "m, d = np.linalg.lstsq(A1, f, rcond=None)[0]\n",
    "print(m,d)"
   ]
  },
  {
   "cell_type": "markdown",
   "metadata": {
    "slideshow": {
     "slide_type": "slide"
    }
   },
   "source": [
    "### Visualizing the result\n",
    "\n",
    "Now we plot the linear approximation along with the data to visualize the quality of the approximation"
   ]
  },
  {
   "cell_type": "code",
   "execution_count": 31,
   "metadata": {
    "slideshow": {
     "slide_type": "fragment"
    }
   },
   "outputs": [
    {
     "data": {
      "image/png": "[encoded data removed]",
      "text/plain": [
       "<Figure size 432x288 with 1 Axes>"
      ]
     },
     "metadata": {
      "needs_background": "light"
     },
     "output_type": "display_data"
    }
   ],
   "source": [
    "plt.plot(T, f, 'o', label='Data', color='tab:blue')\n",
    "plt.plot(T, m*T + d, 'b', label='Linear approximation', color='tab:red')\n",
    "plt.legend()\n",
    "plt.show()"
   ]
  },
  {
   "cell_type": "markdown",
   "metadata": {
    "slideshow": {
     "slide_type": "slide"
    }
   },
   "source": [
    "## Second-degree approximation\n",
    "\n",
    "One can see from the plot above that the first-degree approximation doesn't seem to be a very good approximation. We look, now, for a second-degree approximation."
   ]
  },
  {
   "cell_type": "markdown",
   "metadata": {
    "slideshow": {
     "slide_type": "fragment"
    }
   },
   "source": [
    "## The least-square problem\n",
    "\n",
    "For the second-degree approximation, we look for a second-degree polynomial \\$\\rho^{(2)}(T) = aT^2 + bT + c$ that best approximates the data in the sense of minimizing the sum of squares of the residuals \n",
    "\n",
    "$$\n",
    "r_j = \\rho_j - \\rho^{(2)}(T_j)\n",
    "$$"
   ]
  },
  {
   "cell_type": "markdown",
   "metadata": {
    "slideshow": {
     "slide_type": "slide"
    }
   },
   "source": [
    "### Matrix form\n",
    "\n",
    "This can be written in matrix form as\n",
    "\n",
    "$$\n",
    "\\displaystyle \\min_{\\mathbf{u}\\in \\mathbb{R}^2} \\|A\\mathbf{u} - \\mathbf{f}\\|_2^2,\n",
    "$$\n",
    "\n",
    "where \\$\\mathbf{f}\\$ is as before but the Vandermonde matrix and the vector of unknowns take the form\n",
    "\n",
    "$$ A = \\left[ \\begin{matrix} T_1^2 & T_1 & 1 \\\\ \\vdots  & 1 \\\\ T_n^2 & T_n & 1 \\end{matrix}\\right], \\qquad \\mathbf{u} = \\left( \\begin{matrix} a \\\\ b \\\\ c \\end{matrix}\\right).\n",
    "$$"
   ]
  },
  {
   "cell_type": "markdown",
   "metadata": {
    "slideshow": {
     "slide_type": "slide"
    }
   },
   "source": [
    "### Vandermonde matrix\n",
    "\n",
    "In this case, the Vandermonde matrix is"
   ]
  },
  {
   "cell_type": "code",
   "execution_count": 17,
   "metadata": {
    "slideshow": {
     "slide_type": "fragment"
    }
   },
   "outputs": [
    {
     "name": "stdout",
     "output_type": "stream",
     "text": [
      "[[0.000e+00 0.000e+00 1.000e+00]\n",
      " [2.500e+01 5.000e+00 1.000e+00]\n",
      " [1.000e+02 1.000e+01 1.000e+00]\n",
      " [2.250e+02 1.500e+01 1.000e+00]\n",
      " [4.000e+02 2.000e+01 1.000e+00]\n",
      " [6.250e+02 2.500e+01 1.000e+00]\n",
      " [9.000e+02 3.000e+01 1.000e+00]\n",
      " [1.225e+03 3.500e+01 1.000e+00]\n",
      " [1.600e+03 4.000e+01 1.000e+00]\n",
      " [2.500e+03 5.000e+01 1.000e+00]\n",
      " [3.600e+03 6.000e+01 1.000e+00]\n",
      " [4.900e+03 7.000e+01 1.000e+00]\n",
      " [6.400e+03 8.000e+01 1.000e+00]\n",
      " [8.100e+03 9.000e+01 1.000e+00]\n",
      " [1.000e+04 1.000e+02 1.000e+00]]\n"
     ]
    }
   ],
   "source": [
    "A2 = np.vstack([T**2, T,np.ones(len(T))]).T\n",
    "print(A2)"
   ]
  },
  {
   "cell_type": "markdown",
   "metadata": {
    "slideshow": {
     "slide_type": "slide"
    }
   },
   "source": [
    "### Solution"
   ]
  },
  {
   "cell_type": "code",
   "execution_count": 24,
   "metadata": {
    "slideshow": {
     "slide_type": "fragment"
    }
   },
   "outputs": [
    {
     "name": "stdout",
     "output_type": "stream",
     "text": [
      "-3.6295100056677867e-06 -6.496768558464583e-05 1.0005991832098982\n"
     ]
    }
   ],
   "source": [
    "a, b, c = np.linalg.lstsq(A2, f, rcond=None)[0]\n",
    "print(a,b,c)"
   ]
  },
  {
   "cell_type": "markdown",
   "metadata": {
    "slideshow": {
     "slide_type": "slide"
    }
   },
   "source": [
    "### Visualizing the result"
   ]
  },
  {
   "cell_type": "code",
   "execution_count": 34,
   "metadata": {
    "slideshow": {
     "slide_type": "fragment"
    }
   },
   "outputs": [
    {
     "data": {
      "image/png": "[encoded data removed]",
      "text/plain": [
       "<Figure size 432x288 with 1 Axes>"
      ]
     },
     "metadata": {
      "needs_background": "light"
     },
     "output_type": "display_data"
    }
   ],
   "source": [
    "plt.plot(T, f, 'o', label='Data', color='tab:blue')\n",
    "plt.plot(T, a*T**2 + b*T + c, 'r', label='Quadratic approximation', color='tab:green')\n",
    "plt.legend()\n",
    "plt.show()"
   ]
  },
  {
   "cell_type": "markdown",
   "metadata": {
    "slideshow": {
     "slide_type": "fragment"
    }
   },
   "source": [
    "This seems much better"
   ]
  },
  {
   "cell_type": "markdown",
   "metadata": {
    "slideshow": {
     "slide_type": "slide"
    }
   },
   "source": [
    "## Comparing the two approximations"
   ]
  },
  {
   "cell_type": "markdown",
   "metadata": {
    "slideshow": {
     "slide_type": "slide"
    }
   },
   "source": [
    "### Visual comparison\n",
    "\n",
    "Visually, the second-degree approximation is way better."
   ]
  },
  {
   "cell_type": "code",
   "execution_count": 35,
   "metadata": {
    "slideshow": {
     "slide_type": "fragment"
    }
   },
   "outputs": [
    {
     "data": {
      "image/png": "[encoded data removed]",
      "text/plain": [
       "<Figure size 432x288 with 1 Axes>"
      ]
     },
     "metadata": {
      "needs_background": "light"
     },
     "output_type": "display_data"
    }
   ],
   "source": [
    "plt.plot(T, f, 'o', label='Data', color='tab:blue')\n",
    "plt.plot(T, m*T + d, 'b', label='Linear approximation', color='tab:red')\n",
    "plt.plot(T, a*T**2 + b*T + c, 'r', label='Quadratic approximation', color='tab:green')\n",
    "plt.legend()\n",
    "plt.show()"
   ]
  },
  {
   "cell_type": "markdown",
   "metadata": {
    "slideshow": {
     "slide_type": "slide"
    }
   },
   "source": [
    "### Comparing the quadratic error\n",
    "\n",
    "The **quadratic error** is the sum of the square of the residual errors for each measurement, i.e. \n",
    "\n",
    "$$\n",
    " \\Delta = \\sum_j r_j^2 = \\|A\\mathbf{u} - \\mathbf{f}\\|_2^2,\n",
    "$$ \n",
    "\n",
    "for the best approximation obtained. But this error is not normalized by the number of measurements. This is achieved with the **mean quadratic error**:\n",
    "\n",
    "$$\n",
    "E = \\frac{1}{N} \\sum_j r_j^2.\n",
    "$$"
   ]
  },
  {
   "cell_type": "code",
   "execution_count": 44,
   "metadata": {
    "slideshow": {
     "slide_type": "fragment"
    }
   },
   "outputs": [
    {
     "name": "stdout",
     "output_type": "stream",
     "text": [
      "Number of measurements: 15\n",
      "\n",
      "Quadratic error for the linear approximation: 1.38e-04\n",
      "Quadratic error for the quadratic approximation: 1.99e-06\n",
      "\n",
      "Mean quadratic error for the linear approximation: 9.22e-06\n",
      "Mean quadratic error for the quadratic approximation: 1.33e-07\n"
     ]
    }
   ],
   "source": [
    "N = len(f)\n",
    "print(f'Number of measurements: {N}\\n')\n",
    "print(f'Quadratic error for the linear approximation: {np.linalg.lstsq(A1, f, rcond=None)[1][0]:.2e}')\n",
    "print(f'Quadratic error for the quadratic approximation: {np.linalg.lstsq(A2, f, rcond=None)[1][0]:.2e}\\n')\n",
    "print(f'Mean quadratic error for the linear approximation: {np.linalg.lstsq(A1, f, rcond=None)[1][0]/N:.2e}')\n",
    "print(f'Mean quadratic error for the quadratic approximation: {np.linalg.lstsq(A2, f, rcond=None)[1][0]/N:.2e}')"
   ]
  },
  {
   "cell_type": "markdown",
   "metadata": {
    "slideshow": {
     "slide_type": "skip"
    }
   },
   "source": [
    "<!--NAVIGATOR-->\n",
    "\n",
    "---\n",
    "[<- Density and viscosity data in terms of temperature](02.00-Data.ipynb) | [Water](00.00-Water.ipynb) | [References](BA.00-References.ipynb) | [References ->](BA.00-References.ipynb)"
   ]
  }
 ],
 "metadata": {
  "kernelspec": {
   "display_name": "Python 3",
   "language": "python",
   "name": "python3"
  },
  "language_info": {
   "codemirror_mode": {
    "name": "ipython",
    "version": 3
   },
   "file_extension": ".py",
   "mimetype": "text/x-python",
   "name": "python",
   "nbconvert_exporter": "python",
   "pygments_lexer": "ipython3",
   "version": "3.7.3"
  }
 },
 "nbformat": 4,
 "nbformat_minor": 4
}
