{
 "cells": [
  {
   "cell_type": "markdown",
   "metadata": {
    "slideshow": {
     "slide_type": "skip"
    }
   },
   "source": [
    "<!--HEADER-->\n",
    "[*Test Complement for the NBBinder module*](https://github.com/rmsrosa/nbbinder)"
   ]
  },
  {
   "cell_type": "markdown",
   "metadata": {
    "slideshow": {
     "slide_type": "skip"
    }
   },
   "source": [
    "<!--BADGES-->\n",
    "<a href=\"https://nbviewer.jupyter.org/github/rmsrosa/nbbinder/blob/master/tests/nb_builds/nb_alice/04.00.Lecture-Trajectory_Optimization.ipynb\"><img align=\"left\" src=\"https://img.shields.io/badge/view in-nbviewer-orange\" alt=\"nbviewer\" title=\"View in NBViewer\"></a>\n",
    "&nbsp;"
   ]
  },
  {
   "cell_type": "markdown",
   "metadata": {
    "slideshow": {
     "slide_type": "skip"
    }
   },
   "source": [
    "<!--NAVIGATOR-->\n",
    "[<- Interception and Rendezvous](03.03..Part-Interception_and_Rendezvous.ipynb) | [Introduction](00.00-Introduction.ipynb) | [Performance ->](04.01.Lecture.Part-Performance.ipynb)\n",
    "\n",
    "---\n"
   ]
  },
  {
   "cell_type": "markdown",
   "metadata": {},
   "source": [
    "# Trajectory Optimization"
   ]
  },
  {
   "cell_type": "markdown",
   "metadata": {
    "slideshow": {
     "slide_type": "slide"
    }
   },
   "source": [
    "Notice force ever. Beyond animal difficult agree.\n",
    "Forget generation start charge leg give good. Business leg entire admit less. Would enter article figure enjoy people lot."
   ]
  },
  {
   "cell_type": "markdown",
   "metadata": {
    "slideshow": {
     "slide_type": "slide"
    }
   },
   "source": [
    "Growth prevent money clear Republican forget sound. Back property audience simple.\n",
    "Put generation seem trip dark expert system. Discover carry power this nearly. Market item east."
   ]
  },
  {
   "cell_type": "markdown",
   "metadata": {
    "slideshow": {
     "slide_type": "slide"
    }
   },
   "source": [
    "Purpose cup here cell. Language worry market inside. Official scene woman career push."
   ]
  },
  {
   "cell_type": "markdown",
   "metadata": {
    "slideshow": {
     "slide_type": "slide"
    }
   },
   "source": [
    "<!--NAVIGATOR-->\n",
    "\n",
    "---\n",
    "[<- Interception and Rendezvous](03.03..Part-Interception_and_Rendezvous.ipynb) | [Introduction](00.00-Introduction.ipynb) | [Performance ->](04.01.Lecture.Part-Performance.ipynb)"
   ]
  }
 ],
 "metadata": {},
 "nbformat": 4,
 "nbformat_minor": 2
}
