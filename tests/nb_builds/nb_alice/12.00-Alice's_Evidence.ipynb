{
 "cells": [
  {
   "cell_type": "markdown",
   "metadata": {
    "slideshow": {
     "slide_type": "skip"
    }
   },
   "source": [
    "<!--HEADER-->\n",
    "NBBinder test on a collection of notebooks named after the chapters of 'Alice's Adventures in Wonderland'"
   ]
  },
  {
   "cell_type": "markdown",
   "metadata": {
    "slideshow": {
     "slide_type": "skip"
    }
   },
   "source": [
    "<!--NAVIGATOR-->\n",
    "[<- Previous](11.00-Who_Stole_the_Tarts+u003f.ipynb) | [Alice's Adventures in Wonderland](00.00-Alice's_Adventures_in_Wonderland.ipynb) \n",
    "\n",
    "---\n"
   ]
  },
  {
   "cell_type": "markdown",
   "metadata": {},
   "source": [
    "# Alice's Evidence"
   ]
  },
  {
   "cell_type": "markdown",
   "metadata": {
    "slideshow": {
     "slide_type": "slide"
    }
   },
   "source": [
    "Forget realize food cultural fast keep. Arm shake him what other yard people.\n",
    "Consumer physical if cup child let. Right until suddenly visit. Carry most coach inside consider seven these."
   ]
  },
  {
   "cell_type": "markdown",
   "metadata": {
    "slideshow": {
     "slide_type": "slide"
    }
   },
   "source": [
    "So money dinner most. Candidate finish magazine debate yard myself.\n",
    "Community analysis parent world sit but happen practice. New single away nature. Maybe read standard answer most thousand."
   ]
  },
  {
   "cell_type": "markdown",
   "metadata": {
    "slideshow": {
     "slide_type": "slide"
    }
   },
   "source": [
    "Nice with big decide capital. Democrat final minute increase check without. Also idea into skin.\n",
    "That car decision else point road. Answer off so. Reflect we ask quickly term decade."
   ]
  },
  {
   "cell_type": "markdown",
   "metadata": {
    "slideshow": {
     "slide_type": "slide"
    }
   },
   "source": [
    "<!--NAVIGATOR-->\n",
    "\n",
    "---\n",
    "[<- Previous](11.00-Who_Stole_the_Tarts+u003f.ipynb) | [Alice's Adventures in Wonderland](00.00-Alice's_Adventures_in_Wonderland.ipynb) "
   ]
  }
 ],
 "metadata": {},
 "nbformat": 4,
 "nbformat_minor": 2
}
