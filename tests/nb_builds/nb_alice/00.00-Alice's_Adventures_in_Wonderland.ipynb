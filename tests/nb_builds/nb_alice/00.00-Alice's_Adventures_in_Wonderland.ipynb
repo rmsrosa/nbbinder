{
 "cells": [
  {
   "cell_type": "markdown",
   "metadata": {
    "slideshow": {
     "slide_type": "skip"
    }
   },
   "source": [
    "<!--HEADER-->\n",
    "NBBinder test on a collection of notebooks named after the chapters of 'Alice's Adventures in Wonderland'"
   ]
  },
  {
   "cell_type": "markdown",
   "metadata": {
    "slideshow": {
     "slide_type": "skip"
    }
   },
   "source": [
    "<!--NAVIGATOR-->\n",
    "| [Alice's Adventures in Wonderland](00.00-Alice's_Adventures_in_Wonderland.ipynb) | [Next ->](01.00-Down_the_Rabbit-Hole.ipynb)\n",
    "\n",
    "---\n"
   ]
  },
  {
   "cell_type": "markdown",
   "metadata": {},
   "source": [
    "# Alice's Adventures in Wonderland"
   ]
  },
  {
   "cell_type": "markdown",
   "metadata": {
    "slideshow": {
     "slide_type": "slide"
    }
   },
   "source": [
    "Account treat vote old. Better great admit would. Get perhaps past.\n",
    "Consumer boy address main. Ask must letter own become."
   ]
  },
  {
   "cell_type": "markdown",
   "metadata": {
    "slideshow": {
     "slide_type": "slide"
    }
   },
   "source": [
    "Agree get book morning. Law indicate production American even.\n",
    "Single let none share. Game staff live situation likely stage think."
   ]
  },
  {
   "cell_type": "markdown",
   "metadata": {
    "slideshow": {
     "slide_type": "slide"
    }
   },
   "source": [
    "Answer experience also medical because. Figure leave one task read we. However relate thought may."
   ]
  },
  {
   "cell_type": "markdown",
   "metadata": {
    "slideshow": {
     "slide_type": "slide"
    }
   },
   "source": [
    "<!--TABLE_OF_CONTENTS-->\n",
    "## [Table of Contents](#)\n",
    "\n",
    "### [Alice's Adventures in Wonderland](00.00-Alice's_Adventures_in_Wonderland.ipynb)\n",
    "\n",
    "### [1. Down the Rabbit-Hole](01.00-Down_the_Rabbit-Hole.ipynb)\n",
    "\n",
    "### [2. The Pool of Tears](02.00-The_Pool_of_Tears.ipynb)\n",
    "\n",
    "### [3. A Caucus-Race and a Long Tale](03.00-A_Caucus-Race_and_a_Long_Tale.ipynb)\n",
    "\n",
    "### [4. The Rabbit Sends in a Little Bill](04.00-The_Rabbit_Sends_in_a_Little_Bill.ipynb)\n",
    "\n",
    "### [5. Advice from a Caterpillar](05.00-Advice_from_a_Caterpillar.ipynb)\n",
    "\n",
    "### [6. Pig and Pepper](06.00-Pig_and_Pepper.ipynb)\n",
    "\n",
    "### [7. A Mad Tea-Party](07.00-A_Mad_Tea-Party.ipynb)\n",
    "\n",
    "### [8. The Queen's Croquet-Ground](08.00-The_Queen's_Croquet-Ground.ipynb)\n",
    "\n",
    "### [9. The Mock Turtle's Story](09.00-The_Mock_Turtle's_Story.ipynb)\n",
    "\n",
    "### [10. The Lobster Quadrille](10.00-The_Lobster_Quadrille.ipynb)\n",
    "\n",
    "### [11. Who Stole the Tarts?](11.00-Who_Stole_the_Tarts+u003f.ipynb)\n",
    "\n",
    "### [12. Alice's Evidence](12.00-Alice's_Evidence.ipynb)\n",
    "\n"
   ]
  },
  {
   "cell_type": "markdown",
   "metadata": {
    "slideshow": {
     "slide_type": "slide"
    }
   },
   "source": [
    "<!--NAVIGATOR-->\n",
    "\n",
    "---\n",
    "| [Alice's Adventures in Wonderland](00.00-Alice's_Adventures_in_Wonderland.ipynb) | [Next ->](01.00-Down_the_Rabbit-Hole.ipynb)"
   ]
  }
 ],
 "metadata": {},
 "nbformat": 4,
 "nbformat_minor": 2
}
