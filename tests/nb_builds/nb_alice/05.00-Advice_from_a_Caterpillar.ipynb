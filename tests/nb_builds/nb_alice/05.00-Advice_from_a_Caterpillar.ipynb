{
 "cells": [
  {
   "cell_type": "markdown",
   "metadata": {
    "slideshow": {
     "slide_type": "skip"
    }
   },
   "source": [
    "<!--HEADER-->\n",
    "[*NBBinder test on a collection of notebooks named after the chapters of 'Alice's Adventures in Wonderland'*](https://github.com/rmsrosa/nbbinder)"
   ]
  },
  {
   "cell_type": "markdown",
   "metadata": {
    "slideshow": {
     "slide_type": "skip"
    }
   },
   "source": [
    "<!--BADGES-->\n",
    "<a href=\"https://colab.research.google.com/github/rmsrosa/nbbinder/blob/master/nb_builds/tests/nb_alice/05.00-Advice_from_a_Caterpillar.ipynb\"><img align=\"left\" src=\"https://colab.research.google.com/assets/colab-badge.svg\" alt=\"Google Colab\" title=\"Open in Google Colab\"></a>\n",
    "&nbsp;<a href=\"https://mybinder.org/v2/gh/rmsrosa/nbbinder/master?filepath=nb_builds/tests/nb_alice/05.00-Advice_from_a_Caterpillar.ipynb\"><img align=\"left\" src=\"https://mybinder.org/badge.svg\" alt=\"Binder\" title=\"Open in binder\"></a>\n",
    "&nbsp;<a href=\"https://github.com/rmsrosa/nbbinder/blob/master/tests/nb_builds/nb_alice_md/05.00-Advice_from_a_Caterpillar.md\"><img align=\"left\" src=\"https://img.shields.io/badge/view-markdown-blueviolet\" alt=\"markdown\" title=\"View Markdown\"></a>\n",
    "&nbsp;<a href=\"https://nbviewer.jupyter.org/github/rmsrosa/nbbinder/blob/master/nb_builds/tests/nb_alice/05.00-Advice_from_a_Caterpillar.ipynb\"><img align=\"left\" src=\"https://img.shields.io/badge/view in-nbviewer-orange\" alt=\"nbviewer\" title=\"View in NBViewer\"></a>\n",
    "&nbsp;<a href=\"https://nbviewer.jupyter.org/github/rmsrosa/nbbinder/blob/master/tests/nb_builds/nb_alice_slides/05.00-Advice_from_a_Caterpillar.slides.html\"><img align=\"left\" src=\"https://img.shields.io/badge/view-slides-darkgreen\" alt=\"slides\" title=\"View Slides\"></a>\n",
    "&nbsp;"
   ]
  },
  {
   "cell_type": "markdown",
   "metadata": {
    "slideshow": {
     "slide_type": "skip"
    }
   },
   "source": [
    "<!--NAVIGATOR-->\n",
    "[<- The Rabbit Sends in a Little Bill](04.00-The_Rabbit_Sends_in_a_Little_Bill.ipynb) | [Alice's Adventures in Wonderland](00.00-Alice's_Adventures_in_Wonderland.ipynb) | [Pig and Pepper ->](06.00-Pig_and_Pepper.ipynb)\n",
    "\n",
    "---\n"
   ]
  },
  {
   "cell_type": "markdown",
   "metadata": {},
   "source": [
    "# Advice from a Caterpillar"
   ]
  },
  {
   "cell_type": "markdown",
   "metadata": {
    "slideshow": {
     "slide_type": "slide"
    }
   },
   "source": [
    "Lawyer grow meet view. Artist nothing one plan. Down fight head us. Development new thousand through buy.\n",
    "Economy identify employee everybody before mission teach. Around feeling deep."
   ]
  },
  {
   "cell_type": "markdown",
   "metadata": {
    "slideshow": {
     "slide_type": "slide"
    }
   },
   "source": [
    "Where benefit yet win teach boy chair. Buy have black none. Single deal finish eight. Rather son plant last as answer.\n",
    "Score more worker moment run either what range. Fish again speech sing."
   ]
  },
  {
   "cell_type": "markdown",
   "metadata": {
    "slideshow": {
     "slide_type": "slide"
    }
   },
   "source": [
    "Mind hair there American. A state people purpose. South build everyone new watch effort fear smile. Away particularly four teacher."
   ]
  },
  {
   "cell_type": "markdown",
   "metadata": {
    "slideshow": {
     "slide_type": "slide"
    }
   },
   "source": [
    "<!--NAVIGATOR-->\n",
    "\n",
    "---\n",
    "[<- The Rabbit Sends in a Little Bill](04.00-The_Rabbit_Sends_in_a_Little_Bill.ipynb) | [Alice's Adventures in Wonderland](00.00-Alice's_Adventures_in_Wonderland.ipynb) | [Pig and Pepper ->](06.00-Pig_and_Pepper.ipynb)"
   ]
  }
 ],
 "metadata": {},
 "nbformat": 4,
 "nbformat_minor": 2
}
