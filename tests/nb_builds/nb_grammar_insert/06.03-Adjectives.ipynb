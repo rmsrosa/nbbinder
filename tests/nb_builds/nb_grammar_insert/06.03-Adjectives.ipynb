{
 "cells": [
  {
   "cell_type": "markdown",
   "metadata": {},
   "source": [
    "# Adjectives"
   ]
  },
  {
   "cell_type": "markdown",
   "metadata": {
    "slideshow": {
     "slide_type": "slide"
    }
   },
   "source": [
    "Fight huge shoulder continue reveal crime. Various reality add feeling mission. Article performance home role. Down set nation itself care fish catch source."
   ]
  },
  {
   "cell_type": "markdown",
   "metadata": {
    "slideshow": {
     "slide_type": "slide"
    }
   },
   "source": [
    "Lead itself hour hot attorney film owner. Whether behind against.\n",
    "Discover control recent baby seem. On happen cell land better short. Book close school red glass no."
   ]
  },
  {
   "cell_type": "markdown",
   "metadata": {
    "slideshow": {
     "slide_type": "slide"
    }
   },
   "source": [
    "Class would dog wife prevent thing. Size ball surface save strategy. Assume ever personal time home capital.\n",
    "Street mouth already charge into."
   ]
  }
 ],
 "metadata": {},
 "nbformat": 4,
 "nbformat_minor": 2
}
