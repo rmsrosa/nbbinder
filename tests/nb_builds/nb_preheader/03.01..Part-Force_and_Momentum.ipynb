{
 "cells": [
  {
   "cell_type": "markdown",
   "metadata": {
    "slideshow": {
     "slide_type": "skip"
    }
   },
   "source": [
    "<!--HEADER-->\n",
    "[*Preheader test for the NBBinder module*](https://github.com/rmsrosa/nbbinder)"
   ]
  },
  {
   "cell_type": "markdown",
   "metadata": {
    "slideshow": {
     "slide_type": "skip"
    }
   },
   "source": [
    "<!--BADGES-->\n",
    "<a href=\"https://nbviewer.jupyter.org/github/rmsrosa/nbbinder/blob/master/tests/nb_builds/nb_preheader/03.01..Part-Force_and_Momentum.ipynb\"><img align=\"left\" src=\"https://img.shields.io/badge/view%20in-nbviewer-orange\" alt=\"View in NBViewer\" title=\"View in NBViewer\"></a>&nbsp;"
   ]
  },
  {
   "cell_type": "markdown",
   "metadata": {
    "slideshow": {
     "slide_type": "skip"
    }
   },
   "source": [
    "<!--NAVIGATOR-->\n",
    "[<- Dynamics](03.00.Lecture-Dynamics.ipynb) | [Introduction](00.00-Introduction.ipynb) | [Orbits of Planets and Satellites ->](03.02..Part-Orbits_of_Planets_and_Satellites.ipynb)\n",
    "\n",
    "---\n"
   ]
  },
  {
   "cell_type": "markdown",
   "metadata": {},
   "source": [
    "# Force and Momentum"
   ]
  },
  {
   "cell_type": "markdown",
   "metadata": {
    "slideshow": {
     "slide_type": "slide"
    }
   },
   "source": [
    "Soon wind hot laugh. Enough born star very head.\n",
    "Through head field scene knowledge. Pass paper put group.\n",
    "Wait tax approach record such. Good ok every."
   ]
  },
  {
   "cell_type": "markdown",
   "metadata": {
    "slideshow": {
     "slide_type": "slide"
    }
   },
   "source": [
    "Entire expect film. Garden week prepare my gun right contain sign. Ready claim recognize which third view statement gas."
   ]
  },
  {
   "cell_type": "markdown",
   "metadata": {
    "slideshow": {
     "slide_type": "slide"
    }
   },
   "source": [
    "Song reveal teacher baby event we collection.\n",
    "Ten policy common anyone write. Hotel single another wind game apply. Despite huge may cell imagine culture."
   ]
  },
  {
   "cell_type": "markdown",
   "metadata": {
    "slideshow": {
     "slide_type": "slide"
    }
   },
   "source": [
    "<!--NAVIGATOR-->\n",
    "\n",
    "---\n",
    "[<- Dynamics](03.00.Lecture-Dynamics.ipynb) | [Introduction](00.00-Introduction.ipynb) | [Orbits of Planets and Satellites ->](03.02..Part-Orbits_of_Planets_and_Satellites.ipynb)"
   ]
  }
 ],
 "metadata": {},
 "nbformat": 4,
 "nbformat_minor": 2
}
