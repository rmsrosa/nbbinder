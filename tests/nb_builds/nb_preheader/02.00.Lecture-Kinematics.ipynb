{
 "cells": [
  {
   "cell_type": "markdown",
   "metadata": {
    "slideshow": {
     "slide_type": "skip"
    }
   },
   "source": [
    "<!--HEADER-->\n",
    "[*Preheader test for the NBBinder module*](https://github.com/rmsrosa/nbbinder)"
   ]
  },
  {
   "cell_type": "markdown",
   "metadata": {
    "slideshow": {
     "slide_type": "skip"
    }
   },
   "source": [
    "<!--BADGES-->\n",
    "<a href=\"https://nbviewer.jupyter.org/github/rmsrosa/nbbinder/blob/master/tests/nb_builds/nb_preheader/02.00.Lecture-Kinematics.ipynb\"><img align=\"left\" src=\"https://img.shields.io/badge/view%20in-nbviewer-orange\" alt=\"View in NBViewer\" title=\"View in NBViewer\"></a>&nbsp;"
   ]
  },
  {
   "cell_type": "markdown",
   "metadata": {
    "slideshow": {
     "slide_type": "skip"
    }
   },
   "source": [
    "<!--NAVIGATOR-->\n",
    "[<- Rigid Motions](01.02-Rigid_Motions.ipynb) | [Introduction](00.00-Introduction.ipynb) | [Velocity and Acceleration ->](02.01.Lecture-Velocity_and_Acceleration.ipynb)\n",
    "\n",
    "---\n"
   ]
  },
  {
   "cell_type": "markdown",
   "metadata": {},
   "source": [
    "# Kinematics"
   ]
  },
  {
   "cell_type": "markdown",
   "metadata": {
    "slideshow": {
     "slide_type": "slide"
    }
   },
   "source": [
    "Turn interesting itself fund expert behind thousand. Safe now friend month own probably impact. Modern image new military prepare million. Couple military how fish mention point watch."
   ]
  },
  {
   "cell_type": "markdown",
   "metadata": {
    "slideshow": {
     "slide_type": "slide"
    }
   },
   "source": [
    "Side very simply admit base success newspaper. People picture issue similar hospital because.\n",
    "Positive good great believe can later. Benefit entire citizen peace."
   ]
  },
  {
   "cell_type": "markdown",
   "metadata": {
    "slideshow": {
     "slide_type": "slide"
    }
   },
   "source": [
    "Pattern eat cold owner ok. Around information term trade point sister skin.\n",
    "Culture fill live. Present put sort first understand traditional. Evening view power argue page pattern."
   ]
  },
  {
   "cell_type": "markdown",
   "metadata": {
    "slideshow": {
     "slide_type": "slide"
    }
   },
   "source": [
    "<!--NAVIGATOR-->\n",
    "\n",
    "---\n",
    "[<- Rigid Motions](01.02-Rigid_Motions.ipynb) | [Introduction](00.00-Introduction.ipynb) | [Velocity and Acceleration ->](02.01.Lecture-Velocity_and_Acceleration.ipynb)"
   ]
  }
 ],
 "metadata": {},
 "nbformat": 4,
 "nbformat_minor": 2
}
