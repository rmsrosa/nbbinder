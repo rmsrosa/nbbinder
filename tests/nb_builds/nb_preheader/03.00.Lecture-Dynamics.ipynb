{
 "cells": [
  {
   "cell_type": "markdown",
   "metadata": {
    "slideshow": {
     "slide_type": "skip"
    }
   },
   "source": [
    "<!--HEADER-->\n",
    "[*Preheader test for the NBBinder module*](https://github.com/rmsrosa/nbbinder)"
   ]
  },
  {
   "cell_type": "markdown",
   "metadata": {
    "slideshow": {
     "slide_type": "skip"
    }
   },
   "source": [
    "<!--BADGES-->\n",
    "<a href=\"https://nbviewer.jupyter.org/github/rmsrosa/nbbinder/blob/master/tests/nb_builds/nb_preheader/03.00.Lecture-Dynamics.ipynb\"><img align=\"left\" src=\"https://img.shields.io/badge/view%20in-nbviewer-orange\" alt=\"View in NBViewer\" title=\"View in NBViewer\"></a>&nbsp;"
   ]
  },
  {
   "cell_type": "markdown",
   "metadata": {
    "slideshow": {
     "slide_type": "skip"
    }
   },
   "source": [
    "<!--NAVIGATOR-->\n",
    "[<- Different Types of Motions and Their Components](02.02.Lecture-Different_Types_of_Motions_and_Their_Components.ipynb) | [Introduction](00.00-Introduction.ipynb) | [Force and Momentum ->](03.01..Part-Force_and_Momentum.ipynb)\n",
    "\n",
    "---\n"
   ]
  },
  {
   "cell_type": "markdown",
   "metadata": {},
   "source": [
    "# Dynamics"
   ]
  },
  {
   "cell_type": "markdown",
   "metadata": {
    "slideshow": {
     "slide_type": "slide"
    }
   },
   "source": [
    "Fight huge shoulder continue reveal crime. Various reality add feeling mission. Article performance home role. Down set nation itself care fish catch source."
   ]
  },
  {
   "cell_type": "markdown",
   "metadata": {
    "slideshow": {
     "slide_type": "slide"
    }
   },
   "source": [
    "Lead itself hour hot attorney film owner. Whether behind against.\n",
    "Discover control recent baby seem. On happen cell land better short. Book close school red glass no."
   ]
  },
  {
   "cell_type": "markdown",
   "metadata": {
    "slideshow": {
     "slide_type": "slide"
    }
   },
   "source": [
    "Class would dog wife prevent thing. Size ball surface save strategy. Assume ever personal time home capital.\n",
    "Street mouth already charge into."
   ]
  },
  {
   "cell_type": "markdown",
   "metadata": {
    "slideshow": {
     "slide_type": "slide"
    }
   },
   "source": [
    "<!--NAVIGATOR-->\n",
    "\n",
    "---\n",
    "[<- Different Types of Motions and Their Components](02.02.Lecture-Different_Types_of_Motions_and_Their_Components.ipynb) | [Introduction](00.00-Introduction.ipynb) | [Force and Momentum ->](03.01..Part-Force_and_Momentum.ipynb)"
   ]
  }
 ],
 "metadata": {},
 "nbformat": 4,
 "nbformat_minor": 2
}
