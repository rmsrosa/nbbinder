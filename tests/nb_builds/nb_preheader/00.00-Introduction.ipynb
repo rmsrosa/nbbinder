{
 "cells": [
  {
   "cell_type": "markdown",
   "metadata": {
    "slideshow": {
     "slide_type": "skip"
    }
   },
   "source": [
    "<!--HEADER-->\n",
    "[*Preheader test for the NBBinder module*](https://github.com/rmsrosa/nbbinder)"
   ]
  },
  {
   "cell_type": "markdown",
   "metadata": {
    "slideshow": {
     "slide_type": "skip"
    }
   },
   "source": [
    "<!--BADGES-->\n",
    "<a href=\"https://nbviewer.jupyter.org/github/rmsrosa/nbbinder/blob/master/tests/nb_builds/nb_preheader/00.00-Introduction.ipynb\"><img align=\"left\" src=\"https://img.shields.io/badge/view%20in-nbviewer-orange\" alt=\"View in NBViewer\" title=\"View in NBViewer\"></a>&nbsp;"
   ]
  },
  {
   "cell_type": "markdown",
   "metadata": {
    "slideshow": {
     "slide_type": "skip"
    }
   },
   "source": [
    "<!--NAVIGATOR-->\n",
    "| [Introduction](00.00-Introduction.ipynb) | [Math Background ->](01.00.Lecture-Math_Background.ipynb)\n",
    "\n",
    "---\n"
   ]
  },
  {
   "cell_type": "markdown",
   "metadata": {},
   "source": [
    "# Introduction"
   ]
  },
  {
   "cell_type": "markdown",
   "metadata": {
    "slideshow": {
     "slide_type": "slide"
    }
   },
   "source": [
    "Account treat vote old. Better great admit would. Get perhaps past.\n",
    "Consumer boy address main. Ask must letter own become."
   ]
  },
  {
   "cell_type": "markdown",
   "metadata": {
    "slideshow": {
     "slide_type": "slide"
    }
   },
   "source": [
    "Agree get book morning. Law indicate production American even.\n",
    "Single let none share. Game staff live situation likely stage think."
   ]
  },
  {
   "cell_type": "markdown",
   "metadata": {
    "slideshow": {
     "slide_type": "slide"
    }
   },
   "source": [
    "Answer experience also medical because. Figure leave one task read we. However relate thought may."
   ]
  },
  {
   "cell_type": "markdown",
   "metadata": {
    "slideshow": {
     "slide_type": "slide"
    }
   },
   "source": [
    "<!--TABLE_OF_CONTENTS-->\n",
    "## [Contents](#)\n",
    "\n",
    "### [Introduction](00.00-Introduction.ipynb)\n",
    "\n",
    "### [Lecture 1. Math Background](01.00.Lecture-Math_Background.ipynb)\n",
    "\n",
    "&nbsp;&nbsp;&nbsp;&nbsp; [1.1. Vector Calculus](01.01-Vector_Calculus.ipynb)\n",
    "\n",
    "&nbsp;&nbsp;&nbsp;&nbsp; [1.2. Rigid Motions](01.02-Rigid_Motions.ipynb)\n",
    "\n",
    "### [Lecture 2. Kinematics](02.00.Lecture-Kinematics.ipynb)\n",
    "\n",
    "&nbsp;&nbsp;&nbsp;&nbsp; [Lecture 2.1. Velocity and Acceleration](02.01.Lecture-Velocity_and_Acceleration.ipynb)\n",
    "\n",
    "&nbsp;&nbsp;&nbsp;&nbsp; [Lecture 2.2. Different Types of Motions and Their Components](02.02.Lecture-Different_Types_of_Motions_and_Their_Components.ipynb)\n",
    "\n",
    "### [Lecture 3. Dynamics](03.00.Lecture-Dynamics.ipynb)\n",
    "\n",
    "&nbsp;&nbsp;&nbsp;&nbsp; [Part 1. Force and Momentum](03.01..Part-Force_and_Momentum.ipynb)\n",
    "\n",
    "&nbsp;&nbsp;&nbsp;&nbsp; [Part 2. Orbits of Planets and Satellites](03.02..Part-Orbits_of_Planets_and_Satellites.ipynb)\n",
    "\n",
    "&nbsp;&nbsp;&nbsp;&nbsp; [Part 3. Interception and Rendezvous](03.03..Part-Interception_and_Rendezvous.ipynb)\n",
    "\n",
    "### [Lecture 4. Trajectory Optimization](04.00.Lecture-Trajectory_Optimization.ipynb)\n",
    "\n",
    "&nbsp;&nbsp;&nbsp;&nbsp; [Lecture 4. Part 1. Performance](04.01.Lecture.Part-Performance.ipynb)\n",
    "\n",
    "&nbsp;&nbsp;&nbsp;&nbsp; [Lecture 4. Part 2. Gravity Turn](04.02.Lecture.Part-Gravity_Turn.ipynb)\n",
    "\n",
    "&nbsp;&nbsp;&nbsp;&nbsp; [Lecture 4. Part 3. Optimization](04.03.Lecture.Part-Optimization.ipynb)\n",
    "\n",
    "### [References](AA.00-References.ipynb)\n",
    "\n"
   ]
  },
  {
   "cell_type": "markdown",
   "metadata": {
    "slideshow": {
     "slide_type": "slide"
    }
   },
   "source": [
    "<!--NAVIGATOR-->\n",
    "\n",
    "---\n",
    "| [Introduction](00.00-Introduction.ipynb) | [Math Background ->](01.00.Lecture-Math_Background.ipynb)"
   ]
  }
 ],
 "metadata": {},
 "nbformat": 4,
 "nbformat_minor": 2
}
