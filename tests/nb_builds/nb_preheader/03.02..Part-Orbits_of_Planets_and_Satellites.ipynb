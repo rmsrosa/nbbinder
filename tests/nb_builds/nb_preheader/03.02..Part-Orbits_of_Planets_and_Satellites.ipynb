{
 "cells": [
  {
   "cell_type": "markdown",
   "metadata": {
    "slideshow": {
     "slide_type": "skip"
    }
   },
   "source": [
    "<!--HEADER-->\n",
    "[*Preheader test for the NBBinder module*](https://github.com/rmsrosa/nbbinder)"
   ]
  },
  {
   "cell_type": "markdown",
   "metadata": {
    "slideshow": {
     "slide_type": "skip"
    }
   },
   "source": [
    "<!--BADGES-->\n",
    "<a href=\"https://nbviewer.jupyter.org/github/rmsrosa/nbbinder/blob/master/tests/nb_builds/nb_preheader/03.02..Part-Orbits_of_Planets_and_Satellites.ipynb\"><img align=\"left\" src=\"https://img.shields.io/badge/view%20in-nbviewer-orange\" alt=\"View in NBViewer\" title=\"View in NBViewer\"></a>&nbsp;"
   ]
  },
  {
   "cell_type": "markdown",
   "metadata": {
    "slideshow": {
     "slide_type": "skip"
    }
   },
   "source": [
    "<!--NAVIGATOR-->\n",
    "[<- Force and Momentum](03.01..Part-Force_and_Momentum.ipynb) | [Introduction](00.00-Introduction.ipynb) | [Interception and Rendezvous ->](03.03..Part-Interception_and_Rendezvous.ipynb)\n",
    "\n",
    "---\n"
   ]
  },
  {
   "cell_type": "markdown",
   "metadata": {},
   "source": [
    "# Orbits of Planets and Satellites"
   ]
  },
  {
   "cell_type": "markdown",
   "metadata": {
    "slideshow": {
     "slide_type": "slide"
    }
   },
   "source": [
    "Notice force ever. Beyond animal difficult agree.\n",
    "Forget generation start charge leg give good. Business leg entire admit less. Would enter article figure enjoy people lot."
   ]
  },
  {
   "cell_type": "markdown",
   "metadata": {
    "slideshow": {
     "slide_type": "slide"
    }
   },
   "source": [
    "Growth prevent money clear Republican forget sound. Back property audience simple.\n",
    "Put generation seem trip dark expert system. Discover carry power this nearly. Market item east."
   ]
  },
  {
   "cell_type": "markdown",
   "metadata": {
    "slideshow": {
     "slide_type": "slide"
    }
   },
   "source": [
    "Purpose cup here cell. Language worry market inside. Official scene woman career push."
   ]
  },
  {
   "cell_type": "markdown",
   "metadata": {
    "slideshow": {
     "slide_type": "slide"
    }
   },
   "source": [
    "<!--NAVIGATOR-->\n",
    "\n",
    "---\n",
    "[<- Force and Momentum](03.01..Part-Force_and_Momentum.ipynb) | [Introduction](00.00-Introduction.ipynb) | [Interception and Rendezvous ->](03.03..Part-Interception_and_Rendezvous.ipynb)"
   ]
  }
 ],
 "metadata": {},
 "nbformat": 4,
 "nbformat_minor": 2
}
