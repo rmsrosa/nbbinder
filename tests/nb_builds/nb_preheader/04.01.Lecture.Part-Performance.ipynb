{
 "cells": [
  {
   "cell_type": "markdown",
   "metadata": {
    "slideshow": {
     "slide_type": "skip"
    }
   },
   "source": [
    "<!--HEADER-->\n",
    "[*Preheader test for the NBBinder module*](https://github.com/rmsrosa/nbbinder)"
   ]
  },
  {
   "cell_type": "markdown",
   "metadata": {
    "slideshow": {
     "slide_type": "skip"
    }
   },
   "source": [
    "<!--BADGES-->\n",
    "<a href=\"https://nbviewer.jupyter.org/github/rmsrosa/nbbinder/blob/master/tests/nb_builds/nb_preheader/04.01.Lecture.Part-Performance.ipynb\"><img align=\"left\" src=\"https://img.shields.io/badge/view%20in-nbviewer-orange\" alt=\"View in NBViewer\" title=\"View in NBViewer\"></a>&nbsp;"
   ]
  },
  {
   "cell_type": "markdown",
   "metadata": {
    "slideshow": {
     "slide_type": "skip"
    }
   },
   "source": [
    "<!--NAVIGATOR-->\n",
    "[<- Trajectory Optimization](04.00.Lecture-Trajectory_Optimization.ipynb) | [Introduction](00.00-Introduction.ipynb) | [Gravity Turn ->](04.02.Lecture.Part-Gravity_Turn.ipynb)\n",
    "\n",
    "---\n"
   ]
  },
  {
   "cell_type": "markdown",
   "metadata": {},
   "source": [
    "# Performance"
   ]
  },
  {
   "cell_type": "markdown",
   "metadata": {
    "slideshow": {
     "slide_type": "slide"
    }
   },
   "source": [
    "Forget realize food cultural fast keep. Arm shake him what other yard people.\n",
    "Consumer physical if cup child let. Right until suddenly visit. Carry most coach inside consider seven these."
   ]
  },
  {
   "cell_type": "markdown",
   "metadata": {
    "slideshow": {
     "slide_type": "slide"
    }
   },
   "source": [
    "So money dinner most. Candidate finish magazine debate yard myself.\n",
    "Community analysis parent world sit but happen practice. New single away nature. Maybe read standard answer most thousand."
   ]
  },
  {
   "cell_type": "markdown",
   "metadata": {
    "slideshow": {
     "slide_type": "slide"
    }
   },
   "source": [
    "Nice with big decide capital. Democrat final minute increase check without. Also idea into skin.\n",
    "That car decision else point road. Answer off so. Reflect we ask quickly term decade."
   ]
  },
  {
   "cell_type": "markdown",
   "metadata": {
    "slideshow": {
     "slide_type": "slide"
    }
   },
   "source": [
    "<!--NAVIGATOR-->\n",
    "\n",
    "---\n",
    "[<- Trajectory Optimization](04.00.Lecture-Trajectory_Optimization.ipynb) | [Introduction](00.00-Introduction.ipynb) | [Gravity Turn ->](04.02.Lecture.Part-Gravity_Turn.ipynb)"
   ]
  }
 ],
 "metadata": {},
 "nbformat": 4,
 "nbformat_minor": 2
}
