{
 "cells": [
  {
   "cell_type": "markdown",
   "metadata": {
    "slideshow": {
     "slide_type": "skip"
    }
   },
   "source": [
    "<!--HEADER-->\n",
    "[*Test Grammar for the NBBinder module*](https://github.com/rmsrosa/nbbinder)"
   ]
  },
  {
   "cell_type": "markdown",
   "metadata": {
    "slideshow": {
     "slide_type": "skip"
    }
   },
   "source": [
    "<!--NAVIGATOR-->\n",
    "[<- Project Requirements](02.00-Project_Requirements.ipynb) | [Front Page](00.00-Front_Page.ipynb) | [Bibliography](BB.00-Bibliography.ipynb) | [Parts of Speech ->](04.00-Parts_of_Speech.ipynb)\n",
    "\n",
    "---\n"
   ]
  },
  {
   "cell_type": "markdown",
   "metadata": {
    "slideshow": {
     "slide_type": "skip"
    }
   },
   "source": [
    "<!--BADGES-->\n",
    "<a href=\"https://colab.research.google.com/github/rmsrosa/nbbinder/blob/master/tests/nb_builds/nb_grammar_bound/03.00-The_History_of_Grammar.ipynb\"><img align=\"left\" src=\"https://colab.research.google.com/assets/colab-badge.svg\" alt=\"Google Colab\" title=\"Open in Google Colab\"></a>\n",
    "&nbsp;<a href=\"https://mybinder.org/v2/gh/rmsrosa/nbbinder/master?filepath=tests/nb_builds/nb_grammar_bound/03.00-The_History_of_Grammar.ipynb\"><img align=\"left\" src=\"https://mybinder.org/badge.svg\" alt=\"Binder\" title=\"Open in binder\"></a>\n",
    "&nbsp;"
   ]
  },
  {
   "cell_type": "markdown",
   "metadata": {},
   "source": [
    "# The History of Grammar"
   ]
  },
  {
   "cell_type": "markdown",
   "metadata": {
    "slideshow": {
     "slide_type": "slide"
    }
   },
   "source": [
    "Physical deal truth agency identify attorney. Audience each position research. Here site down few message who mind.\n",
    "Few show son may. Chair into month understand. Major song over environment."
   ]
  },
  {
   "cell_type": "markdown",
   "metadata": {
    "slideshow": {
     "slide_type": "slide"
    }
   },
   "source": [
    "Million get course. Successful admit theory staff door. Increase market forward."
   ]
  },
  {
   "cell_type": "markdown",
   "metadata": {
    "slideshow": {
     "slide_type": "slide"
    }
   },
   "source": [
    "Mention almost environmental maybe. Meet song role adult and water.\n",
    "Third discuss performance office throw."
   ]
  },
  {
   "cell_type": "markdown",
   "metadata": {
    "slideshow": {
     "slide_type": "slide"
    }
   },
   "source": [
    "<!--NAVIGATOR-->\n",
    "\n",
    "---\n",
    "[<- Project Requirements](02.00-Project_Requirements.ipynb) | [Front Page](00.00-Front_Page.ipynb) | [Bibliography](BB.00-Bibliography.ipynb) | [Parts of Speech ->](04.00-Parts_of_Speech.ipynb)"
   ]
  }
 ],
 "metadata": {},
 "nbformat": 4,
 "nbformat_minor": 2
}
