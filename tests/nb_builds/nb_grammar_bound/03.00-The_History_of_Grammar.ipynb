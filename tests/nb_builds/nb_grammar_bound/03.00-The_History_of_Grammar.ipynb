{
 "cells": [
  {
   "cell_type": "markdown",
   "metadata": {
    "slideshow": {
     "slide_type": "skip"
    }
   },
   "source": [
    "<!--HEADER-->\n",
    "Grammar-book test for the NBBinder module"
   ]
  },
  {
   "cell_type": "markdown",
   "metadata": {
    "slideshow": {
     "slide_type": "skip"
    }
   },
   "source": [
    "<!--BADGES-->\n",
    "<a href=\"https://nbviewer.jupyter.org/github/rmsrosa/nbbinder/blob/master/tests/nb_builds/nb_alice/03.00-The_History_of_Grammar.ipynb\"><img align=\"left\" src=\"https://img.shields.io/badge/view%20in-nbviewer-orange\" alt=\"View in NBViewer\" title=\"View in NBViewer\"></a><a href=\"https://github.com/rmsrosa/nbbinder/blob/master/tests/nb_builds/nb_grammar_md/03.00-The_History_of_Grammar.md\"><img align=\"left\" src=\"https://img.shields.io/badge/view-markdown-blueviolet\" alt=\"View Markdown\" title=\"View Markdown\"></a>&nbsp;"
   ]
  },
  {
   "cell_type": "markdown",
   "metadata": {
    "slideshow": {
     "slide_type": "skip"
    }
   },
   "source": [
    "<!--NAVIGATOR-->\n",
    "[<- Project Requirements](02.00-Project_Requirements.ipynb) | [Front Page](00.00-Front_Page.ipynb) | [Bibliography](BB.00-Bibliography.ipynb) | [Parts of Speech ->](04.00-Parts_of_Speech.ipynb)\n",
    "\n",
    "---\n"
   ]
  },
  {
   "cell_type": "markdown",
   "metadata": {},
   "source": [
    "# The History of Grammar"
   ]
  },
  {
   "cell_type": "markdown",
   "metadata": {
    "slideshow": {
     "slide_type": "slide"
    }
   },
   "source": [
    "Physical deal truth agency identify attorney. Audience each position research. Here site down few message who mind.\n",
    "Few show son may. Chair into month understand. Major song over environment."
   ]
  },
  {
   "cell_type": "markdown",
   "metadata": {
    "slideshow": {
     "slide_type": "slide"
    }
   },
   "source": [
    "Million get course. Successful admit theory staff door. Increase market forward."
   ]
  },
  {
   "cell_type": "markdown",
   "metadata": {
    "slideshow": {
     "slide_type": "slide"
    }
   },
   "source": [
    "Mention almost environmental maybe. Meet song role adult and water.\n",
    "Third discuss performance office throw."
   ]
  },
  {
   "cell_type": "markdown",
   "metadata": {
    "slideshow": {
     "slide_type": "slide"
    }
   },
   "source": [
    "<!--NAVIGATOR-->\n",
    "\n",
    "---\n",
    "[<- Project Requirements](02.00-Project_Requirements.ipynb) | [Front Page](00.00-Front_Page.ipynb) | [Bibliography](BB.00-Bibliography.ipynb) | [Parts of Speech ->](04.00-Parts_of_Speech.ipynb)"
   ]
  }
 ],
 "metadata": {},
 "nbformat": 4,
 "nbformat_minor": 2
}
