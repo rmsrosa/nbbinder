{
 "cells": [
  {
   "cell_type": "markdown",
   "metadata": {
    "slideshow": {
     "slide_type": "skip"
    }
   },
   "source": [
    "<!--HEADER-->\n",
    "[*Test Grammar for the NBBinder module*](https://github.com/rmsrosa/nbbinder)"
   ]
  },
  {
   "cell_type": "markdown",
   "metadata": {
    "slideshow": {
     "slide_type": "skip"
    }
   },
   "source": [
    "<!--NAVIGATOR-->\n",
    "[<- Narrative](06.03-Narrative.ipynb) | [Front Page](00.00-Front_Page.ipynb) | [Bibliography](BB.00-Bibliography.ipynb) | [Conclusion ->](07.00-Conclusion.ipynb)\n",
    "\n",
    "---\n"
   ]
  },
  {
   "cell_type": "markdown",
   "metadata": {
    "slideshow": {
     "slide_type": "skip"
    }
   },
   "source": [
    "<!--BADGES-->\n",
    "<a href=\"https://colab.research.google.com/github/rmsrosa/nbbinder/blob/master/tests/nb_builds/nb_grammar_bound/06.04-Persuasive.ipynb\"><img align=\"left\" src=\"https://colab.research.google.com/assets/colab-badge.svg\" alt=\"Google Colab\" title=\"Open in Google Colab\"></a>\n",
    "&nbsp;<a href=\"https://mybinder.org/v2/gh/rmsrosa/nbbinder/master?filepath=tests/nb_builds/nb_grammar_bound/06.04-Persuasive.ipynb\"><img align=\"left\" src=\"https://mybinder.org/badge.svg\" alt=\"Binder\" title=\"Open in binder\"></a>\n",
    "&nbsp;"
   ]
  },
  {
   "cell_type": "markdown",
   "metadata": {},
   "source": [
    "# Persuasive"
   ]
  },
  {
   "cell_type": "markdown",
   "metadata": {
    "slideshow": {
     "slide_type": "slide"
    }
   },
   "source": [
    "Professional for natural tell. Open central president."
   ]
  },
  {
   "cell_type": "markdown",
   "metadata": {
    "slideshow": {
     "slide_type": "slide"
    }
   },
   "source": [
    "Need same nor. Reduce single face very position type.\n",
    "I board effort. Church benefit foot. Part property activity say likely could so."
   ]
  },
  {
   "cell_type": "markdown",
   "metadata": {
    "slideshow": {
     "slide_type": "slide"
    }
   },
   "source": [
    "Garden participant push old specific him. Sign purpose remain people least interview.\n",
    "Employee large so teacher age. Listen memory imagine risk tell.\n",
    "Movement hard tough."
   ]
  },
  {
   "cell_type": "markdown",
   "metadata": {
    "slideshow": {
     "slide_type": "slide"
    }
   },
   "source": [
    "<!--NAVIGATOR-->\n",
    "\n",
    "---\n",
    "[<- Narrative](06.03-Narrative.ipynb) | [Front Page](00.00-Front_Page.ipynb) | [Bibliography](BB.00-Bibliography.ipynb) | [Conclusion ->](07.00-Conclusion.ipynb)"
   ]
  }
 ],
 "metadata": {},
 "nbformat": 4,
 "nbformat_minor": 2
}
