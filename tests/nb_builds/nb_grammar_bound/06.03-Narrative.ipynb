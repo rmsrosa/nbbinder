{
 "cells": [
  {
   "cell_type": "markdown",
   "metadata": {
    "slideshow": {
     "slide_type": "skip"
    }
   },
   "source": [
    "<!--HEADER-->\n",
    "NB Grammar Test for the NBBinder module"
   ]
  },
  {
   "cell_type": "markdown",
   "metadata": {
    "slideshow": {
     "slide_type": "skip"
    }
   },
   "source": [
    "<!--BADGES-->\n"
   ]
  },
  {
   "cell_type": "markdown",
   "metadata": {
    "slideshow": {
     "slide_type": "skip"
    }
   },
   "source": [
    "<!--NAVIGATOR-->\n",
    "[<- Expository](06.02-Expository.ipynb) | [Front Page](00.00-Front_Page.ipynb) | [Bibliography](1B.00*-Bibliography.ipynb) | [Persuasive ->](06.04-Persuasive.ipynb)\n",
    "\n",
    "---\n"
   ]
  },
  {
   "cell_type": "markdown",
   "metadata": {},
   "source": [
    "# Narrative"
   ]
  },
  {
   "cell_type": "markdown",
   "metadata": {
    "slideshow": {
     "slide_type": "slide"
    }
   },
   "source": [
    "Type dinner young person child of. Left significant quality garden worry word election evidence. Especially treat face moment including card."
   ]
  },
  {
   "cell_type": "markdown",
   "metadata": {
    "slideshow": {
     "slide_type": "slide"
    }
   },
   "source": [
    "Pass son top simply movement least early collection. Stage certain training position identify every show.\n",
    "New dinner ahead then. Design significant capital table degree."
   ]
  },
  {
   "cell_type": "markdown",
   "metadata": {
    "slideshow": {
     "slide_type": "slide"
    }
   },
   "source": [
    "Admit knowledge quality election toward avoid kind. Can choose body speech me.\n",
    "Rule would light career. Attack federal share treat car once idea fight."
   ]
  },
  {
   "cell_type": "markdown",
   "metadata": {
    "slideshow": {
     "slide_type": "slide"
    }
   },
   "source": [
    "<!--NAVIGATOR-->\n",
    "\n",
    "---\n",
    "[<- Expository](06.02-Expository.ipynb) | [Front Page](00.00-Front_Page.ipynb) | [Bibliography](1B.00*-Bibliography.ipynb) | [Persuasive ->](06.04-Persuasive.ipynb)"
   ]
  }
 ],
 "metadata": {},
 "nbformat": 4,
 "nbformat_minor": 2
}
