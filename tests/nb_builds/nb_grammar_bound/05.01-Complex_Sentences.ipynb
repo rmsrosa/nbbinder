{
 "cells": [
  {
   "cell_type": "markdown",
   "metadata": {
    "slideshow": {
     "slide_type": "skip"
    }
   },
   "source": [
    "<!--HEADER-->\n",
    "NB Grammar Test for the NBBinder module"
   ]
  },
  {
   "cell_type": "markdown",
   "metadata": {
    "slideshow": {
     "slide_type": "skip"
    }
   },
   "source": [
    "<!--BADGES-->\n"
   ]
  },
  {
   "cell_type": "markdown",
   "metadata": {
    "slideshow": {
     "slide_type": "skip"
    }
   },
   "source": [
    "<!--NAVIGATOR-->\n",
    "[<- Sentences](05.00-Sentences.ipynb) | [Front Page](00.00-Front_Page.ipynb) | [Bibliography](1B.00*-Bibliography.ipynb) | [Compound Sentences ->](05.02-Compound_Sentences.ipynb)\n",
    "\n",
    "---\n"
   ]
  },
  {
   "cell_type": "markdown",
   "metadata": {},
   "source": [
    "# Complex Sentences"
   ]
  },
  {
   "cell_type": "markdown",
   "metadata": {
    "slideshow": {
     "slide_type": "slide"
    }
   },
   "source": [
    "Left for figure sister skin. Same enjoy position short relationship. Start along up."
   ]
  },
  {
   "cell_type": "markdown",
   "metadata": {
    "slideshow": {
     "slide_type": "slide"
    }
   },
   "source": [
    "Blue something its drug movement. Wind like another receive visit blue. Remember energy total strong leave result."
   ]
  },
  {
   "cell_type": "markdown",
   "metadata": {
    "slideshow": {
     "slide_type": "slide"
    }
   },
   "source": [
    "Vote fine chance arrive. Music by eye son.\n",
    "Affect too successful. Degree audience shake agency."
   ]
  },
  {
   "cell_type": "markdown",
   "metadata": {
    "slideshow": {
     "slide_type": "slide"
    }
   },
   "source": [
    "<!--NAVIGATOR-->\n",
    "\n",
    "---\n",
    "[<- Sentences](05.00-Sentences.ipynb) | [Front Page](00.00-Front_Page.ipynb) | [Bibliography](1B.00*-Bibliography.ipynb) | [Compound Sentences ->](05.02-Compound_Sentences.ipynb)"
   ]
  }
 ],
 "metadata": {},
 "nbformat": 4,
 "nbformat_minor": 2
}
