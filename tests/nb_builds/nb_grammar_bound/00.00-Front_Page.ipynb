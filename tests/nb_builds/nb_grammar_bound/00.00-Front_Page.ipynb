{
 "cells": [
  {
   "cell_type": "markdown",
   "metadata": {
    "slideshow": {
     "slide_type": "skip"
    }
   },
   "source": [
    "<!--HEADER-->\n",
    "Grammar-book test for the NBBinder module"
   ]
  },
  {
   "cell_type": "markdown",
   "metadata": {
    "slideshow": {
     "slide_type": "skip"
    }
   },
   "source": [
    "<!--BADGES-->\n",
    "<a href=\"https://nbviewer.jupyter.org/github/rmsrosa/nbbinder/blob/master/tests/nb_builds/nb_alice/00.00-Front_Page.ipynb\"><img align=\"left\" src=\"https://img.shields.io/badge/view%20in-nbviewer-orange\" alt=\"View in NBViewer\" title=\"View in NBViewer\"></a><a href=\"https://github.com/rmsrosa/nbbinder/blob/master/tests/nb_builds/nb_grammar_md/00.00-Front_Page.md\"><img align=\"left\" src=\"https://img.shields.io/badge/view-markdown-blueviolet\" alt=\"View Markdown\" title=\"View Markdown\"></a>&nbsp;"
   ]
  },
  {
   "cell_type": "markdown",
   "metadata": {
    "slideshow": {
     "slide_type": "skip"
    }
   },
   "source": [
    "<!--NAVIGATOR-->\n",
    "| [Front Page](00.00-Front_Page.ipynb) | [Bibliography](BB.00-Bibliography.ipynb) | [Introduction ->](01.00-Introduction.ipynb)\n",
    "\n",
    "---\n"
   ]
  },
  {
   "cell_type": "markdown",
   "metadata": {},
   "source": [
    "# Front Page"
   ]
  },
  {
   "cell_type": "markdown",
   "metadata": {
    "slideshow": {
     "slide_type": "slide"
    }
   },
   "source": [
    "Account treat vote old. Better great admit would. Get perhaps past.\n",
    "Consumer boy address main. Ask must letter own become."
   ]
  },
  {
   "cell_type": "markdown",
   "metadata": {
    "slideshow": {
     "slide_type": "slide"
    }
   },
   "source": [
    "Agree get book morning. Law indicate production American even.\n",
    "Single let none share. Game staff live situation likely stage think."
   ]
  },
  {
   "cell_type": "markdown",
   "metadata": {
    "slideshow": {
     "slide_type": "slide"
    }
   },
   "source": [
    "Answer experience also medical because. Figure leave one task read we. However relate thought may."
   ]
  },
  {
   "cell_type": "markdown",
   "metadata": {
    "slideshow": {
     "slide_type": "slide"
    }
   },
   "source": [
    "<!--TABLE_OF_CONTENTS-->\n",
    "## [Table of Contents](#)\n",
    "\n",
    "### [Front Page](00.00-Front_Page.ipynb)\n",
    "\n",
    "### [1. Introduction](01.00-Introduction.ipynb)\n",
    "\n",
    "### [2. Project Requirements](02.00-Project_Requirements.ipynb)\n",
    "\n",
    "### [3. The History of Grammar](03.00-The_History_of_Grammar.ipynb)\n",
    "\n",
    "### [4. Parts of Speech](04.00-Parts_of_Speech.ipynb)\n",
    "\n",
    "&nbsp;&nbsp;&nbsp;&nbsp; [4.1. Nouns](04.01-Nouns.ipynb)\n",
    "\n",
    "&nbsp;&nbsp;&nbsp;&nbsp; [4.2. Verbs](04.02-Verbs.ipynb)\n",
    "\n",
    "&nbsp;&nbsp;&nbsp;&nbsp; [4.3. Adjectives](04.03-Adjectives.ipynb)\n",
    "\n",
    "&nbsp;&nbsp;&nbsp;&nbsp; [4.4. Adverbs](04.04-Adverbs.ipynb)\n",
    "\n",
    "### [5. Sentences](05.00-Sentences.ipynb)\n",
    "\n",
    "&nbsp;&nbsp;&nbsp;&nbsp; [5.1. Complex Sentences](05.01-Complex_Sentences.ipynb)\n",
    "\n",
    "&nbsp;&nbsp;&nbsp;&nbsp; [5.2. Compound Sentences](05.02-Compound_Sentences.ipynb)\n",
    "\n",
    "### [6. Paragraphs](06.00-Paragraphs.ipynb)\n",
    "\n",
    "&nbsp;&nbsp;&nbsp;&nbsp; [6.1. Descriptive](06.01-Descriptive.ipynb)\n",
    "\n",
    "&nbsp;&nbsp;&nbsp;&nbsp; [6.2. Expository](06.02-Expository.ipynb)\n",
    "\n",
    "&nbsp;&nbsp;&nbsp;&nbsp; [6.3. Narrative](06.03-Narrative.ipynb)\n",
    "\n",
    "&nbsp;&nbsp;&nbsp;&nbsp; [6.4. Persuasive](06.04-Persuasive.ipynb)\n",
    "\n",
    "### [7. Conclusion](07.00-Conclusion.ipynb)\n",
    "\n",
    "### [A. Appendix](A0.00-Appendix.ipynb)\n",
    "\n",
    "### [Glossary](BA.00-Glossary.ipynb)\n",
    "\n",
    "### [Bibliography](BB.00-Bibliography.ipynb)\n",
    "\n",
    "### [Index](BC.00-Index.ipynb)\n",
    "\n"
   ]
  },
  {
   "cell_type": "markdown",
   "metadata": {
    "slideshow": {
     "slide_type": "slide"
    }
   },
   "source": [
    "<!--NAVIGATOR-->\n",
    "\n",
    "---\n",
    "| [Front Page](00.00-Front_Page.ipynb) | [Bibliography](BB.00-Bibliography.ipynb) | [Introduction ->](01.00-Introduction.ipynb)"
   ]
  }
 ],
 "metadata": {},
 "nbformat": 4,
 "nbformat_minor": 2
}
