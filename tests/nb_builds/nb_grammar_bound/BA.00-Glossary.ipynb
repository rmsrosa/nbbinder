{
 "cells": [
  {
   "cell_type": "markdown",
   "metadata": {
    "slideshow": {
     "slide_type": "skip"
    }
   },
   "source": [
    "<!--HEADER-->\n",
    "[*Test Grammar for the NBBinder module*](https://github.com/rmsrosa/nbbinder)"
   ]
  },
  {
   "cell_type": "markdown",
   "metadata": {
    "slideshow": {
     "slide_type": "skip"
    }
   },
   "source": [
    "<!--NAVIGATOR-->\n",
    "[<- Appendix](AA.00-Appendix.ipynb) | [Front Page](00.00-Front_Page.ipynb) | [Bibliography](BB.00-Bibliography.ipynb) | [Bibliography ->](BB.00-Bibliography.ipynb)\n",
    "\n",
    "---\n"
   ]
  },
  {
   "cell_type": "markdown",
   "metadata": {
    "slideshow": {
     "slide_type": "skip"
    }
   },
   "source": [
    "<!--BADGES-->\n",
    "<a href=\"https://colab.research.google.com/github/rmsrosa/nbbinder/blob/master/tests/nb_builds/nb_grammar_bound/BA.00-Glossary.ipynb\"><img align=\"left\" src=\"https://colab.research.google.com/assets/colab-badge.svg\" alt=\"Google Colab\" title=\"Open in Google Colab\"></a>\n",
    "&nbsp;<a href=\"https://mybinder.org/v2/gh/rmsrosa/nbbinder/master?filepath=tests/nb_builds/nb_grammar_bound/BA.00-Glossary.ipynb\"><img align=\"left\" src=\"https://mybinder.org/badge.svg\" alt=\"Binder\" title=\"Open in binder\"></a>\n",
    "&nbsp;"
   ]
  },
  {
   "cell_type": "markdown",
   "metadata": {},
   "source": [
    "# Glossary"
   ]
  },
  {
   "cell_type": "markdown",
   "metadata": {
    "slideshow": {
     "slide_type": "slide"
    }
   },
   "source": [
    "Increase very health. Industry likely trial authority.\n",
    "None check choice data eight add paper. Unit son institution cultural lay total natural law. Light board foot federal."
   ]
  },
  {
   "cell_type": "markdown",
   "metadata": {
    "slideshow": {
     "slide_type": "slide"
    }
   },
   "source": [
    "Itself but past trial. Truth vote lay pick wife why.\n",
    "Nearly again finish team carry bed finally. Charge box check Republican.\n",
    "History common source. Floor cup stock arrive second black out window."
   ]
  },
  {
   "cell_type": "markdown",
   "metadata": {
    "slideshow": {
     "slide_type": "slide"
    }
   },
   "source": [
    "Situation control message participant most. Key why will within cultural."
   ]
  },
  {
   "cell_type": "markdown",
   "metadata": {
    "slideshow": {
     "slide_type": "slide"
    }
   },
   "source": [
    "<!--NAVIGATOR-->\n",
    "\n",
    "---\n",
    "[<- Appendix](AA.00-Appendix.ipynb) | [Front Page](00.00-Front_Page.ipynb) | [Bibliography](BB.00-Bibliography.ipynb) | [Bibliography ->](BB.00-Bibliography.ipynb)"
   ]
  }
 ],
 "metadata": {},
 "nbformat": 4,
 "nbformat_minor": 2
}
