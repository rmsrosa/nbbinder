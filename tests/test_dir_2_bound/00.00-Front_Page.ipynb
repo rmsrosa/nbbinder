{
 "cells": [
  {
   "cell_type": "markdown",
   "metadata": {},
   "source": [
    "<!--HEADER-->\n",
    "*[Test dir 2 for the nbbinder module](https://github.com/rmsrosa/nbbinder)*"
   ]
  },
  {
   "cell_type": "markdown",
   "metadata": {},
   "source": [
    "<!--NAVIGATOR-->\n",
    "\n",
    "<a href=\"https://colab.research.google.com/github/rmsrosa/nbbinder/blob/master/tests/notebooks/00.00-Front_Page.ipynb\"><img align=\"left\" src=\"https://colab.research.google.com/assets/colab-badge.svg\" alt=\"Open in Colab\" title=\"Open and Execute in Google Colaboratory\"></a>\n",
    "&nbsp;\n",
    "<a href=\"https://mybinder.org/v2/gh/rmsrosa/nbbinder/master?filepath=tests/notebooks/00.00-Front_Page.ipynb\"><img align=\"left\" src=\"https://mybinder.org/badge.svg\" alt=\"Open in binder\" title=\"Open and Execute in Binder\"></a>\n",
    "&nbsp;\n",
    "\n",
    "| [Front Page](00.00-Front_Page.ipynb) | [Foreword ->](00.01-Foreword.ipynb)\n",
    "\n",
    "---\n"
   ]
  },
  {
   "cell_type": "markdown",
   "metadata": {},
   "source": [
    "# Front Page"
   ]
  },
  {
   "cell_type": "markdown",
   "metadata": {},
   "source": [
    "That's all for this part of the Front Matter"
   ]
  },
  {
   "cell_type": "markdown",
   "metadata": {},
   "source": [
    "<!--TABLE_OF_CONTENTS-->\n",
    "\n",
    "### [Front Page](00.00-Front_Page.ipynb)\n",
    "\n",
    "### [Foreword](00.01-Foreword.ipynb)\n",
    "\n",
    "### [Dedicatory](00.02-Dedicatory.ipynb)\n",
    "\n",
    "### [Introduction](00.03-Introduction.ipynb)\n",
    "\n",
    "### [1. The Beginnings](01.00-The_Beginnings.ipynb)\n",
    "\n",
    "&nbsp;&nbsp;&nbsp;&nbsp; [1.1. Joyful Years](01.01-Joyful_Years.ipynb)\n",
    "\n",
    "&nbsp;&nbsp;&nbsp;&nbsp; [1.2. First Steps](01.02-First_Steps.ipynb)\n",
    "\n",
    "&nbsp;&nbsp;&nbsp;&nbsp; [1.3. A Scary Moment](01.03-A_Scary_Moment.ipynb)\n",
    "\n",
    "&nbsp;&nbsp;&nbsp;&nbsp; [1.4. Back to Normal](01.04-Back_to_Normal.ipynb)\n",
    "\n",
    "&nbsp;&nbsp;&nbsp;&nbsp; [1.5. Speaking Out](01.05-Speaking_Out.ipynb)\n",
    "\n",
    "### [2. Growing Up](02.00-Growing_Up.ipynb)\n",
    "\n",
    "&nbsp;&nbsp;&nbsp;&nbsp; [2.1. Out in the Wild](02.01-Out_in_the_Wild.ipynb)\n",
    "\n",
    "&nbsp;&nbsp;&nbsp;&nbsp; [2.2. Calming Down](02.02-Calming_Down.ipynb)\n",
    "\n",
    "### [3. Maturing](03.00-Maturing.ipynb)\n",
    "\n",
    "&nbsp;&nbsp;&nbsp;&nbsp; [3.1. Building a Nest](03.01-Building_a_Nest.ipynb)\n",
    "\n",
    "&nbsp;&nbsp;&nbsp;&nbsp; [3.2. History Repeats Itself](03.02-History_Repeats_Itself.ipynb)\n",
    "\n",
    "### [4. Growing Old](04.00-Growing_Old.ipynb)\n",
    "\n",
    "### [5. Melancholia](05.00-Melancholia.ipynb)\n",
    "\n",
    "### [6. Revival](06.00-Revival.ipynb)\n",
    "\n",
    "### [7. The End](07.00-The_End.ipynb)\n",
    "\n",
    "### [A. Appendix A](AA.00-Appendix_A.ipynb)\n",
    "\n",
    "### [B. Appendix B](AB.00-Appendix_B.ipynb)\n",
    "\n",
    "### [C. Appendix C](AC.00-Appendix_C.ipynb)\n",
    "\n",
    "### [Bibliography](BA.00-Bibliography.ipynb)\n",
    "\n",
    "### [Index](BB.00-Index.ipynb)\n",
    "\n"
   ]
  },
  {
   "cell_type": "markdown",
   "metadata": {},
   "source": [
    "<!--NAVIGATOR-->\n",
    "\n",
    "---\n",
    "| [Front Page](00.00-Front_Page.ipynb) | [Foreword ->](00.01-Foreword.ipynb)\n",
    "\n",
    "<a href=\"https://colab.research.google.com/github/rmsrosa/nbbinder/blob/master/tests/notebooks/00.00-Front_Page.ipynb\"><img align=\"left\" src=\"https://colab.research.google.com/assets/colab-badge.svg\" alt=\"Open in Colab\" title=\"Open and Execute in Google Colaboratory\"></a>\n",
    "\n",
    "<a href=\"https://mybinder.org/v2/gh/rmsrosa/nbbinder/master?filepath=tests/notebooks/00.00-Front_Page.ipynb\"><img align=\"left\" src=\"https://mybinder.org/badge.svg\" alt=\"Open in binder\" title=\"Open and Execute in Binder\"></a>\n",
    "&nbsp;"
   ]
  }
 ],
 "metadata": {},
 "nbformat": 4,
 "nbformat_minor": 2
}
